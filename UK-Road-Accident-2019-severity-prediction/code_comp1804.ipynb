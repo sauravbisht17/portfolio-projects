{
  "cells": [
    {
      "cell_type": "code",
      "execution_count": 42,
      "metadata": {
        "id": "GiomTLxeq5SC"
      },
      "outputs": [],
      "source": [
        "import pandas as pd \n",
        "import matplotlib.pyplot as plt \n",
        "import seaborn as sns \n",
        "import numpy as np \n",
        "from IPython.display import HTML\n",
        "def pretty_print_df(value_counts_):\n",
        "  \"Quick function to display value counts more nicely\"\n",
        "  display(HTML(pd.DataFrame(value_counts_).to_html()))\n"
      ]
    },
    {
      "cell_type": "code",
      "execution_count": 43,
      "metadata": {
        "id": "KSTs4jJ1vXzn"
      },
      "outputs": [],
      "source": [
        "data=pd.read_csv(\"OPTION1_uk_road_accident_2019_coursework_final.csv\")\n",
        "# Load dataset from local drive (for colab notebook)\n",
        "#from google.colab import files\n",
        "#import io\n",
        "\n",
        "#uploaded = files.upload()    # Will prompt you to select file: remember to choose the right one!\n",
        "#train_dataset = pd.read_csv(io.BytesIO(uploaded['OPTION1_uk_road_accident_2019_coursework_final.csv']))"
      ]
    },
    {
      "cell_type": "markdown",
      "metadata": {
        "id": "dcw3DO2m3uZF"
      },
      "source": [
        "# **EXPLORATORY DATA ANALYSIS**"
      ]
    },
    {
      "cell_type": "code",
      "execution_count": 44,
      "metadata": {
        "colab": {
          "base_uri": "https://localhost:8080/"
        },
        "id": "M6y8UkGntnBp",
        "outputId": "28af3270-c4c7-4e2d-de2e-db9015cbc738"
      },
      "outputs": [
        {
          "name": "stdout",
          "output_type": "stream",
          "text": [
            "Number of rows  31647\n",
            "Number of columns 14\n",
            "<class 'pandas.core.frame.DataFrame'>\n",
            "RangeIndex: 31647 entries, 0 to 31646\n",
            "Data columns (total 14 columns):\n",
            " #   Column                       Non-Null Count  Dtype  \n",
            "---  ------                       --------------  -----  \n",
            " 0   accident_index               31647 non-null  object \n",
            " 1   speed_limit                  31647 non-null  int64  \n",
            " 2   light_conditions             31647 non-null  object \n",
            " 3   weather_conditions           31647 non-null  object \n",
            " 4   road_surface_conditions      31647 non-null  object \n",
            " 5   vehicle_type                 31647 non-null  object \n",
            " 6   junction_location            31647 non-null  object \n",
            " 7   skidding_and_overturning     31647 non-null  object \n",
            " 8   vehicle_leaving_carriageway  31647 non-null  object \n",
            " 9   hit_object_off_carriageway   31647 non-null  object \n",
            " 10  first_point_of_impact        31647 non-null  object \n",
            " 11  sex_of_driver                31647 non-null  object \n",
            " 12  age_of_oldest_driver         25197 non-null  float64\n",
            " 13  accident_severity            30475 non-null  object \n",
            "dtypes: float64(1), int64(1), object(12)\n",
            "memory usage: 3.4+ MB\n",
            "Number of rows  31647\n",
            "Number of columns 14\n",
            "<class 'pandas.core.frame.DataFrame'>\n",
            "RangeIndex: 31647 entries, 0 to 31646\n",
            "Data columns (total 14 columns):\n",
            " #   Column                       Non-Null Count  Dtype  \n",
            "---  ------                       --------------  -----  \n",
            " 0   accident_index               31647 non-null  object \n",
            " 1   speed_limit                  31647 non-null  int64  \n",
            " 2   light_conditions             31647 non-null  object \n",
            " 3   weather_conditions           31647 non-null  object \n",
            " 4   road_surface_conditions      31647 non-null  object \n",
            " 5   vehicle_type                 31647 non-null  object \n",
            " 6   junction_location            31647 non-null  object \n",
            " 7   skidding_and_overturning     31647 non-null  object \n",
            " 8   vehicle_leaving_carriageway  31647 non-null  object \n",
            " 9   hit_object_off_carriageway   31647 non-null  object \n",
            " 10  first_point_of_impact        31647 non-null  object \n",
            " 11  sex_of_driver                31647 non-null  object \n",
            " 12  age_of_oldest_driver         25197 non-null  float64\n",
            " 13  accident_severity            30475 non-null  object \n",
            "dtypes: float64(1), int64(1), object(12)\n",
            "memory usage: 3.4+ MB\n"
          ]
        }
      ],
      "source": [
        "# Most of the data have a categorical type values \n",
        "print(\"Number of rows \",data.shape[0])\n",
        "print(\"Number of columns\",data.shape[1])\n",
        "data.info()"
      ]
    },
    {
      "cell_type": "code",
      "execution_count": 45,
      "metadata": {
        "colab": {
          "base_uri": "https://localhost:8080/",
          "height": 1000
        },
        "id": "qRdl1R08twKg",
        "outputId": "c8344f4a-9ab9-465b-8ff0-28b0c54c2a40"
      },
      "outputs": [
        {
          "name": "stdout",
          "output_type": "stream",
          "text": [
            "(31647, 14)\n",
            "  accident_index  speed_limit light_conditions weather_conditions  \\\n",
            "0  2019010225080           30         darkness              other   \n",
            "1  2019200908684           30         darkness               fine   \n",
            "2  2019040860897           40         daylight               fine   \n",
            "3  2019460847205           40         daylight               fine   \n",
            "4  2019051911581           30         daylight               fine   \n",
            "\n",
            "  road_surface_conditions      vehicle_type  \\\n",
            "0             wet or damp  at least one van   \n",
            "1                     dry         only cars   \n",
            "2                     dry         only cars   \n",
            "3                     dry         only cars   \n",
            "4                     dry         only cars   \n",
            "\n",
            "                        junction_location    skidding_and_overturning  \\\n",
            "0      at or within 20 metres of junction  no skidding or overturning   \n",
            "1      at or within 20 metres of junction  no skidding or overturning   \n",
            "2      at or within 20 metres of junction  no skidding or overturning   \n",
            "3  not at or within 20 metres of junction  no skidding or overturning   \n",
            "4  not at or within 20 metres of junction  no skidding or overturning   \n",
            "\n",
            "                vehicle_leaving_carriageway  \\\n",
            "0                  none leaving carriageway   \n",
            "1  at least one vehicle leaving carriageway   \n",
            "2                  none leaving carriageway   \n",
            "3                  none leaving carriageway   \n",
            "4                  none leaving carriageway   \n",
            "\n",
            "           hit_object_off_carriageway  \\\n",
            "0                  none hit an object   \n",
            "1  at least one vehicle hit an object   \n",
            "2                  none hit an object   \n",
            "3                  none hit an object   \n",
            "4                  none hit an object   \n",
            "\n",
            "                      first_point_of_impact                 sex_of_driver  \\\n",
            "0                    other points of impact                     all males   \n",
            "1  at least one vehicle with frontal impact                     all males   \n",
            "2  at least one vehicle with frontal impact  data missing or out of range   \n",
            "3  at least one vehicle with frontal impact               male and female   \n",
            "4  at least one vehicle with frontal impact                   all females   \n",
            "\n",
            "   age_of_oldest_driver accident_severity  \n",
            "0                  63.0           serious  \n",
            "1                  82.0             fatal  \n",
            "2                   NaN           serious  \n",
            "3                   NaN           serious  \n",
            "4                  39.0            slight  \n"
          ]
        },
        {
          "data": {
            "text/html": [
              "\n",
              "  <div id=\"df-426b1aa5-3f5f-4289-bde5-156fbe77637b\">\n",
              "    <div class=\"colab-df-container\">\n",
              "      <div>\n",
              "<style scoped>\n",
              "    .dataframe tbody tr th:only-of-type {\n",
              "        vertical-align: middle;\n",
              "    }\n",
              "\n",
              "    .dataframe tbody tr th {\n",
              "        vertical-align: top;\n",
              "    }\n",
              "\n",
              "    .dataframe thead th {\n",
              "        text-align: right;\n",
              "    }\n",
              "</style>\n",
              "<table border=\"1\" class=\"dataframe\">\n",
              "  <thead>\n",
              "    <tr style=\"text-align: right;\">\n",
              "      <th></th>\n",
              "      <th>speed_limit</th>\n",
              "      <th>age_of_oldest_driver</th>\n",
              "    </tr>\n",
              "  </thead>\n",
              "  <tbody>\n",
              "    <tr>\n",
              "      <th>count</th>\n",
              "      <td>31647.000000</td>\n",
              "      <td>25197.000000</td>\n",
              "    </tr>\n",
              "    <tr>\n",
              "      <th>mean</th>\n",
              "      <td>36.572029</td>\n",
              "      <td>47.254038</td>\n",
              "    </tr>\n",
              "    <tr>\n",
              "      <th>std</th>\n",
              "      <td>13.837362</td>\n",
              "      <td>16.779656</td>\n",
              "    </tr>\n",
              "    <tr>\n",
              "      <th>min</th>\n",
              "      <td>-1.000000</td>\n",
              "      <td>6.000000</td>\n",
              "    </tr>\n",
              "    <tr>\n",
              "      <th>25%</th>\n",
              "      <td>30.000000</td>\n",
              "      <td>34.000000</td>\n",
              "    </tr>\n",
              "    <tr>\n",
              "      <th>50%</th>\n",
              "      <td>30.000000</td>\n",
              "      <td>47.000000</td>\n",
              "    </tr>\n",
              "    <tr>\n",
              "      <th>75%</th>\n",
              "      <td>40.000000</td>\n",
              "      <td>59.000000</td>\n",
              "    </tr>\n",
              "    <tr>\n",
              "      <th>max</th>\n",
              "      <td>70.000000</td>\n",
              "      <td>101.000000</td>\n",
              "    </tr>\n",
              "  </tbody>\n",
              "</table>\n",
              "</div>\n",
              "      <button class=\"colab-df-convert\" onclick=\"convertToInteractive('df-426b1aa5-3f5f-4289-bde5-156fbe77637b')\"\n",
              "              title=\"Convert this dataframe to an interactive table.\"\n",
              "              style=\"display:none;\">\n",
              "        \n",
              "  <svg xmlns=\"http://www.w3.org/2000/svg\" height=\"24px\"viewBox=\"0 0 24 24\"\n",
              "       width=\"24px\">\n",
              "    <path d=\"M0 0h24v24H0V0z\" fill=\"none\"/>\n",
              "    <path d=\"M18.56 5.44l.94 2.06.94-2.06 2.06-.94-2.06-.94-.94-2.06-.94 2.06-2.06.94zm-11 1L8.5 8.5l.94-2.06 2.06-.94-2.06-.94L8.5 2.5l-.94 2.06-2.06.94zm10 10l.94 2.06.94-2.06 2.06-.94-2.06-.94-.94-2.06-.94 2.06-2.06.94z\"/><path d=\"M17.41 7.96l-1.37-1.37c-.4-.4-.92-.59-1.43-.59-.52 0-1.04.2-1.43.59L10.3 9.45l-7.72 7.72c-.78.78-.78 2.05 0 2.83L4 21.41c.39.39.9.59 1.41.59.51 0 1.02-.2 1.41-.59l7.78-7.78 2.81-2.81c.8-.78.8-2.07 0-2.86zM5.41 20L4 18.59l7.72-7.72 1.47 1.35L5.41 20z\"/>\n",
              "  </svg>\n",
              "      </button>\n",
              "      \n",
              "  <style>\n",
              "    .colab-df-container {\n",
              "      display:flex;\n",
              "      flex-wrap:wrap;\n",
              "      gap: 12px;\n",
              "    }\n",
              "\n",
              "    .colab-df-convert {\n",
              "      background-color: #E8F0FE;\n",
              "      border: none;\n",
              "      border-radius: 50%;\n",
              "      cursor: pointer;\n",
              "      display: none;\n",
              "      fill: #1967D2;\n",
              "      height: 32px;\n",
              "      padding: 0 0 0 0;\n",
              "      width: 32px;\n",
              "    }\n",
              "\n",
              "    .colab-df-convert:hover {\n",
              "      background-color: #E2EBFA;\n",
              "      box-shadow: 0px 1px 2px rgba(60, 64, 67, 0.3), 0px 1px 3px 1px rgba(60, 64, 67, 0.15);\n",
              "      fill: #174EA6;\n",
              "    }\n",
              "\n",
              "    [theme=dark] .colab-df-convert {\n",
              "      background-color: #3B4455;\n",
              "      fill: #D2E3FC;\n",
              "    }\n",
              "\n",
              "    [theme=dark] .colab-df-convert:hover {\n",
              "      background-color: #434B5C;\n",
              "      box-shadow: 0px 1px 3px 1px rgba(0, 0, 0, 0.15);\n",
              "      filter: drop-shadow(0px 1px 2px rgba(0, 0, 0, 0.3));\n",
              "      fill: #FFFFFF;\n",
              "    }\n",
              "  </style>\n",
              "\n",
              "      <script>\n",
              "        const buttonEl =\n",
              "          document.querySelector('#df-426b1aa5-3f5f-4289-bde5-156fbe77637b button.colab-df-convert');\n",
              "        buttonEl.style.display =\n",
              "          google.colab.kernel.accessAllowed ? 'block' : 'none';\n",
              "\n",
              "        async function convertToInteractive(key) {\n",
              "          const element = document.querySelector('#df-426b1aa5-3f5f-4289-bde5-156fbe77637b');\n",
              "          const dataTable =\n",
              "            await google.colab.kernel.invokeFunction('convertToInteractive',\n",
              "                                                     [key], {});\n",
              "          if (!dataTable) return;\n",
              "\n",
              "          const docLinkHtml = 'Like what you see? Visit the ' +\n",
              "            '<a target=\"_blank\" href=https://colab.research.google.com/notebooks/data_table.ipynb>data table notebook</a>'\n",
              "            + ' to learn more about interactive tables.';\n",
              "          element.innerHTML = '';\n",
              "          dataTable['output_type'] = 'display_data';\n",
              "          await google.colab.output.renderOutput(dataTable, element);\n",
              "          const docLink = document.createElement('div');\n",
              "          docLink.innerHTML = docLinkHtml;\n",
              "          element.appendChild(docLink);\n",
              "        }\n",
              "      </script>\n",
              "    </div>\n",
              "  </div>\n",
              "  "
            ],
            "text/plain": [
              "        speed_limit  age_of_oldest_driver\n",
              "count  31647.000000          25197.000000\n",
              "mean      36.572029             47.254038\n",
              "std       13.837362             16.779656\n",
              "min       -1.000000              6.000000\n",
              "25%       30.000000             34.000000\n",
              "50%       30.000000             47.000000\n",
              "75%       40.000000             59.000000\n",
              "max       70.000000            101.000000"
            ]
          },
          "execution_count": 4,
          "metadata": {},
          "output_type": "execute_result"
        },
        {
          "name": "stdout",
          "output_type": "stream",
          "text": [
            "(31647, 14)\n",
            "  accident_index  speed_limit light_conditions weather_conditions  \\\n",
            "0  2019010225080           30         darkness              other   \n",
            "1  2019200908684           30         darkness               fine   \n",
            "2  2019040860897           40         daylight               fine   \n",
            "3  2019460847205           40         daylight               fine   \n",
            "4  2019051911581           30         daylight               fine   \n",
            "\n",
            "  road_surface_conditions      vehicle_type  \\\n",
            "0             wet or damp  at least one van   \n",
            "1                     dry         only cars   \n",
            "2                     dry         only cars   \n",
            "3                     dry         only cars   \n",
            "4                     dry         only cars   \n",
            "\n",
            "                        junction_location    skidding_and_overturning  \\\n",
            "0      at or within 20 metres of junction  no skidding or overturning   \n",
            "1      at or within 20 metres of junction  no skidding or overturning   \n",
            "2      at or within 20 metres of junction  no skidding or overturning   \n",
            "3  not at or within 20 metres of junction  no skidding or overturning   \n",
            "4  not at or within 20 metres of junction  no skidding or overturning   \n",
            "\n",
            "                vehicle_leaving_carriageway  \\\n",
            "0                  none leaving carriageway   \n",
            "1  at least one vehicle leaving carriageway   \n",
            "2                  none leaving carriageway   \n",
            "3                  none leaving carriageway   \n",
            "4                  none leaving carriageway   \n",
            "\n",
            "           hit_object_off_carriageway  \\\n",
            "0                  none hit an object   \n",
            "1  at least one vehicle hit an object   \n",
            "2                  none hit an object   \n",
            "3                  none hit an object   \n",
            "4                  none hit an object   \n",
            "\n",
            "                      first_point_of_impact                 sex_of_driver  \\\n",
            "0                    other points of impact                     all males   \n",
            "1  at least one vehicle with frontal impact                     all males   \n",
            "2  at least one vehicle with frontal impact  data missing or out of range   \n",
            "3  at least one vehicle with frontal impact               male and female   \n",
            "4  at least one vehicle with frontal impact                   all females   \n",
            "\n",
            "   age_of_oldest_driver accident_severity  \n",
            "0                  63.0           serious  \n",
            "1                  82.0             fatal  \n",
            "2                   NaN           serious  \n",
            "3                   NaN           serious  \n",
            "4                  39.0            slight  \n"
          ]
        },
        {
          "data": {
            "text/html": [
              "\n",
              "  <div id=\"df-b62597df-49c7-4322-99f6-a58c7af43a85\">\n",
              "    <div class=\"colab-df-container\">\n",
              "      <div>\n",
              "<style scoped>\n",
              "    .dataframe tbody tr th:only-of-type {\n",
              "        vertical-align: middle;\n",
              "    }\n",
              "\n",
              "    .dataframe tbody tr th {\n",
              "        vertical-align: top;\n",
              "    }\n",
              "\n",
              "    .dataframe thead th {\n",
              "        text-align: right;\n",
              "    }\n",
              "</style>\n",
              "<table border=\"1\" class=\"dataframe\">\n",
              "  <thead>\n",
              "    <tr style=\"text-align: right;\">\n",
              "      <th></th>\n",
              "      <th>speed_limit</th>\n",
              "      <th>age_of_oldest_driver</th>\n",
              "    </tr>\n",
              "  </thead>\n",
              "  <tbody>\n",
              "    <tr>\n",
              "      <th>count</th>\n",
              "      <td>31647.000000</td>\n",
              "      <td>25197.000000</td>\n",
              "    </tr>\n",
              "    <tr>\n",
              "      <th>mean</th>\n",
              "      <td>36.572029</td>\n",
              "      <td>47.254038</td>\n",
              "    </tr>\n",
              "    <tr>\n",
              "      <th>std</th>\n",
              "      <td>13.837362</td>\n",
              "      <td>16.779656</td>\n",
              "    </tr>\n",
              "    <tr>\n",
              "      <th>min</th>\n",
              "      <td>-1.000000</td>\n",
              "      <td>6.000000</td>\n",
              "    </tr>\n",
              "    <tr>\n",
              "      <th>25%</th>\n",
              "      <td>30.000000</td>\n",
              "      <td>34.000000</td>\n",
              "    </tr>\n",
              "    <tr>\n",
              "      <th>50%</th>\n",
              "      <td>30.000000</td>\n",
              "      <td>47.000000</td>\n",
              "    </tr>\n",
              "    <tr>\n",
              "      <th>75%</th>\n",
              "      <td>40.000000</td>\n",
              "      <td>59.000000</td>\n",
              "    </tr>\n",
              "    <tr>\n",
              "      <th>max</th>\n",
              "      <td>70.000000</td>\n",
              "      <td>101.000000</td>\n",
              "    </tr>\n",
              "  </tbody>\n",
              "</table>\n",
              "</div>\n",
              "      <button class=\"colab-df-convert\" onclick=\"convertToInteractive('df-b62597df-49c7-4322-99f6-a58c7af43a85')\"\n",
              "              title=\"Convert this dataframe to an interactive table.\"\n",
              "              style=\"display:none;\">\n",
              "        \n",
              "  <svg xmlns=\"http://www.w3.org/2000/svg\" height=\"24px\"viewBox=\"0 0 24 24\"\n",
              "       width=\"24px\">\n",
              "    <path d=\"M0 0h24v24H0V0z\" fill=\"none\"/>\n",
              "    <path d=\"M18.56 5.44l.94 2.06.94-2.06 2.06-.94-2.06-.94-.94-2.06-.94 2.06-2.06.94zm-11 1L8.5 8.5l.94-2.06 2.06-.94-2.06-.94L8.5 2.5l-.94 2.06-2.06.94zm10 10l.94 2.06.94-2.06 2.06-.94-2.06-.94-.94-2.06-.94 2.06-2.06.94z\"/><path d=\"M17.41 7.96l-1.37-1.37c-.4-.4-.92-.59-1.43-.59-.52 0-1.04.2-1.43.59L10.3 9.45l-7.72 7.72c-.78.78-.78 2.05 0 2.83L4 21.41c.39.39.9.59 1.41.59.51 0 1.02-.2 1.41-.59l7.78-7.78 2.81-2.81c.8-.78.8-2.07 0-2.86zM5.41 20L4 18.59l7.72-7.72 1.47 1.35L5.41 20z\"/>\n",
              "  </svg>\n",
              "      </button>\n",
              "      \n",
              "  <style>\n",
              "    .colab-df-container {\n",
              "      display:flex;\n",
              "      flex-wrap:wrap;\n",
              "      gap: 12px;\n",
              "    }\n",
              "\n",
              "    .colab-df-convert {\n",
              "      background-color: #E8F0FE;\n",
              "      border: none;\n",
              "      border-radius: 50%;\n",
              "      cursor: pointer;\n",
              "      display: none;\n",
              "      fill: #1967D2;\n",
              "      height: 32px;\n",
              "      padding: 0 0 0 0;\n",
              "      width: 32px;\n",
              "    }\n",
              "\n",
              "    .colab-df-convert:hover {\n",
              "      background-color: #E2EBFA;\n",
              "      box-shadow: 0px 1px 2px rgba(60, 64, 67, 0.3), 0px 1px 3px 1px rgba(60, 64, 67, 0.15);\n",
              "      fill: #174EA6;\n",
              "    }\n",
              "\n",
              "    [theme=dark] .colab-df-convert {\n",
              "      background-color: #3B4455;\n",
              "      fill: #D2E3FC;\n",
              "    }\n",
              "\n",
              "    [theme=dark] .colab-df-convert:hover {\n",
              "      background-color: #434B5C;\n",
              "      box-shadow: 0px 1px 3px 1px rgba(0, 0, 0, 0.15);\n",
              "      filter: drop-shadow(0px 1px 2px rgba(0, 0, 0, 0.3));\n",
              "      fill: #FFFFFF;\n",
              "    }\n",
              "  </style>\n",
              "\n",
              "      <script>\n",
              "        const buttonEl =\n",
              "          document.querySelector('#df-b62597df-49c7-4322-99f6-a58c7af43a85 button.colab-df-convert');\n",
              "        buttonEl.style.display =\n",
              "          google.colab.kernel.accessAllowed ? 'block' : 'none';\n",
              "\n",
              "        async function convertToInteractive(key) {\n",
              "          const element = document.querySelector('#df-b62597df-49c7-4322-99f6-a58c7af43a85');\n",
              "          const dataTable =\n",
              "            await google.colab.kernel.invokeFunction('convertToInteractive',\n",
              "                                                     [key], {});\n",
              "          if (!dataTable) return;\n",
              "\n",
              "          const docLinkHtml = 'Like what you see? Visit the ' +\n",
              "            '<a target=\"_blank\" href=https://colab.research.google.com/notebooks/data_table.ipynb>data table notebook</a>'\n",
              "            + ' to learn more about interactive tables.';\n",
              "          element.innerHTML = '';\n",
              "          dataTable['output_type'] = 'display_data';\n",
              "          await google.colab.output.renderOutput(dataTable, element);\n",
              "          const docLink = document.createElement('div');\n",
              "          docLink.innerHTML = docLinkHtml;\n",
              "          element.appendChild(docLink);\n",
              "        }\n",
              "      </script>\n",
              "    </div>\n",
              "  </div>\n",
              "  "
            ],
            "text/plain": [
              "        speed_limit  age_of_oldest_driver\n",
              "count  31647.000000          25197.000000\n",
              "mean      36.572029             47.254038\n",
              "std       13.837362             16.779656\n",
              "min       -1.000000              6.000000\n",
              "25%       30.000000             34.000000\n",
              "50%       30.000000             47.000000\n",
              "75%       40.000000             59.000000\n",
              "max       70.000000            101.000000"
            ]
          },
          "execution_count": 45,
          "metadata": {},
          "output_type": "execute_result"
        }
      ],
      "source": [
        "print(data.shape)\n",
        "print(data.head())\n",
        "data.describe()"
      ]
    },
    {
      "cell_type": "markdown",
      "metadata": {
        "id": "z0wVP2aTuApH"
      },
      "source": []
    },
    {
      "cell_type": "code",
      "execution_count": 46,
      "metadata": {
        "colab": {
          "base_uri": "https://localhost:8080/",
          "height": 1000
        },
        "id": "ixpNa2lU3J-_",
        "outputId": "e5fa71fd-8a2d-4da8-b60c-68a2a3d16bf0"
      },
      "outputs": [
        {
          "name": "stdout",
          "output_type": "stream",
          "text": [
            "Categories and number of occurrences for 'light_conditions'\n"
          ]
        },
        {
          "data": {
            "text/html": [
              "<table border=\"1\" class=\"dataframe\">\n",
              "  <thead>\n",
              "    <tr style=\"text-align: right;\">\n",
              "      <th></th>\n",
              "      <th>light_conditions</th>\n",
              "    </tr>\n",
              "  </thead>\n",
              "  <tbody>\n",
              "    <tr>\n",
              "      <th>daylight</th>\n",
              "      <td>22210</td>\n",
              "    </tr>\n",
              "    <tr>\n",
              "      <th>darkness</th>\n",
              "      <td>9437</td>\n",
              "    </tr>\n",
              "  </tbody>\n",
              "</table>"
            ],
            "text/plain": [
              "<IPython.core.display.HTML object>"
            ]
          },
          "metadata": {},
          "output_type": "display_data"
        },
        {
          "name": "stdout",
          "output_type": "stream",
          "text": [
            "\n",
            "Categories and number of occurrences for 'weather_conditions'\n"
          ]
        },
        {
          "data": {
            "text/html": [
              "<table border=\"1\" class=\"dataframe\">\n",
              "  <thead>\n",
              "    <tr style=\"text-align: right;\">\n",
              "      <th></th>\n",
              "      <th>weather_conditions</th>\n",
              "    </tr>\n",
              "  </thead>\n",
              "  <tbody>\n",
              "    <tr>\n",
              "      <th>fine</th>\n",
              "      <td>25152</td>\n",
              "    </tr>\n",
              "    <tr>\n",
              "      <th>other</th>\n",
              "      <td>5407</td>\n",
              "    </tr>\n",
              "    <tr>\n",
              "      <th>data missing or out of range</th>\n",
              "      <td>970</td>\n",
              "    </tr>\n",
              "    <tr>\n",
              "      <th>fog or mist</th>\n",
              "      <td>118</td>\n",
              "    </tr>\n",
              "  </tbody>\n",
              "</table>"
            ],
            "text/plain": [
              "<IPython.core.display.HTML object>"
            ]
          },
          "metadata": {},
          "output_type": "display_data"
        },
        {
          "name": "stdout",
          "output_type": "stream",
          "text": [
            "\n",
            "Categories and number of occurrences for 'road_surface_conditions'\n"
          ]
        },
        {
          "data": {
            "text/html": [
              "<table border=\"1\" class=\"dataframe\">\n",
              "  <thead>\n",
              "    <tr style=\"text-align: right;\">\n",
              "      <th></th>\n",
              "      <th>road_surface_conditions</th>\n",
              "    </tr>\n",
              "  </thead>\n",
              "  <tbody>\n",
              "    <tr>\n",
              "      <th>dry</th>\n",
              "      <td>22092</td>\n",
              "    </tr>\n",
              "    <tr>\n",
              "      <th>wet or damp</th>\n",
              "      <td>8761</td>\n",
              "    </tr>\n",
              "    <tr>\n",
              "      <th>other</th>\n",
              "      <td>374</td>\n",
              "    </tr>\n",
              "    <tr>\n",
              "      <th>data missing or out of range</th>\n",
              "      <td>365</td>\n",
              "    </tr>\n",
              "    <tr>\n",
              "      <th>flood over 3cm. deep</th>\n",
              "      <td>55</td>\n",
              "    </tr>\n",
              "  </tbody>\n",
              "</table>"
            ],
            "text/plain": [
              "<IPython.core.display.HTML object>"
            ]
          },
          "metadata": {},
          "output_type": "display_data"
        },
        {
          "name": "stdout",
          "output_type": "stream",
          "text": [
            "\n",
            "Categories and number of occurrences for 'vehicle_type'\n"
          ]
        },
        {
          "data": {
            "text/html": [
              "<table border=\"1\" class=\"dataframe\">\n",
              "  <thead>\n",
              "    <tr style=\"text-align: right;\">\n",
              "      <th></th>\n",
              "      <th>vehicle_type</th>\n",
              "    </tr>\n",
              "  </thead>\n",
              "  <tbody>\n",
              "    <tr>\n",
              "      <th>only cars</th>\n",
              "      <td>17487</td>\n",
              "    </tr>\n",
              "    <tr>\n",
              "      <th>at least one biped</th>\n",
              "      <td>8662</td>\n",
              "    </tr>\n",
              "    <tr>\n",
              "      <th>at least one van</th>\n",
              "      <td>4040</td>\n",
              "    </tr>\n",
              "    <tr>\n",
              "      <th>biped and van</th>\n",
              "      <td>1000</td>\n",
              "    </tr>\n",
              "    <tr>\n",
              "      <th>other</th>\n",
              "      <td>395</td>\n",
              "    </tr>\n",
              "    <tr>\n",
              "      <th>data missing or out of range</th>\n",
              "      <td>63</td>\n",
              "    </tr>\n",
              "  </tbody>\n",
              "</table>"
            ],
            "text/plain": [
              "<IPython.core.display.HTML object>"
            ]
          },
          "metadata": {},
          "output_type": "display_data"
        },
        {
          "name": "stdout",
          "output_type": "stream",
          "text": [
            "\n",
            "Categories and number of occurrences for 'junction_location'\n"
          ]
        },
        {
          "data": {
            "text/html": [
              "<table border=\"1\" class=\"dataframe\">\n",
              "  <thead>\n",
              "    <tr style=\"text-align: right;\">\n",
              "      <th></th>\n",
              "      <th>junction_location</th>\n",
              "    </tr>\n",
              "  </thead>\n",
              "  <tbody>\n",
              "    <tr>\n",
              "      <th>at or within 20 metres of junction</th>\n",
              "      <td>17204</td>\n",
              "    </tr>\n",
              "    <tr>\n",
              "      <th>not at or within 20 metres of junction</th>\n",
              "      <td>12973</td>\n",
              "    </tr>\n",
              "    <tr>\n",
              "      <th>data missing or out of range</th>\n",
              "      <td>1470</td>\n",
              "    </tr>\n",
              "  </tbody>\n",
              "</table>"
            ],
            "text/plain": [
              "<IPython.core.display.HTML object>"
            ]
          },
          "metadata": {},
          "output_type": "display_data"
        },
        {
          "name": "stdout",
          "output_type": "stream",
          "text": [
            "\n",
            "Categories and number of occurrences for 'skidding_and_overturning'\n"
          ]
        },
        {
          "data": {
            "text/html": [
              "<table border=\"1\" class=\"dataframe\">\n",
              "  <thead>\n",
              "    <tr style=\"text-align: right;\">\n",
              "      <th></th>\n",
              "      <th>skidding_and_overturning</th>\n",
              "    </tr>\n",
              "  </thead>\n",
              "  <tbody>\n",
              "    <tr>\n",
              "      <th>no skidding or overturning</th>\n",
              "      <td>24387</td>\n",
              "    </tr>\n",
              "    <tr>\n",
              "      <th>at least one vehicle skidded or overturned</th>\n",
              "      <td>5226</td>\n",
              "    </tr>\n",
              "    <tr>\n",
              "      <th>data missing or out of range</th>\n",
              "      <td>2034</td>\n",
              "    </tr>\n",
              "  </tbody>\n",
              "</table>"
            ],
            "text/plain": [
              "<IPython.core.display.HTML object>"
            ]
          },
          "metadata": {},
          "output_type": "display_data"
        },
        {
          "name": "stdout",
          "output_type": "stream",
          "text": [
            "\n",
            "Categories and number of occurrences for 'vehicle_leaving_carriageway'\n"
          ]
        },
        {
          "data": {
            "text/html": [
              "<table border=\"1\" class=\"dataframe\">\n",
              "  <thead>\n",
              "    <tr style=\"text-align: right;\">\n",
              "      <th></th>\n",
              "      <th>vehicle_leaving_carriageway</th>\n",
              "    </tr>\n",
              "  </thead>\n",
              "  <tbody>\n",
              "    <tr>\n",
              "      <th>none leaving carriageway</th>\n",
              "      <td>24019</td>\n",
              "    </tr>\n",
              "    <tr>\n",
              "      <th>at least one vehicle leaving carriageway</th>\n",
              "      <td>5661</td>\n",
              "    </tr>\n",
              "    <tr>\n",
              "      <th>data missing or out of range</th>\n",
              "      <td>1967</td>\n",
              "    </tr>\n",
              "  </tbody>\n",
              "</table>"
            ],
            "text/plain": [
              "<IPython.core.display.HTML object>"
            ]
          },
          "metadata": {},
          "output_type": "display_data"
        },
        {
          "name": "stdout",
          "output_type": "stream",
          "text": [
            "\n",
            "Categories and number of occurrences for 'hit_object_off_carriageway'\n"
          ]
        },
        {
          "data": {
            "text/html": [
              "<table border=\"1\" class=\"dataframe\">\n",
              "  <thead>\n",
              "    <tr style=\"text-align: right;\">\n",
              "      <th></th>\n",
              "      <th>hit_object_off_carriageway</th>\n",
              "    </tr>\n",
              "  </thead>\n",
              "  <tbody>\n",
              "    <tr>\n",
              "      <th>none hit an object</th>\n",
              "      <td>26129</td>\n",
              "    </tr>\n",
              "    <tr>\n",
              "      <th>at least one vehicle hit an object</th>\n",
              "      <td>3655</td>\n",
              "    </tr>\n",
              "    <tr>\n",
              "      <th>data missing or out of range</th>\n",
              "      <td>1863</td>\n",
              "    </tr>\n",
              "  </tbody>\n",
              "</table>"
            ],
            "text/plain": [
              "<IPython.core.display.HTML object>"
            ]
          },
          "metadata": {},
          "output_type": "display_data"
        },
        {
          "name": "stdout",
          "output_type": "stream",
          "text": [
            "\n",
            "Categories and number of occurrences for 'first_point_of_impact'\n"
          ]
        },
        {
          "data": {
            "text/html": [
              "<table border=\"1\" class=\"dataframe\">\n",
              "  <thead>\n",
              "    <tr style=\"text-align: right;\">\n",
              "      <th></th>\n",
              "      <th>first_point_of_impact</th>\n",
              "    </tr>\n",
              "  </thead>\n",
              "  <tbody>\n",
              "    <tr>\n",
              "      <th>at least one vehicle with frontal impact</th>\n",
              "      <td>23002</td>\n",
              "    </tr>\n",
              "    <tr>\n",
              "      <th>other points of impact</th>\n",
              "      <td>6008</td>\n",
              "    </tr>\n",
              "    <tr>\n",
              "      <th>no impact</th>\n",
              "      <td>1333</td>\n",
              "    </tr>\n",
              "    <tr>\n",
              "      <th>data missing or out of range</th>\n",
              "      <td>1304</td>\n",
              "    </tr>\n",
              "  </tbody>\n",
              "</table>"
            ],
            "text/plain": [
              "<IPython.core.display.HTML object>"
            ]
          },
          "metadata": {},
          "output_type": "display_data"
        },
        {
          "name": "stdout",
          "output_type": "stream",
          "text": [
            "\n",
            "Categories and number of occurrences for 'sex_of_driver'\n"
          ]
        },
        {
          "data": {
            "text/html": [
              "<table border=\"1\" class=\"dataframe\">\n",
              "  <thead>\n",
              "    <tr style=\"text-align: right;\">\n",
              "      <th></th>\n",
              "      <th>sex_of_driver</th>\n",
              "    </tr>\n",
              "  </thead>\n",
              "  <tbody>\n",
              "    <tr>\n",
              "      <th>all males</th>\n",
              "      <td>15494</td>\n",
              "    </tr>\n",
              "    <tr>\n",
              "      <th>male and female</th>\n",
              "      <td>7015</td>\n",
              "    </tr>\n",
              "    <tr>\n",
              "      <th>data missing or out of range</th>\n",
              "      <td>5122</td>\n",
              "    </tr>\n",
              "    <tr>\n",
              "      <th>all females</th>\n",
              "      <td>4016</td>\n",
              "    </tr>\n",
              "  </tbody>\n",
              "</table>"
            ],
            "text/plain": [
              "<IPython.core.display.HTML object>"
            ]
          },
          "metadata": {},
          "output_type": "display_data"
        },
        {
          "name": "stdout",
          "output_type": "stream",
          "text": [
            "\n",
            "Categories and number of occurrences for 'accident_severity'\n"
          ]
        },
        {
          "data": {
            "text/html": [
              "<table border=\"1\" class=\"dataframe\">\n",
              "  <thead>\n",
              "    <tr style=\"text-align: right;\">\n",
              "      <th></th>\n",
              "      <th>accident_severity</th>\n",
              "    </tr>\n",
              "  </thead>\n",
              "  <tbody>\n",
              "    <tr>\n",
              "      <th>slight</th>\n",
              "      <td>12672</td>\n",
              "    </tr>\n",
              "    <tr>\n",
              "      <th>serious</th>\n",
              "      <td>11592</td>\n",
              "    </tr>\n",
              "    <tr>\n",
              "      <th>fatal</th>\n",
              "      <td>6159</td>\n",
              "    </tr>\n",
              "    <tr>\n",
              "      <th>Serious</th>\n",
              "      <td>25</td>\n",
              "    </tr>\n",
              "    <tr>\n",
              "      <th>Slight</th>\n",
              "      <td>19</td>\n",
              "    </tr>\n",
              "    <tr>\n",
              "      <th>Fatal</th>\n",
              "      <td>8</td>\n",
              "    </tr>\n",
              "  </tbody>\n",
              "</table>"
            ],
            "text/plain": [
              "<IPython.core.display.HTML object>"
            ]
          },
          "metadata": {},
          "output_type": "display_data"
        },
        {
          "name": "stdout",
          "output_type": "stream",
          "text": [
            "\n",
            "Categories and number of occurrences for 'speed_limit'\n"
          ]
        },
        {
          "data": {
            "text/html": [
              "<table border=\"1\" class=\"dataframe\">\n",
              "  <thead>\n",
              "    <tr style=\"text-align: right;\">\n",
              "      <th></th>\n",
              "      <th>speed_limit</th>\n",
              "    </tr>\n",
              "  </thead>\n",
              "  <tbody>\n",
              "    <tr>\n",
              "      <th>30</th>\n",
              "      <td>18682</td>\n",
              "    </tr>\n",
              "    <tr>\n",
              "      <th>60</th>\n",
              "      <td>4186</td>\n",
              "    </tr>\n",
              "    <tr>\n",
              "      <th>20</th>\n",
              "      <td>3222</td>\n",
              "    </tr>\n",
              "    <tr>\n",
              "      <th>40</th>\n",
              "      <td>2714</td>\n",
              "    </tr>\n",
              "    <tr>\n",
              "      <th>70</th>\n",
              "      <td>1595</td>\n",
              "    </tr>\n",
              "    <tr>\n",
              "      <th>50</th>\n",
              "      <td>1223</td>\n",
              "    </tr>\n",
              "    <tr>\n",
              "      <th>-1</th>\n",
              "      <td>25</td>\n",
              "    </tr>\n",
              "  </tbody>\n",
              "</table>"
            ],
            "text/plain": [
              "<IPython.core.display.HTML object>"
            ]
          },
          "metadata": {},
          "output_type": "display_data"
        },
        {
          "name": "stdout",
          "output_type": "stream",
          "text": [
            "\n",
            "Categories and number of occurrences for 'age_of_oldest_driver'\n"
          ]
        },
        {
          "data": {
            "text/html": [
              "<table border=\"1\" class=\"dataframe\">\n",
              "  <thead>\n",
              "    <tr style=\"text-align: right;\">\n",
              "      <th></th>\n",
              "      <th>age_of_oldest_driver</th>\n",
              "    </tr>\n",
              "  </thead>\n",
              "  <tbody>\n",
              "    <tr>\n",
              "      <th>30.0</th>\n",
              "      <td>671</td>\n",
              "    </tr>\n",
              "    <tr>\n",
              "      <th>50.0</th>\n",
              "      <td>662</td>\n",
              "    </tr>\n",
              "    <tr>\n",
              "      <th>48.0</th>\n",
              "      <td>589</td>\n",
              "    </tr>\n",
              "    <tr>\n",
              "      <th>54.0</th>\n",
              "      <td>586</td>\n",
              "    </tr>\n",
              "    <tr>\n",
              "      <th>40.0</th>\n",
              "      <td>578</td>\n",
              "    </tr>\n",
              "    <tr>\n",
              "      <th>53.0</th>\n",
              "      <td>558</td>\n",
              "    </tr>\n",
              "    <tr>\n",
              "      <th>56.0</th>\n",
              "      <td>544</td>\n",
              "    </tr>\n",
              "    <tr>\n",
              "      <th>49.0</th>\n",
              "      <td>543</td>\n",
              "    </tr>\n",
              "    <tr>\n",
              "      <th>51.0</th>\n",
              "      <td>537</td>\n",
              "    </tr>\n",
              "    <tr>\n",
              "      <th>47.0</th>\n",
              "      <td>524</td>\n",
              "    </tr>\n",
              "    <tr>\n",
              "      <th>52.0</th>\n",
              "      <td>524</td>\n",
              "    </tr>\n",
              "    <tr>\n",
              "      <th>37.0</th>\n",
              "      <td>507</td>\n",
              "    </tr>\n",
              "    <tr>\n",
              "      <th>39.0</th>\n",
              "      <td>501</td>\n",
              "    </tr>\n",
              "    <tr>\n",
              "      <th>35.0</th>\n",
              "      <td>499</td>\n",
              "    </tr>\n",
              "    <tr>\n",
              "      <th>57.0</th>\n",
              "      <td>497</td>\n",
              "    </tr>\n",
              "    <tr>\n",
              "      <th>45.0</th>\n",
              "      <td>493</td>\n",
              "    </tr>\n",
              "    <tr>\n",
              "      <th>55.0</th>\n",
              "      <td>491</td>\n",
              "    </tr>\n",
              "    <tr>\n",
              "      <th>32.0</th>\n",
              "      <td>485</td>\n",
              "    </tr>\n",
              "    <tr>\n",
              "      <th>34.0</th>\n",
              "      <td>484</td>\n",
              "    </tr>\n",
              "    <tr>\n",
              "      <th>46.0</th>\n",
              "      <td>478</td>\n",
              "    </tr>\n",
              "    <tr>\n",
              "      <th>43.0</th>\n",
              "      <td>474</td>\n",
              "    </tr>\n",
              "    <tr>\n",
              "      <th>58.0</th>\n",
              "      <td>470</td>\n",
              "    </tr>\n",
              "    <tr>\n",
              "      <th>42.0</th>\n",
              "      <td>469</td>\n",
              "    </tr>\n",
              "    <tr>\n",
              "      <th>60.0</th>\n",
              "      <td>458</td>\n",
              "    </tr>\n",
              "    <tr>\n",
              "      <th>38.0</th>\n",
              "      <td>451</td>\n",
              "    </tr>\n",
              "    <tr>\n",
              "      <th>44.0</th>\n",
              "      <td>449</td>\n",
              "    </tr>\n",
              "    <tr>\n",
              "      <th>33.0</th>\n",
              "      <td>447</td>\n",
              "    </tr>\n",
              "    <tr>\n",
              "      <th>41.0</th>\n",
              "      <td>442</td>\n",
              "    </tr>\n",
              "    <tr>\n",
              "      <th>59.0</th>\n",
              "      <td>438</td>\n",
              "    </tr>\n",
              "    <tr>\n",
              "      <th>36.0</th>\n",
              "      <td>418</td>\n",
              "    </tr>\n",
              "    <tr>\n",
              "      <th>31.0</th>\n",
              "      <td>417</td>\n",
              "    </tr>\n",
              "    <tr>\n",
              "      <th>28.0</th>\n",
              "      <td>407</td>\n",
              "    </tr>\n",
              "    <tr>\n",
              "      <th>29.0</th>\n",
              "      <td>406</td>\n",
              "    </tr>\n",
              "    <tr>\n",
              "      <th>61.0</th>\n",
              "      <td>400</td>\n",
              "    </tr>\n",
              "    <tr>\n",
              "      <th>27.0</th>\n",
              "      <td>388</td>\n",
              "    </tr>\n",
              "    <tr>\n",
              "      <th>25.0</th>\n",
              "      <td>371</td>\n",
              "    </tr>\n",
              "    <tr>\n",
              "      <th>62.0</th>\n",
              "      <td>370</td>\n",
              "    </tr>\n",
              "    <tr>\n",
              "      <th>26.0</th>\n",
              "      <td>338</td>\n",
              "    </tr>\n",
              "    <tr>\n",
              "      <th>24.0</th>\n",
              "      <td>330</td>\n",
              "    </tr>\n",
              "    <tr>\n",
              "      <th>65.0</th>\n",
              "      <td>329</td>\n",
              "    </tr>\n",
              "    <tr>\n",
              "      <th>63.0</th>\n",
              "      <td>328</td>\n",
              "    </tr>\n",
              "    <tr>\n",
              "      <th>23.0</th>\n",
              "      <td>313</td>\n",
              "    </tr>\n",
              "    <tr>\n",
              "      <th>22.0</th>\n",
              "      <td>283</td>\n",
              "    </tr>\n",
              "    <tr>\n",
              "      <th>64.0</th>\n",
              "      <td>282</td>\n",
              "    </tr>\n",
              "    <tr>\n",
              "      <th>20.0</th>\n",
              "      <td>273</td>\n",
              "    </tr>\n",
              "    <tr>\n",
              "      <th>21.0</th>\n",
              "      <td>272</td>\n",
              "    </tr>\n",
              "    <tr>\n",
              "      <th>19.0</th>\n",
              "      <td>261</td>\n",
              "    </tr>\n",
              "    <tr>\n",
              "      <th>18.0</th>\n",
              "      <td>256</td>\n",
              "    </tr>\n",
              "    <tr>\n",
              "      <th>66.0</th>\n",
              "      <td>254</td>\n",
              "    </tr>\n",
              "    <tr>\n",
              "      <th>71.0</th>\n",
              "      <td>247</td>\n",
              "    </tr>\n",
              "    <tr>\n",
              "      <th>72.0</th>\n",
              "      <td>244</td>\n",
              "    </tr>\n",
              "    <tr>\n",
              "      <th>68.0</th>\n",
              "      <td>228</td>\n",
              "    </tr>\n",
              "    <tr>\n",
              "      <th>74.0</th>\n",
              "      <td>224</td>\n",
              "    </tr>\n",
              "    <tr>\n",
              "      <th>70.0</th>\n",
              "      <td>221</td>\n",
              "    </tr>\n",
              "    <tr>\n",
              "      <th>67.0</th>\n",
              "      <td>211</td>\n",
              "    </tr>\n",
              "    <tr>\n",
              "      <th>69.0</th>\n",
              "      <td>205</td>\n",
              "    </tr>\n",
              "    <tr>\n",
              "      <th>73.0</th>\n",
              "      <td>190</td>\n",
              "    </tr>\n",
              "    <tr>\n",
              "      <th>75.0</th>\n",
              "      <td>179</td>\n",
              "    </tr>\n",
              "    <tr>\n",
              "      <th>76.0</th>\n",
              "      <td>148</td>\n",
              "    </tr>\n",
              "    <tr>\n",
              "      <th>17.0</th>\n",
              "      <td>148</td>\n",
              "    </tr>\n",
              "    <tr>\n",
              "      <th>79.0</th>\n",
              "      <td>142</td>\n",
              "    </tr>\n",
              "    <tr>\n",
              "      <th>80.0</th>\n",
              "      <td>138</td>\n",
              "    </tr>\n",
              "    <tr>\n",
              "      <th>77.0</th>\n",
              "      <td>136</td>\n",
              "    </tr>\n",
              "    <tr>\n",
              "      <th>78.0</th>\n",
              "      <td>121</td>\n",
              "    </tr>\n",
              "    <tr>\n",
              "      <th>82.0</th>\n",
              "      <td>115</td>\n",
              "    </tr>\n",
              "    <tr>\n",
              "      <th>81.0</th>\n",
              "      <td>104</td>\n",
              "    </tr>\n",
              "    <tr>\n",
              "      <th>83.0</th>\n",
              "      <td>101</td>\n",
              "    </tr>\n",
              "    <tr>\n",
              "      <th>84.0</th>\n",
              "      <td>94</td>\n",
              "    </tr>\n",
              "    <tr>\n",
              "      <th>85.0</th>\n",
              "      <td>79</td>\n",
              "    </tr>\n",
              "    <tr>\n",
              "      <th>87.0</th>\n",
              "      <td>74</td>\n",
              "    </tr>\n",
              "    <tr>\n",
              "      <th>86.0</th>\n",
              "      <td>70</td>\n",
              "    </tr>\n",
              "    <tr>\n",
              "      <th>88.0</th>\n",
              "      <td>48</td>\n",
              "    </tr>\n",
              "    <tr>\n",
              "      <th>89.0</th>\n",
              "      <td>38</td>\n",
              "    </tr>\n",
              "    <tr>\n",
              "      <th>90.0</th>\n",
              "      <td>30</td>\n",
              "    </tr>\n",
              "    <tr>\n",
              "      <th>16.0</th>\n",
              "      <td>28</td>\n",
              "    </tr>\n",
              "    <tr>\n",
              "      <th>91.0</th>\n",
              "      <td>19</td>\n",
              "    </tr>\n",
              "    <tr>\n",
              "      <th>92.0</th>\n",
              "      <td>13</td>\n",
              "    </tr>\n",
              "    <tr>\n",
              "      <th>93.0</th>\n",
              "      <td>12</td>\n",
              "    </tr>\n",
              "    <tr>\n",
              "      <th>95.0</th>\n",
              "      <td>8</td>\n",
              "    </tr>\n",
              "    <tr>\n",
              "      <th>15.0</th>\n",
              "      <td>6</td>\n",
              "    </tr>\n",
              "    <tr>\n",
              "      <th>13.0</th>\n",
              "      <td>6</td>\n",
              "    </tr>\n",
              "    <tr>\n",
              "      <th>94.0</th>\n",
              "      <td>6</td>\n",
              "    </tr>\n",
              "    <tr>\n",
              "      <th>98.0</th>\n",
              "      <td>4</td>\n",
              "    </tr>\n",
              "    <tr>\n",
              "      <th>99.0</th>\n",
              "      <td>3</td>\n",
              "    </tr>\n",
              "    <tr>\n",
              "      <th>12.0</th>\n",
              "      <td>3</td>\n",
              "    </tr>\n",
              "    <tr>\n",
              "      <th>11.0</th>\n",
              "      <td>2</td>\n",
              "    </tr>\n",
              "    <tr>\n",
              "      <th>14.0</th>\n",
              "      <td>2</td>\n",
              "    </tr>\n",
              "    <tr>\n",
              "      <th>6.0</th>\n",
              "      <td>1</td>\n",
              "    </tr>\n",
              "    <tr>\n",
              "      <th>96.0</th>\n",
              "      <td>1</td>\n",
              "    </tr>\n",
              "    <tr>\n",
              "      <th>101.0</th>\n",
              "      <td>1</td>\n",
              "    </tr>\n",
              "    <tr>\n",
              "      <th>97.0</th>\n",
              "      <td>1</td>\n",
              "    </tr>\n",
              "    <tr>\n",
              "      <th>10.0</th>\n",
              "      <td>1</td>\n",
              "    </tr>\n",
              "  </tbody>\n",
              "</table>"
            ],
            "text/plain": [
              "<IPython.core.display.HTML object>"
            ]
          },
          "metadata": {},
          "output_type": "display_data"
        },
        {
          "name": "stdout",
          "output_type": "stream",
          "text": [
            "\n",
            "Categories and number of occurrences for 'light_conditions'\n"
          ]
        },
        {
          "data": {
            "text/html": [
              "<table border=\"1\" class=\"dataframe\">\n",
              "  <thead>\n",
              "    <tr style=\"text-align: right;\">\n",
              "      <th></th>\n",
              "      <th>light_conditions</th>\n",
              "    </tr>\n",
              "  </thead>\n",
              "  <tbody>\n",
              "    <tr>\n",
              "      <th>daylight</th>\n",
              "      <td>22210</td>\n",
              "    </tr>\n",
              "    <tr>\n",
              "      <th>darkness</th>\n",
              "      <td>9437</td>\n",
              "    </tr>\n",
              "  </tbody>\n",
              "</table>"
            ],
            "text/plain": [
              "<IPython.core.display.HTML object>"
            ]
          },
          "metadata": {},
          "output_type": "display_data"
        },
        {
          "name": "stdout",
          "output_type": "stream",
          "text": [
            "\n",
            "Categories and number of occurrences for 'weather_conditions'\n"
          ]
        },
        {
          "data": {
            "text/html": [
              "<table border=\"1\" class=\"dataframe\">\n",
              "  <thead>\n",
              "    <tr style=\"text-align: right;\">\n",
              "      <th></th>\n",
              "      <th>weather_conditions</th>\n",
              "    </tr>\n",
              "  </thead>\n",
              "  <tbody>\n",
              "    <tr>\n",
              "      <th>fine</th>\n",
              "      <td>25152</td>\n",
              "    </tr>\n",
              "    <tr>\n",
              "      <th>other</th>\n",
              "      <td>5407</td>\n",
              "    </tr>\n",
              "    <tr>\n",
              "      <th>data missing or out of range</th>\n",
              "      <td>970</td>\n",
              "    </tr>\n",
              "    <tr>\n",
              "      <th>fog or mist</th>\n",
              "      <td>118</td>\n",
              "    </tr>\n",
              "  </tbody>\n",
              "</table>"
            ],
            "text/plain": [
              "<IPython.core.display.HTML object>"
            ]
          },
          "metadata": {},
          "output_type": "display_data"
        },
        {
          "name": "stdout",
          "output_type": "stream",
          "text": [
            "\n",
            "Categories and number of occurrences for 'road_surface_conditions'\n"
          ]
        },
        {
          "data": {
            "text/html": [
              "<table border=\"1\" class=\"dataframe\">\n",
              "  <thead>\n",
              "    <tr style=\"text-align: right;\">\n",
              "      <th></th>\n",
              "      <th>road_surface_conditions</th>\n",
              "    </tr>\n",
              "  </thead>\n",
              "  <tbody>\n",
              "    <tr>\n",
              "      <th>dry</th>\n",
              "      <td>22092</td>\n",
              "    </tr>\n",
              "    <tr>\n",
              "      <th>wet or damp</th>\n",
              "      <td>8761</td>\n",
              "    </tr>\n",
              "    <tr>\n",
              "      <th>other</th>\n",
              "      <td>374</td>\n",
              "    </tr>\n",
              "    <tr>\n",
              "      <th>data missing or out of range</th>\n",
              "      <td>365</td>\n",
              "    </tr>\n",
              "    <tr>\n",
              "      <th>flood over 3cm. deep</th>\n",
              "      <td>55</td>\n",
              "    </tr>\n",
              "  </tbody>\n",
              "</table>"
            ],
            "text/plain": [
              "<IPython.core.display.HTML object>"
            ]
          },
          "metadata": {},
          "output_type": "display_data"
        },
        {
          "name": "stdout",
          "output_type": "stream",
          "text": [
            "\n",
            "Categories and number of occurrences for 'vehicle_type'\n"
          ]
        },
        {
          "data": {
            "text/html": [
              "<table border=\"1\" class=\"dataframe\">\n",
              "  <thead>\n",
              "    <tr style=\"text-align: right;\">\n",
              "      <th></th>\n",
              "      <th>vehicle_type</th>\n",
              "    </tr>\n",
              "  </thead>\n",
              "  <tbody>\n",
              "    <tr>\n",
              "      <th>only cars</th>\n",
              "      <td>17487</td>\n",
              "    </tr>\n",
              "    <tr>\n",
              "      <th>at least one biped</th>\n",
              "      <td>8662</td>\n",
              "    </tr>\n",
              "    <tr>\n",
              "      <th>at least one van</th>\n",
              "      <td>4040</td>\n",
              "    </tr>\n",
              "    <tr>\n",
              "      <th>biped and van</th>\n",
              "      <td>1000</td>\n",
              "    </tr>\n",
              "    <tr>\n",
              "      <th>other</th>\n",
              "      <td>395</td>\n",
              "    </tr>\n",
              "    <tr>\n",
              "      <th>data missing or out of range</th>\n",
              "      <td>63</td>\n",
              "    </tr>\n",
              "  </tbody>\n",
              "</table>"
            ],
            "text/plain": [
              "<IPython.core.display.HTML object>"
            ]
          },
          "metadata": {},
          "output_type": "display_data"
        },
        {
          "name": "stdout",
          "output_type": "stream",
          "text": [
            "\n",
            "Categories and number of occurrences for 'junction_location'\n"
          ]
        },
        {
          "data": {
            "text/html": [
              "<table border=\"1\" class=\"dataframe\">\n",
              "  <thead>\n",
              "    <tr style=\"text-align: right;\">\n",
              "      <th></th>\n",
              "      <th>junction_location</th>\n",
              "    </tr>\n",
              "  </thead>\n",
              "  <tbody>\n",
              "    <tr>\n",
              "      <th>at or within 20 metres of junction</th>\n",
              "      <td>17204</td>\n",
              "    </tr>\n",
              "    <tr>\n",
              "      <th>not at or within 20 metres of junction</th>\n",
              "      <td>12973</td>\n",
              "    </tr>\n",
              "    <tr>\n",
              "      <th>data missing or out of range</th>\n",
              "      <td>1470</td>\n",
              "    </tr>\n",
              "  </tbody>\n",
              "</table>"
            ],
            "text/plain": [
              "<IPython.core.display.HTML object>"
            ]
          },
          "metadata": {},
          "output_type": "display_data"
        },
        {
          "name": "stdout",
          "output_type": "stream",
          "text": [
            "\n",
            "Categories and number of occurrences for 'skidding_and_overturning'\n"
          ]
        },
        {
          "data": {
            "text/html": [
              "<table border=\"1\" class=\"dataframe\">\n",
              "  <thead>\n",
              "    <tr style=\"text-align: right;\">\n",
              "      <th></th>\n",
              "      <th>skidding_and_overturning</th>\n",
              "    </tr>\n",
              "  </thead>\n",
              "  <tbody>\n",
              "    <tr>\n",
              "      <th>no skidding or overturning</th>\n",
              "      <td>24387</td>\n",
              "    </tr>\n",
              "    <tr>\n",
              "      <th>at least one vehicle skidded or overturned</th>\n",
              "      <td>5226</td>\n",
              "    </tr>\n",
              "    <tr>\n",
              "      <th>data missing or out of range</th>\n",
              "      <td>2034</td>\n",
              "    </tr>\n",
              "  </tbody>\n",
              "</table>"
            ],
            "text/plain": [
              "<IPython.core.display.HTML object>"
            ]
          },
          "metadata": {},
          "output_type": "display_data"
        },
        {
          "name": "stdout",
          "output_type": "stream",
          "text": [
            "\n",
            "Categories and number of occurrences for 'vehicle_leaving_carriageway'\n"
          ]
        },
        {
          "data": {
            "text/html": [
              "<table border=\"1\" class=\"dataframe\">\n",
              "  <thead>\n",
              "    <tr style=\"text-align: right;\">\n",
              "      <th></th>\n",
              "      <th>vehicle_leaving_carriageway</th>\n",
              "    </tr>\n",
              "  </thead>\n",
              "  <tbody>\n",
              "    <tr>\n",
              "      <th>none leaving carriageway</th>\n",
              "      <td>24019</td>\n",
              "    </tr>\n",
              "    <tr>\n",
              "      <th>at least one vehicle leaving carriageway</th>\n",
              "      <td>5661</td>\n",
              "    </tr>\n",
              "    <tr>\n",
              "      <th>data missing or out of range</th>\n",
              "      <td>1967</td>\n",
              "    </tr>\n",
              "  </tbody>\n",
              "</table>"
            ],
            "text/plain": [
              "<IPython.core.display.HTML object>"
            ]
          },
          "metadata": {},
          "output_type": "display_data"
        },
        {
          "name": "stdout",
          "output_type": "stream",
          "text": [
            "\n",
            "Categories and number of occurrences for 'hit_object_off_carriageway'\n"
          ]
        },
        {
          "data": {
            "text/html": [
              "<table border=\"1\" class=\"dataframe\">\n",
              "  <thead>\n",
              "    <tr style=\"text-align: right;\">\n",
              "      <th></th>\n",
              "      <th>hit_object_off_carriageway</th>\n",
              "    </tr>\n",
              "  </thead>\n",
              "  <tbody>\n",
              "    <tr>\n",
              "      <th>none hit an object</th>\n",
              "      <td>26129</td>\n",
              "    </tr>\n",
              "    <tr>\n",
              "      <th>at least one vehicle hit an object</th>\n",
              "      <td>3655</td>\n",
              "    </tr>\n",
              "    <tr>\n",
              "      <th>data missing or out of range</th>\n",
              "      <td>1863</td>\n",
              "    </tr>\n",
              "  </tbody>\n",
              "</table>"
            ],
            "text/plain": [
              "<IPython.core.display.HTML object>"
            ]
          },
          "metadata": {},
          "output_type": "display_data"
        },
        {
          "name": "stdout",
          "output_type": "stream",
          "text": [
            "\n",
            "Categories and number of occurrences for 'first_point_of_impact'\n"
          ]
        },
        {
          "data": {
            "text/html": [
              "<table border=\"1\" class=\"dataframe\">\n",
              "  <thead>\n",
              "    <tr style=\"text-align: right;\">\n",
              "      <th></th>\n",
              "      <th>first_point_of_impact</th>\n",
              "    </tr>\n",
              "  </thead>\n",
              "  <tbody>\n",
              "    <tr>\n",
              "      <th>at least one vehicle with frontal impact</th>\n",
              "      <td>23002</td>\n",
              "    </tr>\n",
              "    <tr>\n",
              "      <th>other points of impact</th>\n",
              "      <td>6008</td>\n",
              "    </tr>\n",
              "    <tr>\n",
              "      <th>no impact</th>\n",
              "      <td>1333</td>\n",
              "    </tr>\n",
              "    <tr>\n",
              "      <th>data missing or out of range</th>\n",
              "      <td>1304</td>\n",
              "    </tr>\n",
              "  </tbody>\n",
              "</table>"
            ],
            "text/plain": [
              "<IPython.core.display.HTML object>"
            ]
          },
          "metadata": {},
          "output_type": "display_data"
        },
        {
          "name": "stdout",
          "output_type": "stream",
          "text": [
            "\n",
            "Categories and number of occurrences for 'sex_of_driver'\n"
          ]
        },
        {
          "data": {
            "text/html": [
              "<table border=\"1\" class=\"dataframe\">\n",
              "  <thead>\n",
              "    <tr style=\"text-align: right;\">\n",
              "      <th></th>\n",
              "      <th>sex_of_driver</th>\n",
              "    </tr>\n",
              "  </thead>\n",
              "  <tbody>\n",
              "    <tr>\n",
              "      <th>all males</th>\n",
              "      <td>15494</td>\n",
              "    </tr>\n",
              "    <tr>\n",
              "      <th>male and female</th>\n",
              "      <td>7015</td>\n",
              "    </tr>\n",
              "    <tr>\n",
              "      <th>data missing or out of range</th>\n",
              "      <td>5122</td>\n",
              "    </tr>\n",
              "    <tr>\n",
              "      <th>all females</th>\n",
              "      <td>4016</td>\n",
              "    </tr>\n",
              "  </tbody>\n",
              "</table>"
            ],
            "text/plain": [
              "<IPython.core.display.HTML object>"
            ]
          },
          "metadata": {},
          "output_type": "display_data"
        },
        {
          "name": "stdout",
          "output_type": "stream",
          "text": [
            "\n",
            "Categories and number of occurrences for 'accident_severity'\n"
          ]
        },
        {
          "data": {
            "text/html": [
              "<table border=\"1\" class=\"dataframe\">\n",
              "  <thead>\n",
              "    <tr style=\"text-align: right;\">\n",
              "      <th></th>\n",
              "      <th>accident_severity</th>\n",
              "    </tr>\n",
              "  </thead>\n",
              "  <tbody>\n",
              "    <tr>\n",
              "      <th>slight</th>\n",
              "      <td>12672</td>\n",
              "    </tr>\n",
              "    <tr>\n",
              "      <th>serious</th>\n",
              "      <td>11592</td>\n",
              "    </tr>\n",
              "    <tr>\n",
              "      <th>fatal</th>\n",
              "      <td>6159</td>\n",
              "    </tr>\n",
              "    <tr>\n",
              "      <th>Serious</th>\n",
              "      <td>25</td>\n",
              "    </tr>\n",
              "    <tr>\n",
              "      <th>Slight</th>\n",
              "      <td>19</td>\n",
              "    </tr>\n",
              "    <tr>\n",
              "      <th>Fatal</th>\n",
              "      <td>8</td>\n",
              "    </tr>\n",
              "  </tbody>\n",
              "</table>"
            ],
            "text/plain": [
              "<IPython.core.display.HTML object>"
            ]
          },
          "metadata": {},
          "output_type": "display_data"
        },
        {
          "name": "stdout",
          "output_type": "stream",
          "text": [
            "\n",
            "Categories and number of occurrences for 'speed_limit'\n"
          ]
        },
        {
          "data": {
            "text/html": [
              "<table border=\"1\" class=\"dataframe\">\n",
              "  <thead>\n",
              "    <tr style=\"text-align: right;\">\n",
              "      <th></th>\n",
              "      <th>speed_limit</th>\n",
              "    </tr>\n",
              "  </thead>\n",
              "  <tbody>\n",
              "    <tr>\n",
              "      <th>30</th>\n",
              "      <td>18682</td>\n",
              "    </tr>\n",
              "    <tr>\n",
              "      <th>60</th>\n",
              "      <td>4186</td>\n",
              "    </tr>\n",
              "    <tr>\n",
              "      <th>20</th>\n",
              "      <td>3222</td>\n",
              "    </tr>\n",
              "    <tr>\n",
              "      <th>40</th>\n",
              "      <td>2714</td>\n",
              "    </tr>\n",
              "    <tr>\n",
              "      <th>70</th>\n",
              "      <td>1595</td>\n",
              "    </tr>\n",
              "    <tr>\n",
              "      <th>50</th>\n",
              "      <td>1223</td>\n",
              "    </tr>\n",
              "    <tr>\n",
              "      <th>-1</th>\n",
              "      <td>25</td>\n",
              "    </tr>\n",
              "  </tbody>\n",
              "</table>"
            ],
            "text/plain": [
              "<IPython.core.display.HTML object>"
            ]
          },
          "metadata": {},
          "output_type": "display_data"
        },
        {
          "name": "stdout",
          "output_type": "stream",
          "text": [
            "\n",
            "Categories and number of occurrences for 'age_of_oldest_driver'\n"
          ]
        },
        {
          "data": {
            "text/html": [
              "<table border=\"1\" class=\"dataframe\">\n",
              "  <thead>\n",
              "    <tr style=\"text-align: right;\">\n",
              "      <th></th>\n",
              "      <th>age_of_oldest_driver</th>\n",
              "    </tr>\n",
              "  </thead>\n",
              "  <tbody>\n",
              "    <tr>\n",
              "      <th>30.0</th>\n",
              "      <td>671</td>\n",
              "    </tr>\n",
              "    <tr>\n",
              "      <th>50.0</th>\n",
              "      <td>662</td>\n",
              "    </tr>\n",
              "    <tr>\n",
              "      <th>48.0</th>\n",
              "      <td>589</td>\n",
              "    </tr>\n",
              "    <tr>\n",
              "      <th>54.0</th>\n",
              "      <td>586</td>\n",
              "    </tr>\n",
              "    <tr>\n",
              "      <th>40.0</th>\n",
              "      <td>578</td>\n",
              "    </tr>\n",
              "    <tr>\n",
              "      <th>53.0</th>\n",
              "      <td>558</td>\n",
              "    </tr>\n",
              "    <tr>\n",
              "      <th>56.0</th>\n",
              "      <td>544</td>\n",
              "    </tr>\n",
              "    <tr>\n",
              "      <th>49.0</th>\n",
              "      <td>543</td>\n",
              "    </tr>\n",
              "    <tr>\n",
              "      <th>51.0</th>\n",
              "      <td>537</td>\n",
              "    </tr>\n",
              "    <tr>\n",
              "      <th>47.0</th>\n",
              "      <td>524</td>\n",
              "    </tr>\n",
              "    <tr>\n",
              "      <th>52.0</th>\n",
              "      <td>524</td>\n",
              "    </tr>\n",
              "    <tr>\n",
              "      <th>37.0</th>\n",
              "      <td>507</td>\n",
              "    </tr>\n",
              "    <tr>\n",
              "      <th>39.0</th>\n",
              "      <td>501</td>\n",
              "    </tr>\n",
              "    <tr>\n",
              "      <th>35.0</th>\n",
              "      <td>499</td>\n",
              "    </tr>\n",
              "    <tr>\n",
              "      <th>57.0</th>\n",
              "      <td>497</td>\n",
              "    </tr>\n",
              "    <tr>\n",
              "      <th>45.0</th>\n",
              "      <td>493</td>\n",
              "    </tr>\n",
              "    <tr>\n",
              "      <th>55.0</th>\n",
              "      <td>491</td>\n",
              "    </tr>\n",
              "    <tr>\n",
              "      <th>32.0</th>\n",
              "      <td>485</td>\n",
              "    </tr>\n",
              "    <tr>\n",
              "      <th>34.0</th>\n",
              "      <td>484</td>\n",
              "    </tr>\n",
              "    <tr>\n",
              "      <th>46.0</th>\n",
              "      <td>478</td>\n",
              "    </tr>\n",
              "    <tr>\n",
              "      <th>43.0</th>\n",
              "      <td>474</td>\n",
              "    </tr>\n",
              "    <tr>\n",
              "      <th>58.0</th>\n",
              "      <td>470</td>\n",
              "    </tr>\n",
              "    <tr>\n",
              "      <th>42.0</th>\n",
              "      <td>469</td>\n",
              "    </tr>\n",
              "    <tr>\n",
              "      <th>60.0</th>\n",
              "      <td>458</td>\n",
              "    </tr>\n",
              "    <tr>\n",
              "      <th>38.0</th>\n",
              "      <td>451</td>\n",
              "    </tr>\n",
              "    <tr>\n",
              "      <th>44.0</th>\n",
              "      <td>449</td>\n",
              "    </tr>\n",
              "    <tr>\n",
              "      <th>33.0</th>\n",
              "      <td>447</td>\n",
              "    </tr>\n",
              "    <tr>\n",
              "      <th>41.0</th>\n",
              "      <td>442</td>\n",
              "    </tr>\n",
              "    <tr>\n",
              "      <th>59.0</th>\n",
              "      <td>438</td>\n",
              "    </tr>\n",
              "    <tr>\n",
              "      <th>36.0</th>\n",
              "      <td>418</td>\n",
              "    </tr>\n",
              "    <tr>\n",
              "      <th>31.0</th>\n",
              "      <td>417</td>\n",
              "    </tr>\n",
              "    <tr>\n",
              "      <th>28.0</th>\n",
              "      <td>407</td>\n",
              "    </tr>\n",
              "    <tr>\n",
              "      <th>29.0</th>\n",
              "      <td>406</td>\n",
              "    </tr>\n",
              "    <tr>\n",
              "      <th>61.0</th>\n",
              "      <td>400</td>\n",
              "    </tr>\n",
              "    <tr>\n",
              "      <th>27.0</th>\n",
              "      <td>388</td>\n",
              "    </tr>\n",
              "    <tr>\n",
              "      <th>25.0</th>\n",
              "      <td>371</td>\n",
              "    </tr>\n",
              "    <tr>\n",
              "      <th>62.0</th>\n",
              "      <td>370</td>\n",
              "    </tr>\n",
              "    <tr>\n",
              "      <th>26.0</th>\n",
              "      <td>338</td>\n",
              "    </tr>\n",
              "    <tr>\n",
              "      <th>24.0</th>\n",
              "      <td>330</td>\n",
              "    </tr>\n",
              "    <tr>\n",
              "      <th>65.0</th>\n",
              "      <td>329</td>\n",
              "    </tr>\n",
              "    <tr>\n",
              "      <th>63.0</th>\n",
              "      <td>328</td>\n",
              "    </tr>\n",
              "    <tr>\n",
              "      <th>23.0</th>\n",
              "      <td>313</td>\n",
              "    </tr>\n",
              "    <tr>\n",
              "      <th>22.0</th>\n",
              "      <td>283</td>\n",
              "    </tr>\n",
              "    <tr>\n",
              "      <th>64.0</th>\n",
              "      <td>282</td>\n",
              "    </tr>\n",
              "    <tr>\n",
              "      <th>20.0</th>\n",
              "      <td>273</td>\n",
              "    </tr>\n",
              "    <tr>\n",
              "      <th>21.0</th>\n",
              "      <td>272</td>\n",
              "    </tr>\n",
              "    <tr>\n",
              "      <th>19.0</th>\n",
              "      <td>261</td>\n",
              "    </tr>\n",
              "    <tr>\n",
              "      <th>18.0</th>\n",
              "      <td>256</td>\n",
              "    </tr>\n",
              "    <tr>\n",
              "      <th>66.0</th>\n",
              "      <td>254</td>\n",
              "    </tr>\n",
              "    <tr>\n",
              "      <th>71.0</th>\n",
              "      <td>247</td>\n",
              "    </tr>\n",
              "    <tr>\n",
              "      <th>72.0</th>\n",
              "      <td>244</td>\n",
              "    </tr>\n",
              "    <tr>\n",
              "      <th>68.0</th>\n",
              "      <td>228</td>\n",
              "    </tr>\n",
              "    <tr>\n",
              "      <th>74.0</th>\n",
              "      <td>224</td>\n",
              "    </tr>\n",
              "    <tr>\n",
              "      <th>70.0</th>\n",
              "      <td>221</td>\n",
              "    </tr>\n",
              "    <tr>\n",
              "      <th>67.0</th>\n",
              "      <td>211</td>\n",
              "    </tr>\n",
              "    <tr>\n",
              "      <th>69.0</th>\n",
              "      <td>205</td>\n",
              "    </tr>\n",
              "    <tr>\n",
              "      <th>73.0</th>\n",
              "      <td>190</td>\n",
              "    </tr>\n",
              "    <tr>\n",
              "      <th>75.0</th>\n",
              "      <td>179</td>\n",
              "    </tr>\n",
              "    <tr>\n",
              "      <th>76.0</th>\n",
              "      <td>148</td>\n",
              "    </tr>\n",
              "    <tr>\n",
              "      <th>17.0</th>\n",
              "      <td>148</td>\n",
              "    </tr>\n",
              "    <tr>\n",
              "      <th>79.0</th>\n",
              "      <td>142</td>\n",
              "    </tr>\n",
              "    <tr>\n",
              "      <th>80.0</th>\n",
              "      <td>138</td>\n",
              "    </tr>\n",
              "    <tr>\n",
              "      <th>77.0</th>\n",
              "      <td>136</td>\n",
              "    </tr>\n",
              "    <tr>\n",
              "      <th>78.0</th>\n",
              "      <td>121</td>\n",
              "    </tr>\n",
              "    <tr>\n",
              "      <th>82.0</th>\n",
              "      <td>115</td>\n",
              "    </tr>\n",
              "    <tr>\n",
              "      <th>81.0</th>\n",
              "      <td>104</td>\n",
              "    </tr>\n",
              "    <tr>\n",
              "      <th>83.0</th>\n",
              "      <td>101</td>\n",
              "    </tr>\n",
              "    <tr>\n",
              "      <th>84.0</th>\n",
              "      <td>94</td>\n",
              "    </tr>\n",
              "    <tr>\n",
              "      <th>85.0</th>\n",
              "      <td>79</td>\n",
              "    </tr>\n",
              "    <tr>\n",
              "      <th>87.0</th>\n",
              "      <td>74</td>\n",
              "    </tr>\n",
              "    <tr>\n",
              "      <th>86.0</th>\n",
              "      <td>70</td>\n",
              "    </tr>\n",
              "    <tr>\n",
              "      <th>88.0</th>\n",
              "      <td>48</td>\n",
              "    </tr>\n",
              "    <tr>\n",
              "      <th>89.0</th>\n",
              "      <td>38</td>\n",
              "    </tr>\n",
              "    <tr>\n",
              "      <th>90.0</th>\n",
              "      <td>30</td>\n",
              "    </tr>\n",
              "    <tr>\n",
              "      <th>16.0</th>\n",
              "      <td>28</td>\n",
              "    </tr>\n",
              "    <tr>\n",
              "      <th>91.0</th>\n",
              "      <td>19</td>\n",
              "    </tr>\n",
              "    <tr>\n",
              "      <th>92.0</th>\n",
              "      <td>13</td>\n",
              "    </tr>\n",
              "    <tr>\n",
              "      <th>93.0</th>\n",
              "      <td>12</td>\n",
              "    </tr>\n",
              "    <tr>\n",
              "      <th>95.0</th>\n",
              "      <td>8</td>\n",
              "    </tr>\n",
              "    <tr>\n",
              "      <th>15.0</th>\n",
              "      <td>6</td>\n",
              "    </tr>\n",
              "    <tr>\n",
              "      <th>13.0</th>\n",
              "      <td>6</td>\n",
              "    </tr>\n",
              "    <tr>\n",
              "      <th>94.0</th>\n",
              "      <td>6</td>\n",
              "    </tr>\n",
              "    <tr>\n",
              "      <th>98.0</th>\n",
              "      <td>4</td>\n",
              "    </tr>\n",
              "    <tr>\n",
              "      <th>99.0</th>\n",
              "      <td>3</td>\n",
              "    </tr>\n",
              "    <tr>\n",
              "      <th>12.0</th>\n",
              "      <td>3</td>\n",
              "    </tr>\n",
              "    <tr>\n",
              "      <th>11.0</th>\n",
              "      <td>2</td>\n",
              "    </tr>\n",
              "    <tr>\n",
              "      <th>14.0</th>\n",
              "      <td>2</td>\n",
              "    </tr>\n",
              "    <tr>\n",
              "      <th>6.0</th>\n",
              "      <td>1</td>\n",
              "    </tr>\n",
              "    <tr>\n",
              "      <th>96.0</th>\n",
              "      <td>1</td>\n",
              "    </tr>\n",
              "    <tr>\n",
              "      <th>101.0</th>\n",
              "      <td>1</td>\n",
              "    </tr>\n",
              "    <tr>\n",
              "      <th>97.0</th>\n",
              "      <td>1</td>\n",
              "    </tr>\n",
              "    <tr>\n",
              "      <th>10.0</th>\n",
              "      <td>1</td>\n",
              "    </tr>\n",
              "  </tbody>\n",
              "</table>"
            ],
            "text/plain": [
              "<IPython.core.display.HTML object>"
            ]
          },
          "metadata": {},
          "output_type": "display_data"
        },
        {
          "name": "stdout",
          "output_type": "stream",
          "text": [
            "\n"
          ]
        }
      ],
      "source": [
        "columns= ['light_conditions',\n",
        "       'weather_conditions', 'road_surface_conditions', 'vehicle_type',\n",
        "       'junction_location', 'skidding_and_overturning',\n",
        "       'vehicle_leaving_carriageway', 'hit_object_off_carriageway',\n",
        "       'first_point_of_impact', 'sex_of_driver',\n",
        "       'accident_severity', 'speed_limit', 'age_of_oldest_driver']\n",
        "# Question: why have we not included Loan_ID?\n",
        "\n",
        "# let's get the categories and their count for each feature\n",
        "for col in columns:\n",
        "  print(f\"Categories and number of occurrences for '{col}'\")\n",
        "  pretty_print_df(data[col].value_counts())\n",
        "  print()"
      ]
    },
    {
      "cell_type": "code",
      "execution_count": 47,
      "metadata": {
        "colab": {
          "base_uri": "https://localhost:8080/",
          "height": 1000
        },
        "id": "-tKCt1BkyxyJ",
        "outputId": "c338863b-1bbe-45f1-e1dc-a97a4aee2f39"
      },
      "outputs": [
        {
          "data": {
            "image/png": "[encoded data removed]",
            "text/plain": [
              "<Figure size 640x480 with 1 Axes>"
            ]
          },
          "metadata": {},
          "output_type": "display_data"
        },
        {
          "data": {
            "image/png": "[encoded data removed]",
            "text/plain": [
              "<Figure size 640x480 with 1 Axes>"
            ]
          },
          "metadata": {},
          "output_type": "display_data"
        },
        {
          "data": {
            "image/png": "[encoded data removed]",
            "text/plain": [
              "<Figure size 640x480 with 1 Axes>"
            ]
          },
          "metadata": {},
          "output_type": "display_data"
        },
        {
          "data": {
            "image/png": "[encoded data removed]",
            "text/plain": [
              "<Figure size 640x480 with 1 Axes>"
            ]
          },
          "metadata": {},
          "output_type": "display_data"
        },
        {
          "data": {
            "image/png": "[encoded data removed]",
            "text/plain": [
              "<Figure size 640x480 with 1 Axes>"
            ]
          },
          "metadata": {},
          "output_type": "display_data"
        },
        {
          "data": {
            "image/png": "[encoded data removed]",
            "text/plain": [
              "<Figure size 640x480 with 1 Axes>"
            ]
          },
          "metadata": {},
          "output_type": "display_data"
        }
      ],
      "source": [
        "import matplotlib.pyplot as plt\n",
        "import numpy as np\n",
        "import pandas as pd\n",
        "\n",
        "# Scatter Plot\n",
        "plt.scatter(data['age_of_oldest_driver'], data['speed_limit'])\n",
        "plt.xlabel('Age of Oldest Driver')\n",
        "plt.ylabel('Speed Limit')\n",
        "plt.title('Scatter Plot of Age of Oldest Driver vs. Speed Limit')\n",
        "plt.show()\n",
        "\n",
        "# Histogram\n",
        "plt.hist(data['age_of_oldest_driver'], bins=20)\n",
        "plt.xlabel('Age of Oldest Driver')\n",
        "plt.ylabel('Frequency')\n",
        "plt.title('Histogram of Age of Oldest Driver')\n",
        "plt.show()\n",
        "\n",
        "# Bar Plot\n",
        "data['accident_severity'].value_counts().plot(kind='bar')\n",
        "plt.xlabel('Accident Severity')\n",
        "plt.ylabel('Number of Accidents')\n",
        "plt.title('Bar Plot of Accident Severity')\n",
        "plt.show()\n"
      ]
    },
    {
      "cell_type": "markdown",
      "metadata": {
        "id": "gbnbYmE5wppP"
      },
      "source": [
        "\n",
        "we can see there are duplicate 'accident_index'\n"
      ]
    },
    {
      "cell_type": "markdown",
      "metadata": {
        "id": "gOwHsib54MYO"
      },
      "source": [
        "# **DATA PRE-PROCESSING**"
      ]
    },
    {
      "cell_type": "code",
      "execution_count": 48,
      "metadata": {
        "colab": {
          "base_uri": "https://localhost:8080/"
        },
        "id": "L82KxVVQu33_",
        "outputId": "e4698335-6d23-48c5-fd7d-a9eb10306f22"
      },
      "outputs": [
        {
          "name": "stdout",
          "output_type": "stream",
          "text": [
            "Number of duplicate values: 1172\n",
            "Number of duplicate values: 1172\n"
          ]
        }
      ],
      "source": [
        "# Check for duplicate values in accident_index column\n",
        "print(\"Number of duplicate values:\", len(data[data.duplicated(subset='accident_index')]))\n",
        "\n",
        "# Drop duplicate values\n",
        "data.drop_duplicates(subset='accident_index', keep='first', inplace=True)\n"
      ]
    },
    {
      "cell_type": "code",
      "execution_count": 49,
      "metadata": {
        "colab": {
          "base_uri": "https://localhost:8080/"
        },
        "id": "tGtEdiEDyDsN",
        "outputId": "6be3ae62-4938-4f31-a70c-e581e2da23e4"
      },
      "outputs": [
        {
          "name": "stdout",
          "output_type": "stream",
          "text": [
            "Number of duplicate values after: 0\n",
            "Number of duplicate values after: 0\n"
          ]
        }
      ],
      "source": [
        "\n",
        "# Check for duplicate values in accident_index column\n",
        "print(\"Number of duplicate values after:\", len(data[data.duplicated(subset='accident_index')]))"
      ]
    },
    {
      "cell_type": "code",
      "execution_count": 50,
      "metadata": {
        "colab": {
          "base_uri": "https://localhost:8080/"
        },
        "id": "BLaixFHv6WUs",
        "outputId": "e23c1e34-136d-4de9-db3e-4cc788c6cb69"
      },
      "outputs": [
        {
          "name": "stdout",
          "output_type": "stream",
          "text": [
            "Number of data points that contain 3 or more empty/null values: 0\n",
            "Number of data points that contain 3 or more empty/null values: 0\n"
          ]
        }
      ],
      "source": [
        "# Count the number of data points that contain 3 or more empty/null values\n",
        "null_count = (data.isna().sum(axis=1) >= 3).sum()\n",
        "\n",
        "# Print the result\n",
        "print(\"Number of data points that contain 3 or more empty/null values:\", null_count)\n"
      ]
    },
    {
      "cell_type": "code",
      "execution_count": 51,
      "metadata": {
        "id": "TovYHzwD7YwU"
      },
      "outputs": [],
      "source": [
        "# remove the rows containing 3 or more null/NaN values from the data dataframe\n",
        "data.dropna(thresh=3, inplace=True)\n"
      ]
    },
    {
      "cell_type": "code",
      "execution_count": 52,
      "metadata": {
        "id": "Ah4W8SfJ8UeL"
      },
      "outputs": [],
      "source": [
        "data = data.drop('accident_index', axis=1)"
      ]
    },
    {
      "cell_type": "code",
      "execution_count": 53,
      "metadata": {
        "colab": {
          "base_uri": "https://localhost:8080/"
        },
        "id": "1B2xlAhG7lCc",
        "outputId": "690e9246-5c96-495c-b349-beedec9b74eb"
      },
      "outputs": [
        {
          "name": "stdout",
          "output_type": "stream",
          "text": [
            "['speed_limit', 'age_of_oldest_driver']\n",
            "['light_conditions', 'weather_conditions', 'road_surface_conditions', 'vehicle_type', 'junction_location', 'skidding_and_overturning', 'vehicle_leaving_carriageway', 'hit_object_off_carriageway', 'first_point_of_impact', 'sex_of_driver', 'accident_severity']\n",
            "['speed_limit', 'age_of_oldest_driver']\n",
            "['light_conditions', 'weather_conditions', 'road_surface_conditions', 'vehicle_type', 'junction_location', 'skidding_and_overturning', 'vehicle_leaving_carriageway', 'hit_object_off_carriageway', 'first_point_of_impact', 'sex_of_driver', 'accident_severity']\n"
          ]
        }
      ],
      "source": [
        "numeric_cols = data.select_dtypes(include=['int64', 'float64']).columns.tolist()\n",
        "categorical_cols = data.select_dtypes(include=['object', 'category']).columns.tolist()\n",
        "print(numeric_cols)\n",
        "print(categorical_cols)"
      ]
    },
    {
      "cell_type": "code",
      "execution_count": 54,
      "metadata": {
        "colab": {
          "base_uri": "https://localhost:8080/",
          "height": 1000
        },
        "id": "OHQU3XZj7Tv7",
        "outputId": "32b137ef-3dba-4a97-ffb2-07b6fa10047b"
      },
      "outputs": [
        {
          "name": "stdout",
          "output_type": "stream",
          "text": [
            "Categories and number of occurrences for 'light_conditions'\n"
          ]
        },
        {
          "data": {
            "text/html": [
              "<table border=\"1\" class=\"dataframe\">\n",
              "  <thead>\n",
              "    <tr style=\"text-align: right;\">\n",
              "      <th></th>\n",
              "      <th>light_conditions</th>\n",
              "    </tr>\n",
              "  </thead>\n",
              "  <tbody>\n",
              "    <tr>\n",
              "      <th>daylight</th>\n",
              "      <td>21396</td>\n",
              "    </tr>\n",
              "    <tr>\n",
              "      <th>darkness</th>\n",
              "      <td>9079</td>\n",
              "    </tr>\n",
              "  </tbody>\n",
              "</table>"
            ],
            "text/plain": [
              "<IPython.core.display.HTML object>"
            ]
          },
          "metadata": {},
          "output_type": "display_data"
        },
        {
          "name": "stdout",
          "output_type": "stream",
          "text": [
            "\n",
            "Categories and number of occurrences for 'weather_conditions'\n"
          ]
        },
        {
          "data": {
            "text/html": [
              "<table border=\"1\" class=\"dataframe\">\n",
              "  <thead>\n",
              "    <tr style=\"text-align: right;\">\n",
              "      <th></th>\n",
              "      <th>weather_conditions</th>\n",
              "    </tr>\n",
              "  </thead>\n",
              "  <tbody>\n",
              "    <tr>\n",
              "      <th>fine</th>\n",
              "      <td>24228</td>\n",
              "    </tr>\n",
              "    <tr>\n",
              "      <th>other</th>\n",
              "      <td>5191</td>\n",
              "    </tr>\n",
              "    <tr>\n",
              "      <th>data missing or out of range</th>\n",
              "      <td>939</td>\n",
              "    </tr>\n",
              "    <tr>\n",
              "      <th>fog or mist</th>\n",
              "      <td>117</td>\n",
              "    </tr>\n",
              "  </tbody>\n",
              "</table>"
            ],
            "text/plain": [
              "<IPython.core.display.HTML object>"
            ]
          },
          "metadata": {},
          "output_type": "display_data"
        },
        {
          "name": "stdout",
          "output_type": "stream",
          "text": [
            "\n",
            "Categories and number of occurrences for 'road_surface_conditions'\n"
          ]
        },
        {
          "data": {
            "text/html": [
              "<table border=\"1\" class=\"dataframe\">\n",
              "  <thead>\n",
              "    <tr style=\"text-align: right;\">\n",
              "      <th></th>\n",
              "      <th>road_surface_conditions</th>\n",
              "    </tr>\n",
              "  </thead>\n",
              "  <tbody>\n",
              "    <tr>\n",
              "      <th>dry</th>\n",
              "      <td>21281</td>\n",
              "    </tr>\n",
              "    <tr>\n",
              "      <th>wet or damp</th>\n",
              "      <td>8420</td>\n",
              "    </tr>\n",
              "    <tr>\n",
              "      <th>other</th>\n",
              "      <td>366</td>\n",
              "    </tr>\n",
              "    <tr>\n",
              "      <th>data missing or out of range</th>\n",
              "      <td>354</td>\n",
              "    </tr>\n",
              "    <tr>\n",
              "      <th>flood over 3cm. deep</th>\n",
              "      <td>54</td>\n",
              "    </tr>\n",
              "  </tbody>\n",
              "</table>"
            ],
            "text/plain": [
              "<IPython.core.display.HTML object>"
            ]
          },
          "metadata": {},
          "output_type": "display_data"
        },
        {
          "name": "stdout",
          "output_type": "stream",
          "text": [
            "\n",
            "Categories and number of occurrences for 'vehicle_type'\n"
          ]
        },
        {
          "data": {
            "text/html": [
              "<table border=\"1\" class=\"dataframe\">\n",
              "  <thead>\n",
              "    <tr style=\"text-align: right;\">\n",
              "      <th></th>\n",
              "      <th>vehicle_type</th>\n",
              "    </tr>\n",
              "  </thead>\n",
              "  <tbody>\n",
              "    <tr>\n",
              "      <th>only cars</th>\n",
              "      <td>16830</td>\n",
              "    </tr>\n",
              "    <tr>\n",
              "      <th>at least one biped</th>\n",
              "      <td>8345</td>\n",
              "    </tr>\n",
              "    <tr>\n",
              "      <th>at least one van</th>\n",
              "      <td>3899</td>\n",
              "    </tr>\n",
              "    <tr>\n",
              "      <th>biped and van</th>\n",
              "      <td>964</td>\n",
              "    </tr>\n",
              "    <tr>\n",
              "      <th>other</th>\n",
              "      <td>378</td>\n",
              "    </tr>\n",
              "    <tr>\n",
              "      <th>data missing or out of range</th>\n",
              "      <td>59</td>\n",
              "    </tr>\n",
              "  </tbody>\n",
              "</table>"
            ],
            "text/plain": [
              "<IPython.core.display.HTML object>"
            ]
          },
          "metadata": {},
          "output_type": "display_data"
        },
        {
          "name": "stdout",
          "output_type": "stream",
          "text": [
            "\n",
            "Categories and number of occurrences for 'junction_location'\n"
          ]
        },
        {
          "data": {
            "text/html": [
              "<table border=\"1\" class=\"dataframe\">\n",
              "  <thead>\n",
              "    <tr style=\"text-align: right;\">\n",
              "      <th></th>\n",
              "      <th>junction_location</th>\n",
              "    </tr>\n",
              "  </thead>\n",
              "  <tbody>\n",
              "    <tr>\n",
              "      <th>at or within 20 metres of junction</th>\n",
              "      <td>16527</td>\n",
              "    </tr>\n",
              "    <tr>\n",
              "      <th>not at or within 20 metres of junction</th>\n",
              "      <td>12526</td>\n",
              "    </tr>\n",
              "    <tr>\n",
              "      <th>data missing or out of range</th>\n",
              "      <td>1422</td>\n",
              "    </tr>\n",
              "  </tbody>\n",
              "</table>"
            ],
            "text/plain": [
              "<IPython.core.display.HTML object>"
            ]
          },
          "metadata": {},
          "output_type": "display_data"
        },
        {
          "name": "stdout",
          "output_type": "stream",
          "text": [
            "\n",
            "Categories and number of occurrences for 'skidding_and_overturning'\n"
          ]
        },
        {
          "data": {
            "text/html": [
              "<table border=\"1\" class=\"dataframe\">\n",
              "  <thead>\n",
              "    <tr style=\"text-align: right;\">\n",
              "      <th></th>\n",
              "      <th>skidding_and_overturning</th>\n",
              "    </tr>\n",
              "  </thead>\n",
              "  <tbody>\n",
              "    <tr>\n",
              "      <th>no skidding or overturning</th>\n",
              "      <td>23478</td>\n",
              "    </tr>\n",
              "    <tr>\n",
              "      <th>at least one vehicle skidded or overturned</th>\n",
              "      <td>5022</td>\n",
              "    </tr>\n",
              "    <tr>\n",
              "      <th>data missing or out of range</th>\n",
              "      <td>1975</td>\n",
              "    </tr>\n",
              "  </tbody>\n",
              "</table>"
            ],
            "text/plain": [
              "<IPython.core.display.HTML object>"
            ]
          },
          "metadata": {},
          "output_type": "display_data"
        },
        {
          "name": "stdout",
          "output_type": "stream",
          "text": [
            "\n",
            "Categories and number of occurrences for 'vehicle_leaving_carriageway'\n"
          ]
        },
        {
          "data": {
            "text/html": [
              "<table border=\"1\" class=\"dataframe\">\n",
              "  <thead>\n",
              "    <tr style=\"text-align: right;\">\n",
              "      <th></th>\n",
              "      <th>vehicle_leaving_carriageway</th>\n",
              "    </tr>\n",
              "  </thead>\n",
              "  <tbody>\n",
              "    <tr>\n",
              "      <th>none leaving carriageway</th>\n",
              "      <td>23104</td>\n",
              "    </tr>\n",
              "    <tr>\n",
              "      <th>at least one vehicle leaving carriageway</th>\n",
              "      <td>5460</td>\n",
              "    </tr>\n",
              "    <tr>\n",
              "      <th>data missing or out of range</th>\n",
              "      <td>1911</td>\n",
              "    </tr>\n",
              "  </tbody>\n",
              "</table>"
            ],
            "text/plain": [
              "<IPython.core.display.HTML object>"
            ]
          },
          "metadata": {},
          "output_type": "display_data"
        },
        {
          "name": "stdout",
          "output_type": "stream",
          "text": [
            "\n",
            "Categories and number of occurrences for 'hit_object_off_carriageway'\n"
          ]
        },
        {
          "data": {
            "text/html": [
              "<table border=\"1\" class=\"dataframe\">\n",
              "  <thead>\n",
              "    <tr style=\"text-align: right;\">\n",
              "      <th></th>\n",
              "      <th>hit_object_off_carriageway</th>\n",
              "    </tr>\n",
              "  </thead>\n",
              "  <tbody>\n",
              "    <tr>\n",
              "      <th>none hit an object</th>\n",
              "      <td>25153</td>\n",
              "    </tr>\n",
              "    <tr>\n",
              "      <th>at least one vehicle hit an object</th>\n",
              "      <td>3513</td>\n",
              "    </tr>\n",
              "    <tr>\n",
              "      <th>data missing or out of range</th>\n",
              "      <td>1809</td>\n",
              "    </tr>\n",
              "  </tbody>\n",
              "</table>"
            ],
            "text/plain": [
              "<IPython.core.display.HTML object>"
            ]
          },
          "metadata": {},
          "output_type": "display_data"
        },
        {
          "name": "stdout",
          "output_type": "stream",
          "text": [
            "\n",
            "Categories and number of occurrences for 'first_point_of_impact'\n"
          ]
        },
        {
          "data": {
            "text/html": [
              "<table border=\"1\" class=\"dataframe\">\n",
              "  <thead>\n",
              "    <tr style=\"text-align: right;\">\n",
              "      <th></th>\n",
              "      <th>first_point_of_impact</th>\n",
              "    </tr>\n",
              "  </thead>\n",
              "  <tbody>\n",
              "    <tr>\n",
              "      <th>at least one vehicle with frontal impact</th>\n",
              "      <td>22142</td>\n",
              "    </tr>\n",
              "    <tr>\n",
              "      <th>other points of impact</th>\n",
              "      <td>5780</td>\n",
              "    </tr>\n",
              "    <tr>\n",
              "      <th>no impact</th>\n",
              "      <td>1287</td>\n",
              "    </tr>\n",
              "    <tr>\n",
              "      <th>data missing or out of range</th>\n",
              "      <td>1266</td>\n",
              "    </tr>\n",
              "  </tbody>\n",
              "</table>"
            ],
            "text/plain": [
              "<IPython.core.display.HTML object>"
            ]
          },
          "metadata": {},
          "output_type": "display_data"
        },
        {
          "name": "stdout",
          "output_type": "stream",
          "text": [
            "\n",
            "Categories and number of occurrences for 'sex_of_driver'\n"
          ]
        },
        {
          "data": {
            "text/html": [
              "<table border=\"1\" class=\"dataframe\">\n",
              "  <thead>\n",
              "    <tr style=\"text-align: right;\">\n",
              "      <th></th>\n",
              "      <th>sex_of_driver</th>\n",
              "    </tr>\n",
              "  </thead>\n",
              "  <tbody>\n",
              "    <tr>\n",
              "      <th>all males</th>\n",
              "      <td>14907</td>\n",
              "    </tr>\n",
              "    <tr>\n",
              "      <th>male and female</th>\n",
              "      <td>6746</td>\n",
              "    </tr>\n",
              "    <tr>\n",
              "      <th>data missing or out of range</th>\n",
              "      <td>4952</td>\n",
              "    </tr>\n",
              "    <tr>\n",
              "      <th>all females</th>\n",
              "      <td>3870</td>\n",
              "    </tr>\n",
              "  </tbody>\n",
              "</table>"
            ],
            "text/plain": [
              "<IPython.core.display.HTML object>"
            ]
          },
          "metadata": {},
          "output_type": "display_data"
        },
        {
          "name": "stdout",
          "output_type": "stream",
          "text": [
            "\n",
            "Categories and number of occurrences for 'accident_severity'\n"
          ]
        },
        {
          "data": {
            "text/html": [
              "<table border=\"1\" class=\"dataframe\">\n",
              "  <thead>\n",
              "    <tr style=\"text-align: right;\">\n",
              "      <th></th>\n",
              "      <th>accident_severity</th>\n",
              "    </tr>\n",
              "  </thead>\n",
              "  <tbody>\n",
              "    <tr>\n",
              "      <th>slight</th>\n",
              "      <td>12171</td>\n",
              "    </tr>\n",
              "    <tr>\n",
              "      <th>serious</th>\n",
              "      <td>11156</td>\n",
              "    </tr>\n",
              "    <tr>\n",
              "      <th>fatal</th>\n",
              "      <td>5926</td>\n",
              "    </tr>\n",
              "    <tr>\n",
              "      <th>Serious</th>\n",
              "      <td>24</td>\n",
              "    </tr>\n",
              "    <tr>\n",
              "      <th>Slight</th>\n",
              "      <td>19</td>\n",
              "    </tr>\n",
              "    <tr>\n",
              "      <th>Fatal</th>\n",
              "      <td>7</td>\n",
              "    </tr>\n",
              "  </tbody>\n",
              "</table>"
            ],
            "text/plain": [
              "<IPython.core.display.HTML object>"
            ]
          },
          "metadata": {},
          "output_type": "display_data"
        },
        {
          "name": "stdout",
          "output_type": "stream",
          "text": [
            "\n",
            "Categories and number of occurrences for 'light_conditions'\n"
          ]
        },
        {
          "data": {
            "text/html": [
              "<table border=\"1\" class=\"dataframe\">\n",
              "  <thead>\n",
              "    <tr style=\"text-align: right;\">\n",
              "      <th></th>\n",
              "      <th>light_conditions</th>\n",
              "    </tr>\n",
              "  </thead>\n",
              "  <tbody>\n",
              "    <tr>\n",
              "      <th>daylight</th>\n",
              "      <td>21396</td>\n",
              "    </tr>\n",
              "    <tr>\n",
              "      <th>darkness</th>\n",
              "      <td>9079</td>\n",
              "    </tr>\n",
              "  </tbody>\n",
              "</table>"
            ],
            "text/plain": [
              "<IPython.core.display.HTML object>"
            ]
          },
          "metadata": {},
          "output_type": "display_data"
        },
        {
          "name": "stdout",
          "output_type": "stream",
          "text": [
            "\n",
            "Categories and number of occurrences for 'weather_conditions'\n"
          ]
        },
        {
          "data": {
            "text/html": [
              "<table border=\"1\" class=\"dataframe\">\n",
              "  <thead>\n",
              "    <tr style=\"text-align: right;\">\n",
              "      <th></th>\n",
              "      <th>weather_conditions</th>\n",
              "    </tr>\n",
              "  </thead>\n",
              "  <tbody>\n",
              "    <tr>\n",
              "      <th>fine</th>\n",
              "      <td>24228</td>\n",
              "    </tr>\n",
              "    <tr>\n",
              "      <th>other</th>\n",
              "      <td>5191</td>\n",
              "    </tr>\n",
              "    <tr>\n",
              "      <th>data missing or out of range</th>\n",
              "      <td>939</td>\n",
              "    </tr>\n",
              "    <tr>\n",
              "      <th>fog or mist</th>\n",
              "      <td>117</td>\n",
              "    </tr>\n",
              "  </tbody>\n",
              "</table>"
            ],
            "text/plain": [
              "<IPython.core.display.HTML object>"
            ]
          },
          "metadata": {},
          "output_type": "display_data"
        },
        {
          "name": "stdout",
          "output_type": "stream",
          "text": [
            "\n",
            "Categories and number of occurrences for 'road_surface_conditions'\n"
          ]
        },
        {
          "data": {
            "text/html": [
              "<table border=\"1\" class=\"dataframe\">\n",
              "  <thead>\n",
              "    <tr style=\"text-align: right;\">\n",
              "      <th></th>\n",
              "      <th>road_surface_conditions</th>\n",
              "    </tr>\n",
              "  </thead>\n",
              "  <tbody>\n",
              "    <tr>\n",
              "      <th>dry</th>\n",
              "      <td>21281</td>\n",
              "    </tr>\n",
              "    <tr>\n",
              "      <th>wet or damp</th>\n",
              "      <td>8420</td>\n",
              "    </tr>\n",
              "    <tr>\n",
              "      <th>other</th>\n",
              "      <td>366</td>\n",
              "    </tr>\n",
              "    <tr>\n",
              "      <th>data missing or out of range</th>\n",
              "      <td>354</td>\n",
              "    </tr>\n",
              "    <tr>\n",
              "      <th>flood over 3cm. deep</th>\n",
              "      <td>54</td>\n",
              "    </tr>\n",
              "  </tbody>\n",
              "</table>"
            ],
            "text/plain": [
              "<IPython.core.display.HTML object>"
            ]
          },
          "metadata": {},
          "output_type": "display_data"
        },
        {
          "name": "stdout",
          "output_type": "stream",
          "text": [
            "\n",
            "Categories and number of occurrences for 'vehicle_type'\n"
          ]
        },
        {
          "data": {
            "text/html": [
              "<table border=\"1\" class=\"dataframe\">\n",
              "  <thead>\n",
              "    <tr style=\"text-align: right;\">\n",
              "      <th></th>\n",
              "      <th>vehicle_type</th>\n",
              "    </tr>\n",
              "  </thead>\n",
              "  <tbody>\n",
              "    <tr>\n",
              "      <th>only cars</th>\n",
              "      <td>16830</td>\n",
              "    </tr>\n",
              "    <tr>\n",
              "      <th>at least one biped</th>\n",
              "      <td>8345</td>\n",
              "    </tr>\n",
              "    <tr>\n",
              "      <th>at least one van</th>\n",
              "      <td>3899</td>\n",
              "    </tr>\n",
              "    <tr>\n",
              "      <th>biped and van</th>\n",
              "      <td>964</td>\n",
              "    </tr>\n",
              "    <tr>\n",
              "      <th>other</th>\n",
              "      <td>378</td>\n",
              "    </tr>\n",
              "    <tr>\n",
              "      <th>data missing or out of range</th>\n",
              "      <td>59</td>\n",
              "    </tr>\n",
              "  </tbody>\n",
              "</table>"
            ],
            "text/plain": [
              "<IPython.core.display.HTML object>"
            ]
          },
          "metadata": {},
          "output_type": "display_data"
        },
        {
          "name": "stdout",
          "output_type": "stream",
          "text": [
            "\n",
            "Categories and number of occurrences for 'junction_location'\n"
          ]
        },
        {
          "data": {
            "text/html": [
              "<table border=\"1\" class=\"dataframe\">\n",
              "  <thead>\n",
              "    <tr style=\"text-align: right;\">\n",
              "      <th></th>\n",
              "      <th>junction_location</th>\n",
              "    </tr>\n",
              "  </thead>\n",
              "  <tbody>\n",
              "    <tr>\n",
              "      <th>at or within 20 metres of junction</th>\n",
              "      <td>16527</td>\n",
              "    </tr>\n",
              "    <tr>\n",
              "      <th>not at or within 20 metres of junction</th>\n",
              "      <td>12526</td>\n",
              "    </tr>\n",
              "    <tr>\n",
              "      <th>data missing or out of range</th>\n",
              "      <td>1422</td>\n",
              "    </tr>\n",
              "  </tbody>\n",
              "</table>"
            ],
            "text/plain": [
              "<IPython.core.display.HTML object>"
            ]
          },
          "metadata": {},
          "output_type": "display_data"
        },
        {
          "name": "stdout",
          "output_type": "stream",
          "text": [
            "\n",
            "Categories and number of occurrences for 'skidding_and_overturning'\n"
          ]
        },
        {
          "data": {
            "text/html": [
              "<table border=\"1\" class=\"dataframe\">\n",
              "  <thead>\n",
              "    <tr style=\"text-align: right;\">\n",
              "      <th></th>\n",
              "      <th>skidding_and_overturning</th>\n",
              "    </tr>\n",
              "  </thead>\n",
              "  <tbody>\n",
              "    <tr>\n",
              "      <th>no skidding or overturning</th>\n",
              "      <td>23478</td>\n",
              "    </tr>\n",
              "    <tr>\n",
              "      <th>at least one vehicle skidded or overturned</th>\n",
              "      <td>5022</td>\n",
              "    </tr>\n",
              "    <tr>\n",
              "      <th>data missing or out of range</th>\n",
              "      <td>1975</td>\n",
              "    </tr>\n",
              "  </tbody>\n",
              "</table>"
            ],
            "text/plain": [
              "<IPython.core.display.HTML object>"
            ]
          },
          "metadata": {},
          "output_type": "display_data"
        },
        {
          "name": "stdout",
          "output_type": "stream",
          "text": [
            "\n",
            "Categories and number of occurrences for 'vehicle_leaving_carriageway'\n"
          ]
        },
        {
          "data": {
            "text/html": [
              "<table border=\"1\" class=\"dataframe\">\n",
              "  <thead>\n",
              "    <tr style=\"text-align: right;\">\n",
              "      <th></th>\n",
              "      <th>vehicle_leaving_carriageway</th>\n",
              "    </tr>\n",
              "  </thead>\n",
              "  <tbody>\n",
              "    <tr>\n",
              "      <th>none leaving carriageway</th>\n",
              "      <td>23104</td>\n",
              "    </tr>\n",
              "    <tr>\n",
              "      <th>at least one vehicle leaving carriageway</th>\n",
              "      <td>5460</td>\n",
              "    </tr>\n",
              "    <tr>\n",
              "      <th>data missing or out of range</th>\n",
              "      <td>1911</td>\n",
              "    </tr>\n",
              "  </tbody>\n",
              "</table>"
            ],
            "text/plain": [
              "<IPython.core.display.HTML object>"
            ]
          },
          "metadata": {},
          "output_type": "display_data"
        },
        {
          "name": "stdout",
          "output_type": "stream",
          "text": [
            "\n",
            "Categories and number of occurrences for 'hit_object_off_carriageway'\n"
          ]
        },
        {
          "data": {
            "text/html": [
              "<table border=\"1\" class=\"dataframe\">\n",
              "  <thead>\n",
              "    <tr style=\"text-align: right;\">\n",
              "      <th></th>\n",
              "      <th>hit_object_off_carriageway</th>\n",
              "    </tr>\n",
              "  </thead>\n",
              "  <tbody>\n",
              "    <tr>\n",
              "      <th>none hit an object</th>\n",
              "      <td>25153</td>\n",
              "    </tr>\n",
              "    <tr>\n",
              "      <th>at least one vehicle hit an object</th>\n",
              "      <td>3513</td>\n",
              "    </tr>\n",
              "    <tr>\n",
              "      <th>data missing or out of range</th>\n",
              "      <td>1809</td>\n",
              "    </tr>\n",
              "  </tbody>\n",
              "</table>"
            ],
            "text/plain": [
              "<IPython.core.display.HTML object>"
            ]
          },
          "metadata": {},
          "output_type": "display_data"
        },
        {
          "name": "stdout",
          "output_type": "stream",
          "text": [
            "\n",
            "Categories and number of occurrences for 'first_point_of_impact'\n"
          ]
        },
        {
          "data": {
            "text/html": [
              "<table border=\"1\" class=\"dataframe\">\n",
              "  <thead>\n",
              "    <tr style=\"text-align: right;\">\n",
              "      <th></th>\n",
              "      <th>first_point_of_impact</th>\n",
              "    </tr>\n",
              "  </thead>\n",
              "  <tbody>\n",
              "    <tr>\n",
              "      <th>at least one vehicle with frontal impact</th>\n",
              "      <td>22142</td>\n",
              "    </tr>\n",
              "    <tr>\n",
              "      <th>other points of impact</th>\n",
              "      <td>5780</td>\n",
              "    </tr>\n",
              "    <tr>\n",
              "      <th>no impact</th>\n",
              "      <td>1287</td>\n",
              "    </tr>\n",
              "    <tr>\n",
              "      <th>data missing or out of range</th>\n",
              "      <td>1266</td>\n",
              "    </tr>\n",
              "  </tbody>\n",
              "</table>"
            ],
            "text/plain": [
              "<IPython.core.display.HTML object>"
            ]
          },
          "metadata": {},
          "output_type": "display_data"
        },
        {
          "name": "stdout",
          "output_type": "stream",
          "text": [
            "\n",
            "Categories and number of occurrences for 'sex_of_driver'\n"
          ]
        },
        {
          "data": {
            "text/html": [
              "<table border=\"1\" class=\"dataframe\">\n",
              "  <thead>\n",
              "    <tr style=\"text-align: right;\">\n",
              "      <th></th>\n",
              "      <th>sex_of_driver</th>\n",
              "    </tr>\n",
              "  </thead>\n",
              "  <tbody>\n",
              "    <tr>\n",
              "      <th>all males</th>\n",
              "      <td>14907</td>\n",
              "    </tr>\n",
              "    <tr>\n",
              "      <th>male and female</th>\n",
              "      <td>6746</td>\n",
              "    </tr>\n",
              "    <tr>\n",
              "      <th>data missing or out of range</th>\n",
              "      <td>4952</td>\n",
              "    </tr>\n",
              "    <tr>\n",
              "      <th>all females</th>\n",
              "      <td>3870</td>\n",
              "    </tr>\n",
              "  </tbody>\n",
              "</table>"
            ],
            "text/plain": [
              "<IPython.core.display.HTML object>"
            ]
          },
          "metadata": {},
          "output_type": "display_data"
        },
        {
          "name": "stdout",
          "output_type": "stream",
          "text": [
            "\n",
            "Categories and number of occurrences for 'accident_severity'\n"
          ]
        },
        {
          "data": {
            "text/html": [
              "<table border=\"1\" class=\"dataframe\">\n",
              "  <thead>\n",
              "    <tr style=\"text-align: right;\">\n",
              "      <th></th>\n",
              "      <th>accident_severity</th>\n",
              "    </tr>\n",
              "  </thead>\n",
              "  <tbody>\n",
              "    <tr>\n",
              "      <th>slight</th>\n",
              "      <td>12171</td>\n",
              "    </tr>\n",
              "    <tr>\n",
              "      <th>serious</th>\n",
              "      <td>11156</td>\n",
              "    </tr>\n",
              "    <tr>\n",
              "      <th>fatal</th>\n",
              "      <td>5926</td>\n",
              "    </tr>\n",
              "    <tr>\n",
              "      <th>Serious</th>\n",
              "      <td>24</td>\n",
              "    </tr>\n",
              "    <tr>\n",
              "      <th>Slight</th>\n",
              "      <td>19</td>\n",
              "    </tr>\n",
              "    <tr>\n",
              "      <th>Fatal</th>\n",
              "      <td>7</td>\n",
              "    </tr>\n",
              "  </tbody>\n",
              "</table>"
            ],
            "text/plain": [
              "<IPython.core.display.HTML object>"
            ]
          },
          "metadata": {},
          "output_type": "display_data"
        },
        {
          "name": "stdout",
          "output_type": "stream",
          "text": [
            "\n"
          ]
        }
      ],
      "source": [
        "categorical_columns= ['light_conditions',\n",
        "       'weather_conditions', 'road_surface_conditions', 'vehicle_type',\n",
        "       'junction_location', 'skidding_and_overturning',\n",
        "       'vehicle_leaving_carriageway', 'hit_object_off_carriageway',\n",
        "       'first_point_of_impact', 'sex_of_driver',\n",
        "       'accident_severity']\n",
        "\n",
        "# let's get the categories and their count for each feature\n",
        "for col in categorical_columns:\n",
        "  print(f\"Categories and number of occurrences for '{col}'\")\n",
        "  pretty_print_df(data[col].value_counts())\n",
        "  print()"
      ]
    },
    {
      "cell_type": "code",
      "execution_count": 55,
      "metadata": {
        "colab": {
          "base_uri": "https://localhost:8080/"
        },
        "id": "XBTnWRuUyHtb",
        "outputId": "0150fd6e-0d12-44be-b796-8af8cd8eee08"
      },
      "outputs": [
        {
          "name": "stdout",
          "output_type": "stream",
          "text": [
            "Total empty values: 7407\n",
            "Empty values per column:\n",
            "speed_limit                       0\n",
            "light_conditions                  0\n",
            "weather_conditions                0\n",
            "road_surface_conditions           0\n",
            "vehicle_type                      0\n",
            "junction_location                 0\n",
            "skidding_and_overturning          0\n",
            "vehicle_leaving_carriageway       0\n",
            "hit_object_off_carriageway        0\n",
            "first_point_of_impact             0\n",
            "sex_of_driver                     0\n",
            "age_of_oldest_driver           6235\n",
            "accident_severity              1172\n",
            "dtype: int64\n",
            "Total empty values: 7407\n",
            "Empty values per column:\n",
            "speed_limit                       0\n",
            "light_conditions                  0\n",
            "weather_conditions                0\n",
            "road_surface_conditions           0\n",
            "vehicle_type                      0\n",
            "junction_location                 0\n",
            "skidding_and_overturning          0\n",
            "vehicle_leaving_carriageway       0\n",
            "hit_object_off_carriageway        0\n",
            "first_point_of_impact             0\n",
            "sex_of_driver                     0\n",
            "age_of_oldest_driver           6235\n",
            "accident_severity              1172\n",
            "dtype: int64\n"
          ]
        }
      ],
      "source": [
        "# check for the empty values in the data frame \n",
        "\n",
        "# Count the total number of empty values\n",
        "total_empty = data.isnull().sum().sum()\n",
        "\n",
        "# Count the number of empty values in each column\n",
        "empty_per_col = data.isnull().sum()\n",
        "\n",
        "# Print the results\n",
        "print(f'Total empty values: {total_empty}')\n",
        "print(f'Empty values per column:\\n{empty_per_col}')"
      ]
    },
    {
      "cell_type": "code",
      "execution_count": 56,
      "metadata": {
        "id": "ENp73ufO_ldS"
      },
      "outputs": [],
      "source": [
        "# Replace 'data missing or out of range' with NaN\n",
        "data.replace('data missing or out of range', np.nan, inplace=True)"
      ]
    },
    {
      "cell_type": "code",
      "execution_count": 57,
      "metadata": {
        "colab": {
          "base_uri": "https://localhost:8080/"
        },
        "id": "q8fWLU_gPm_6",
        "outputId": "7b053bd5-3e18-462d-ed1b-70909e7ff207"
      },
      "outputs": [
        {
          "name": "stdout",
          "output_type": "stream",
          "text": [
            "Total empty values: 22094\n",
            "Empty values per column:\n",
            "speed_limit                       0\n",
            "light_conditions                  0\n",
            "weather_conditions              939\n",
            "road_surface_conditions         354\n",
            "vehicle_type                     59\n",
            "junction_location              1422\n",
            "skidding_and_overturning       1975\n",
            "vehicle_leaving_carriageway    1911\n",
            "hit_object_off_carriageway     1809\n",
            "first_point_of_impact          1266\n",
            "sex_of_driver                  4952\n",
            "age_of_oldest_driver           6235\n",
            "accident_severity              1172\n",
            "dtype: int64\n",
            "Total empty values: 22094\n",
            "Empty values per column:\n",
            "speed_limit                       0\n",
            "light_conditions                  0\n",
            "weather_conditions              939\n",
            "road_surface_conditions         354\n",
            "vehicle_type                     59\n",
            "junction_location              1422\n",
            "skidding_and_overturning       1975\n",
            "vehicle_leaving_carriageway    1911\n",
            "hit_object_off_carriageway     1809\n",
            "first_point_of_impact          1266\n",
            "sex_of_driver                  4952\n",
            "age_of_oldest_driver           6235\n",
            "accident_severity              1172\n",
            "dtype: int64\n"
          ]
        }
      ],
      "source": [
        "# check for the empty values in the data frame \n",
        "\n",
        "# Count the total number of empty values\n",
        "total_empty = data.isnull().sum().sum()\n",
        "\n",
        "# Count the number of empty values in each column\n",
        "empty_per_col = data.isnull().sum()\n",
        "\n",
        "# Print the results\n",
        "print(f'Total empty values: {total_empty}')\n",
        "print(f'Empty values per column:\\n{empty_per_col}')"
      ]
    },
    {
      "cell_type": "code",
      "execution_count": 58,
      "metadata": {
        "id": "utxNl0EgEgln"
      },
      "outputs": [],
      "source": [
        "# Mode imputation for categorical columns\n",
        "cat_cols = data.select_dtypes(include='object').columns.tolist()\n",
        "\n",
        "for col in cat_cols:\n",
        "    mode_val = data[col].mode().values[0]\n",
        "    data[col].fillna(mode_val, inplace=True)\n"
      ]
    },
    {
      "cell_type": "code",
      "execution_count": 59,
      "metadata": {
        "id": "YiM49Rr1ERNh"
      },
      "outputs": [],
      "source": [
        "# Mean imputation for numerical columns\n",
        "\n",
        "for col in numeric_cols:\n",
        "    mean_val = data[col].mean()\n",
        "    data[col].fillna(mean_val, inplace=True)\n"
      ]
    },
    {
      "cell_type": "code",
      "execution_count": 60,
      "metadata": {
        "colab": {
          "base_uri": "https://localhost:8080/"
        },
        "id": "0dstKi_hEnQ1",
        "outputId": "c57c2244-b4c1-40dd-a854-75519552e622"
      },
      "outputs": [
        {
          "name": "stdout",
          "output_type": "stream",
          "text": [
            "Total empty values: 0\n",
            "Empty values per column:\n",
            "speed_limit                    0\n",
            "light_conditions               0\n",
            "weather_conditions             0\n",
            "road_surface_conditions        0\n",
            "vehicle_type                   0\n",
            "junction_location              0\n",
            "skidding_and_overturning       0\n",
            "vehicle_leaving_carriageway    0\n",
            "hit_object_off_carriageway     0\n",
            "first_point_of_impact          0\n",
            "sex_of_driver                  0\n",
            "age_of_oldest_driver           0\n",
            "accident_severity              0\n",
            "dtype: int64\n",
            "Total empty values: 0\n",
            "Empty values per column:\n",
            "speed_limit                    0\n",
            "light_conditions               0\n",
            "weather_conditions             0\n",
            "road_surface_conditions        0\n",
            "vehicle_type                   0\n",
            "junction_location              0\n",
            "skidding_and_overturning       0\n",
            "vehicle_leaving_carriageway    0\n",
            "hit_object_off_carriageway     0\n",
            "first_point_of_impact          0\n",
            "sex_of_driver                  0\n",
            "age_of_oldest_driver           0\n",
            "accident_severity              0\n",
            "dtype: int64\n"
          ]
        }
      ],
      "source": [
        "# check for the empty values in the data frame \n",
        "\n",
        "# Count the total number of empty values\n",
        "total_empty = data.isnull().sum().sum()\n",
        "\n",
        "# Count the number of empty values in each column\n",
        "empty_per_col = data.isnull().sum()\n",
        "\n",
        "# Print the results\n",
        "print(f'Total empty values: {total_empty}')\n",
        "print(f'Empty values per column:\\n{empty_per_col}')"
      ]
    },
    {
      "cell_type": "markdown",
      "metadata": {
        "id": "ie5uACWpyy1Z"
      },
      "source": [
        "filling missing value data per column"
      ]
    },
    {
      "cell_type": "markdown",
      "metadata": {
        "id": "9iLTEirIzNdo"
      },
      "source": [
        "we could see that for some datapoints, the speed was '-1'. we could remove those columns"
      ]
    },
    {
      "cell_type": "code",
      "execution_count": 61,
      "metadata": {
        "id": "p_E4-U8pz1TH"
      },
      "outputs": [],
      "source": [
        "# drop all rows where speed_limit < 0\n",
        "data = data[data.speed_limit > 0]\n",
        "data = data[data.age_of_oldest_driver > 0]"
      ]
    },
    {
      "cell_type": "code",
      "execution_count": 62,
      "metadata": {
        "colab": {
          "base_uri": "https://localhost:8080/"
        },
        "id": "6PJbTl041qB6",
        "outputId": "d8e60de4-6753-4d86-dd93-7992903cb8ca"
      },
      "outputs": [
        {
          "name": "stdout",
          "output_type": "stream",
          "text": [
            "(30451, 13)\n",
            "(30451, 13)\n"
          ]
        }
      ],
      "source": [
        "print(data.shape)"
      ]
    },
    {
      "cell_type": "markdown",
      "metadata": {
        "id": "kaiEav2k4xkG"
      },
      "source": [
        "***DATA CLEANING***"
      ]
    },
    {
      "cell_type": "code",
      "execution_count": 63,
      "metadata": {
        "colab": {
          "base_uri": "https://localhost:8080/"
        },
        "id": "ETSTweMT3jL3",
        "outputId": "d259e773-d8bd-4d95-9423-add5730147a4"
      },
      "outputs": [
        {
          "name": "stdout",
          "output_type": "stream",
          "text": [
            "Total empty values: 0\n",
            "Empty values per column:\n",
            "speed_limit                    0\n",
            "light_conditions               0\n",
            "weather_conditions             0\n",
            "road_surface_conditions        0\n",
            "vehicle_type                   0\n",
            "junction_location              0\n",
            "skidding_and_overturning       0\n",
            "vehicle_leaving_carriageway    0\n",
            "hit_object_off_carriageway     0\n",
            "first_point_of_impact          0\n",
            "sex_of_driver                  0\n",
            "age_of_oldest_driver           0\n",
            "accident_severity              0\n",
            "dtype: int64\n",
            "New shape of the dataframe: (30451, 13)\n",
            "Total empty values: 0\n",
            "Empty values per column:\n",
            "speed_limit                    0\n",
            "light_conditions               0\n",
            "weather_conditions             0\n",
            "road_surface_conditions        0\n",
            "vehicle_type                   0\n",
            "junction_location              0\n",
            "skidding_and_overturning       0\n",
            "vehicle_leaving_carriageway    0\n",
            "hit_object_off_carriageway     0\n",
            "first_point_of_impact          0\n",
            "sex_of_driver                  0\n",
            "age_of_oldest_driver           0\n",
            "accident_severity              0\n",
            "dtype: int64\n",
            "New shape of the dataframe: (30451, 13)\n"
          ]
        }
      ],
      "source": [
        "\n",
        "\n",
        "# Count the total number of empty values\n",
        "total_empty = data.isnull().sum().sum()\n",
        "\n",
        "# Count the number of empty values in each column\n",
        "empty_per_col = data.isnull().sum()\n",
        "\n",
        "# Print the results\n",
        "print(f'Total empty values: {total_empty}')\n",
        "print(f'Empty values per column:\\n{empty_per_col}')\n",
        "\n",
        "# Drop rows with NaN values\n",
        "data.dropna(inplace=True)\n",
        "\n",
        "# Verify the new shape of the dataframe\n",
        "print(f\"New shape of the dataframe: {data.shape}\")"
      ]
    },
    {
      "cell_type": "code",
      "execution_count": 64,
      "metadata": {
        "id": "CaduOj3e8BzI"
      },
      "outputs": [],
      "source": [
        "# Clean up value counts for weather_conditions column\n",
        "data.weather_conditions.replace({'fog or mist': 'fog/mist'}, inplace=True)\n",
        "# Clean up value counts for road_surface_conditions column\n",
        "data.road_surface_conditions.replace({'wet or damp': 'wet/damp', 'flood over 3cm. deep': 'flooded'}, inplace=True)\n",
        "# Clean up value counts for vehicle_type column\n",
        "data.vehicle_type.replace({'only cars': 'cars', 'at least one biped': 'biped(s)', 'at least one van': 'van(s)', 'biped and van': 'biped(s) & van(s)'}, inplace=True)\n",
        "# Clean up value counts for junction_location column\n",
        "data.junction_location.replace({'at or within 20 metres of junction': 'near to junction', 'not at or within 20 metres of junction': 'away from junction'}, inplace=True)\n",
        "# Clean up value counts for skidding_and_overturning column\n",
        "data.skidding_and_overturning.replace({'no skidding or overturning': 'none', 'at least one vehicle skidded or overturned': 'at least 1 skid/overturn'}, inplace=True)\n",
        "# Clean up value counts for hit_object_off_carriageway column\n",
        "data.hit_object_off_carriageway.replace({'none hit an object': 'none', 'at least one vehicle hit an object': 'at least 1 hit object'}, inplace=True)\n",
        "# Clean up value counts for first_point_of_impact column\n",
        "data.first_point_of_impact.replace({'at least one vehicle with frontal impact': 'Frontal Impact', 'other points of impact': 'Other Impact', 'no impact': 'No Impact'}, inplace=True)\n",
        "# Clean up value counts for sex_of_driver column\n",
        "data.sex_of_driver.replace({'all males': 'male', 'male and female': 'male & female', 'all females': 'Female'}, inplace=True)\n",
        "# Clean up value counts for accident_severity column\n",
        "data.accident_severity.replace({'Slight': 'slight', 'Serious': 'serious', 'Fatal': 'fatal'}, inplace=True)\n",
        "\n"
      ]
    },
    {
      "cell_type": "code",
      "execution_count": 65,
      "metadata": {
        "colab": {
          "base_uri": "https://localhost:8080/",
          "height": 1000
        },
        "id": "7FlX-m6g_Ag-",
        "outputId": "649f7903-6ece-4364-e0ed-16d0e4598ccc"
      },
      "outputs": [
        {
          "name": "stdout",
          "output_type": "stream",
          "text": [
            "Categories and number of occurrences for 'light_conditions'\n"
          ]
        },
        {
          "data": {
            "text/html": [
              "<table border=\"1\" class=\"dataframe\">\n",
              "  <thead>\n",
              "    <tr style=\"text-align: right;\">\n",
              "      <th></th>\n",
              "      <th>light_conditions</th>\n",
              "    </tr>\n",
              "  </thead>\n",
              "  <tbody>\n",
              "    <tr>\n",
              "      <th>daylight</th>\n",
              "      <td>21379</td>\n",
              "    </tr>\n",
              "    <tr>\n",
              "      <th>darkness</th>\n",
              "      <td>9072</td>\n",
              "    </tr>\n",
              "  </tbody>\n",
              "</table>"
            ],
            "text/plain": [
              "<IPython.core.display.HTML object>"
            ]
          },
          "metadata": {},
          "output_type": "display_data"
        },
        {
          "name": "stdout",
          "output_type": "stream",
          "text": [
            "\n",
            "Categories and number of occurrences for 'weather_conditions'\n"
          ]
        },
        {
          "data": {
            "text/html": [
              "<table border=\"1\" class=\"dataframe\">\n",
              "  <thead>\n",
              "    <tr style=\"text-align: right;\">\n",
              "      <th></th>\n",
              "      <th>weather_conditions</th>\n",
              "    </tr>\n",
              "  </thead>\n",
              "  <tbody>\n",
              "    <tr>\n",
              "      <th>fine</th>\n",
              "      <td>25151</td>\n",
              "    </tr>\n",
              "    <tr>\n",
              "      <th>other</th>\n",
              "      <td>5183</td>\n",
              "    </tr>\n",
              "    <tr>\n",
              "      <th>fog/mist</th>\n",
              "      <td>117</td>\n",
              "    </tr>\n",
              "  </tbody>\n",
              "</table>"
            ],
            "text/plain": [
              "<IPython.core.display.HTML object>"
            ]
          },
          "metadata": {},
          "output_type": "display_data"
        },
        {
          "name": "stdout",
          "output_type": "stream",
          "text": [
            "\n",
            "Categories and number of occurrences for 'road_surface_conditions'\n"
          ]
        },
        {
          "data": {
            "text/html": [
              "<table border=\"1\" class=\"dataframe\">\n",
              "  <thead>\n",
              "    <tr style=\"text-align: right;\">\n",
              "      <th></th>\n",
              "      <th>road_surface_conditions</th>\n",
              "    </tr>\n",
              "  </thead>\n",
              "  <tbody>\n",
              "    <tr>\n",
              "      <th>dry</th>\n",
              "      <td>21618</td>\n",
              "    </tr>\n",
              "    <tr>\n",
              "      <th>wet/damp</th>\n",
              "      <td>8413</td>\n",
              "    </tr>\n",
              "    <tr>\n",
              "      <th>other</th>\n",
              "      <td>366</td>\n",
              "    </tr>\n",
              "    <tr>\n",
              "      <th>flooded</th>\n",
              "      <td>54</td>\n",
              "    </tr>\n",
              "  </tbody>\n",
              "</table>"
            ],
            "text/plain": [
              "<IPython.core.display.HTML object>"
            ]
          },
          "metadata": {},
          "output_type": "display_data"
        },
        {
          "name": "stdout",
          "output_type": "stream",
          "text": [
            "\n",
            "Categories and number of occurrences for 'vehicle_type'\n"
          ]
        },
        {
          "data": {
            "text/html": [
              "<table border=\"1\" class=\"dataframe\">\n",
              "  <thead>\n",
              "    <tr style=\"text-align: right;\">\n",
              "      <th></th>\n",
              "      <th>vehicle_type</th>\n",
              "    </tr>\n",
              "  </thead>\n",
              "  <tbody>\n",
              "    <tr>\n",
              "      <th>cars</th>\n",
              "      <td>16879</td>\n",
              "    </tr>\n",
              "    <tr>\n",
              "      <th>biped(s)</th>\n",
              "      <td>8339</td>\n",
              "    </tr>\n",
              "    <tr>\n",
              "      <th>van(s)</th>\n",
              "      <td>3891</td>\n",
              "    </tr>\n",
              "    <tr>\n",
              "      <th>biped(s) &amp; van(s)</th>\n",
              "      <td>964</td>\n",
              "    </tr>\n",
              "    <tr>\n",
              "      <th>other</th>\n",
              "      <td>378</td>\n",
              "    </tr>\n",
              "  </tbody>\n",
              "</table>"
            ],
            "text/plain": [
              "<IPython.core.display.HTML object>"
            ]
          },
          "metadata": {},
          "output_type": "display_data"
        },
        {
          "name": "stdout",
          "output_type": "stream",
          "text": [
            "\n",
            "Categories and number of occurrences for 'junction_location'\n"
          ]
        },
        {
          "data": {
            "text/html": [
              "<table border=\"1\" class=\"dataframe\">\n",
              "  <thead>\n",
              "    <tr style=\"text-align: right;\">\n",
              "      <th></th>\n",
              "      <th>junction_location</th>\n",
              "    </tr>\n",
              "  </thead>\n",
              "  <tbody>\n",
              "    <tr>\n",
              "      <th>near to junction</th>\n",
              "      <td>17934</td>\n",
              "    </tr>\n",
              "    <tr>\n",
              "      <th>away from junction</th>\n",
              "      <td>12517</td>\n",
              "    </tr>\n",
              "  </tbody>\n",
              "</table>"
            ],
            "text/plain": [
              "<IPython.core.display.HTML object>"
            ]
          },
          "metadata": {},
          "output_type": "display_data"
        },
        {
          "name": "stdout",
          "output_type": "stream",
          "text": [
            "\n",
            "Categories and number of occurrences for 'skidding_and_overturning'\n"
          ]
        },
        {
          "data": {
            "text/html": [
              "<table border=\"1\" class=\"dataframe\">\n",
              "  <thead>\n",
              "    <tr style=\"text-align: right;\">\n",
              "      <th></th>\n",
              "      <th>skidding_and_overturning</th>\n",
              "    </tr>\n",
              "  </thead>\n",
              "  <tbody>\n",
              "    <tr>\n",
              "      <th>none</th>\n",
              "      <td>25429</td>\n",
              "    </tr>\n",
              "    <tr>\n",
              "      <th>at least 1 skid/overturn</th>\n",
              "      <td>5022</td>\n",
              "    </tr>\n",
              "  </tbody>\n",
              "</table>"
            ],
            "text/plain": [
              "<IPython.core.display.HTML object>"
            ]
          },
          "metadata": {},
          "output_type": "display_data"
        },
        {
          "name": "stdout",
          "output_type": "stream",
          "text": [
            "\n",
            "Categories and number of occurrences for 'vehicle_leaving_carriageway'\n"
          ]
        },
        {
          "data": {
            "text/html": [
              "<table border=\"1\" class=\"dataframe\">\n",
              "  <thead>\n",
              "    <tr style=\"text-align: right;\">\n",
              "      <th></th>\n",
              "      <th>vehicle_leaving_carriageway</th>\n",
              "    </tr>\n",
              "  </thead>\n",
              "  <tbody>\n",
              "    <tr>\n",
              "      <th>none leaving carriageway</th>\n",
              "      <td>24992</td>\n",
              "    </tr>\n",
              "    <tr>\n",
              "      <th>at least one vehicle leaving carriageway</th>\n",
              "      <td>5459</td>\n",
              "    </tr>\n",
              "  </tbody>\n",
              "</table>"
            ],
            "text/plain": [
              "<IPython.core.display.HTML object>"
            ]
          },
          "metadata": {},
          "output_type": "display_data"
        },
        {
          "name": "stdout",
          "output_type": "stream",
          "text": [
            "\n",
            "Categories and number of occurrences for 'hit_object_off_carriageway'\n"
          ]
        },
        {
          "data": {
            "text/html": [
              "<table border=\"1\" class=\"dataframe\">\n",
              "  <thead>\n",
              "    <tr style=\"text-align: right;\">\n",
              "      <th></th>\n",
              "      <th>hit_object_off_carriageway</th>\n",
              "    </tr>\n",
              "  </thead>\n",
              "  <tbody>\n",
              "    <tr>\n",
              "      <th>none</th>\n",
              "      <td>26939</td>\n",
              "    </tr>\n",
              "    <tr>\n",
              "      <th>at least 1 hit object</th>\n",
              "      <td>3512</td>\n",
              "    </tr>\n",
              "  </tbody>\n",
              "</table>"
            ],
            "text/plain": [
              "<IPython.core.display.HTML object>"
            ]
          },
          "metadata": {},
          "output_type": "display_data"
        },
        {
          "name": "stdout",
          "output_type": "stream",
          "text": [
            "\n",
            "Categories and number of occurrences for 'first_point_of_impact'\n"
          ]
        },
        {
          "data": {
            "text/html": [
              "<table border=\"1\" class=\"dataframe\">\n",
              "  <thead>\n",
              "    <tr style=\"text-align: right;\">\n",
              "      <th></th>\n",
              "      <th>first_point_of_impact</th>\n",
              "    </tr>\n",
              "  </thead>\n",
              "  <tbody>\n",
              "    <tr>\n",
              "      <th>Frontal Impact</th>\n",
              "      <td>23390</td>\n",
              "    </tr>\n",
              "    <tr>\n",
              "      <th>Other Impact</th>\n",
              "      <td>5775</td>\n",
              "    </tr>\n",
              "    <tr>\n",
              "      <th>No Impact</th>\n",
              "      <td>1286</td>\n",
              "    </tr>\n",
              "  </tbody>\n",
              "</table>"
            ],
            "text/plain": [
              "<IPython.core.display.HTML object>"
            ]
          },
          "metadata": {},
          "output_type": "display_data"
        },
        {
          "name": "stdout",
          "output_type": "stream",
          "text": [
            "\n",
            "Categories and number of occurrences for 'sex_of_driver'\n"
          ]
        },
        {
          "data": {
            "text/html": [
              "<table border=\"1\" class=\"dataframe\">\n",
              "  <thead>\n",
              "    <tr style=\"text-align: right;\">\n",
              "      <th></th>\n",
              "      <th>sex_of_driver</th>\n",
              "    </tr>\n",
              "  </thead>\n",
              "  <tbody>\n",
              "    <tr>\n",
              "      <th>male</th>\n",
              "      <td>19838</td>\n",
              "    </tr>\n",
              "    <tr>\n",
              "      <th>male &amp; female</th>\n",
              "      <td>6744</td>\n",
              "    </tr>\n",
              "    <tr>\n",
              "      <th>Female</th>\n",
              "      <td>3869</td>\n",
              "    </tr>\n",
              "  </tbody>\n",
              "</table>"
            ],
            "text/plain": [
              "<IPython.core.display.HTML object>"
            ]
          },
          "metadata": {},
          "output_type": "display_data"
        },
        {
          "name": "stdout",
          "output_type": "stream",
          "text": [
            "\n",
            "Categories and number of occurrences for 'accident_severity'\n"
          ]
        },
        {
          "data": {
            "text/html": [
              "<table border=\"1\" class=\"dataframe\">\n",
              "  <thead>\n",
              "    <tr style=\"text-align: right;\">\n",
              "      <th></th>\n",
              "      <th>accident_severity</th>\n",
              "    </tr>\n",
              "  </thead>\n",
              "  <tbody>\n",
              "    <tr>\n",
              "      <th>slight</th>\n",
              "      <td>13344</td>\n",
              "    </tr>\n",
              "    <tr>\n",
              "      <th>serious</th>\n",
              "      <td>11176</td>\n",
              "    </tr>\n",
              "    <tr>\n",
              "      <th>fatal</th>\n",
              "      <td>5931</td>\n",
              "    </tr>\n",
              "  </tbody>\n",
              "</table>"
            ],
            "text/plain": [
              "<IPython.core.display.HTML object>"
            ]
          },
          "metadata": {},
          "output_type": "display_data"
        },
        {
          "name": "stdout",
          "output_type": "stream",
          "text": [
            "\n",
            "Categories and number of occurrences for 'light_conditions'\n"
          ]
        },
        {
          "data": {
            "text/html": [
              "<table border=\"1\" class=\"dataframe\">\n",
              "  <thead>\n",
              "    <tr style=\"text-align: right;\">\n",
              "      <th></th>\n",
              "      <th>light_conditions</th>\n",
              "    </tr>\n",
              "  </thead>\n",
              "  <tbody>\n",
              "    <tr>\n",
              "      <th>daylight</th>\n",
              "      <td>21379</td>\n",
              "    </tr>\n",
              "    <tr>\n",
              "      <th>darkness</th>\n",
              "      <td>9072</td>\n",
              "    </tr>\n",
              "  </tbody>\n",
              "</table>"
            ],
            "text/plain": [
              "<IPython.core.display.HTML object>"
            ]
          },
          "metadata": {},
          "output_type": "display_data"
        },
        {
          "name": "stdout",
          "output_type": "stream",
          "text": [
            "\n",
            "Categories and number of occurrences for 'weather_conditions'\n"
          ]
        },
        {
          "data": {
            "text/html": [
              "<table border=\"1\" class=\"dataframe\">\n",
              "  <thead>\n",
              "    <tr style=\"text-align: right;\">\n",
              "      <th></th>\n",
              "      <th>weather_conditions</th>\n",
              "    </tr>\n",
              "  </thead>\n",
              "  <tbody>\n",
              "    <tr>\n",
              "      <th>fine</th>\n",
              "      <td>25151</td>\n",
              "    </tr>\n",
              "    <tr>\n",
              "      <th>other</th>\n",
              "      <td>5183</td>\n",
              "    </tr>\n",
              "    <tr>\n",
              "      <th>fog/mist</th>\n",
              "      <td>117</td>\n",
              "    </tr>\n",
              "  </tbody>\n",
              "</table>"
            ],
            "text/plain": [
              "<IPython.core.display.HTML object>"
            ]
          },
          "metadata": {},
          "output_type": "display_data"
        },
        {
          "name": "stdout",
          "output_type": "stream",
          "text": [
            "\n",
            "Categories and number of occurrences for 'road_surface_conditions'\n"
          ]
        },
        {
          "data": {
            "text/html": [
              "<table border=\"1\" class=\"dataframe\">\n",
              "  <thead>\n",
              "    <tr style=\"text-align: right;\">\n",
              "      <th></th>\n",
              "      <th>road_surface_conditions</th>\n",
              "    </tr>\n",
              "  </thead>\n",
              "  <tbody>\n",
              "    <tr>\n",
              "      <th>dry</th>\n",
              "      <td>21618</td>\n",
              "    </tr>\n",
              "    <tr>\n",
              "      <th>wet/damp</th>\n",
              "      <td>8413</td>\n",
              "    </tr>\n",
              "    <tr>\n",
              "      <th>other</th>\n",
              "      <td>366</td>\n",
              "    </tr>\n",
              "    <tr>\n",
              "      <th>flooded</th>\n",
              "      <td>54</td>\n",
              "    </tr>\n",
              "  </tbody>\n",
              "</table>"
            ],
            "text/plain": [
              "<IPython.core.display.HTML object>"
            ]
          },
          "metadata": {},
          "output_type": "display_data"
        },
        {
          "name": "stdout",
          "output_type": "stream",
          "text": [
            "\n",
            "Categories and number of occurrences for 'vehicle_type'\n"
          ]
        },
        {
          "data": {
            "text/html": [
              "<table border=\"1\" class=\"dataframe\">\n",
              "  <thead>\n",
              "    <tr style=\"text-align: right;\">\n",
              "      <th></th>\n",
              "      <th>vehicle_type</th>\n",
              "    </tr>\n",
              "  </thead>\n",
              "  <tbody>\n",
              "    <tr>\n",
              "      <th>cars</th>\n",
              "      <td>16879</td>\n",
              "    </tr>\n",
              "    <tr>\n",
              "      <th>biped(s)</th>\n",
              "      <td>8339</td>\n",
              "    </tr>\n",
              "    <tr>\n",
              "      <th>van(s)</th>\n",
              "      <td>3891</td>\n",
              "    </tr>\n",
              "    <tr>\n",
              "      <th>biped(s) &amp; van(s)</th>\n",
              "      <td>964</td>\n",
              "    </tr>\n",
              "    <tr>\n",
              "      <th>other</th>\n",
              "      <td>378</td>\n",
              "    </tr>\n",
              "  </tbody>\n",
              "</table>"
            ],
            "text/plain": [
              "<IPython.core.display.HTML object>"
            ]
          },
          "metadata": {},
          "output_type": "display_data"
        },
        {
          "name": "stdout",
          "output_type": "stream",
          "text": [
            "\n",
            "Categories and number of occurrences for 'junction_location'\n"
          ]
        },
        {
          "data": {
            "text/html": [
              "<table border=\"1\" class=\"dataframe\">\n",
              "  <thead>\n",
              "    <tr style=\"text-align: right;\">\n",
              "      <th></th>\n",
              "      <th>junction_location</th>\n",
              "    </tr>\n",
              "  </thead>\n",
              "  <tbody>\n",
              "    <tr>\n",
              "      <th>near to junction</th>\n",
              "      <td>17934</td>\n",
              "    </tr>\n",
              "    <tr>\n",
              "      <th>away from junction</th>\n",
              "      <td>12517</td>\n",
              "    </tr>\n",
              "  </tbody>\n",
              "</table>"
            ],
            "text/plain": [
              "<IPython.core.display.HTML object>"
            ]
          },
          "metadata": {},
          "output_type": "display_data"
        },
        {
          "name": "stdout",
          "output_type": "stream",
          "text": [
            "\n",
            "Categories and number of occurrences for 'skidding_and_overturning'\n"
          ]
        },
        {
          "data": {
            "text/html": [
              "<table border=\"1\" class=\"dataframe\">\n",
              "  <thead>\n",
              "    <tr style=\"text-align: right;\">\n",
              "      <th></th>\n",
              "      <th>skidding_and_overturning</th>\n",
              "    </tr>\n",
              "  </thead>\n",
              "  <tbody>\n",
              "    <tr>\n",
              "      <th>none</th>\n",
              "      <td>25429</td>\n",
              "    </tr>\n",
              "    <tr>\n",
              "      <th>at least 1 skid/overturn</th>\n",
              "      <td>5022</td>\n",
              "    </tr>\n",
              "  </tbody>\n",
              "</table>"
            ],
            "text/plain": [
              "<IPython.core.display.HTML object>"
            ]
          },
          "metadata": {},
          "output_type": "display_data"
        },
        {
          "name": "stdout",
          "output_type": "stream",
          "text": [
            "\n",
            "Categories and number of occurrences for 'vehicle_leaving_carriageway'\n"
          ]
        },
        {
          "data": {
            "text/html": [
              "<table border=\"1\" class=\"dataframe\">\n",
              "  <thead>\n",
              "    <tr style=\"text-align: right;\">\n",
              "      <th></th>\n",
              "      <th>vehicle_leaving_carriageway</th>\n",
              "    </tr>\n",
              "  </thead>\n",
              "  <tbody>\n",
              "    <tr>\n",
              "      <th>none leaving carriageway</th>\n",
              "      <td>24992</td>\n",
              "    </tr>\n",
              "    <tr>\n",
              "      <th>at least one vehicle leaving carriageway</th>\n",
              "      <td>5459</td>\n",
              "    </tr>\n",
              "  </tbody>\n",
              "</table>"
            ],
            "text/plain": [
              "<IPython.core.display.HTML object>"
            ]
          },
          "metadata": {},
          "output_type": "display_data"
        },
        {
          "name": "stdout",
          "output_type": "stream",
          "text": [
            "\n",
            "Categories and number of occurrences for 'hit_object_off_carriageway'\n"
          ]
        },
        {
          "data": {
            "text/html": [
              "<table border=\"1\" class=\"dataframe\">\n",
              "  <thead>\n",
              "    <tr style=\"text-align: right;\">\n",
              "      <th></th>\n",
              "      <th>hit_object_off_carriageway</th>\n",
              "    </tr>\n",
              "  </thead>\n",
              "  <tbody>\n",
              "    <tr>\n",
              "      <th>none</th>\n",
              "      <td>26939</td>\n",
              "    </tr>\n",
              "    <tr>\n",
              "      <th>at least 1 hit object</th>\n",
              "      <td>3512</td>\n",
              "    </tr>\n",
              "  </tbody>\n",
              "</table>"
            ],
            "text/plain": [
              "<IPython.core.display.HTML object>"
            ]
          },
          "metadata": {},
          "output_type": "display_data"
        },
        {
          "name": "stdout",
          "output_type": "stream",
          "text": [
            "\n",
            "Categories and number of occurrences for 'first_point_of_impact'\n"
          ]
        },
        {
          "data": {
            "text/html": [
              "<table border=\"1\" class=\"dataframe\">\n",
              "  <thead>\n",
              "    <tr style=\"text-align: right;\">\n",
              "      <th></th>\n",
              "      <th>first_point_of_impact</th>\n",
              "    </tr>\n",
              "  </thead>\n",
              "  <tbody>\n",
              "    <tr>\n",
              "      <th>Frontal Impact</th>\n",
              "      <td>23390</td>\n",
              "    </tr>\n",
              "    <tr>\n",
              "      <th>Other Impact</th>\n",
              "      <td>5775</td>\n",
              "    </tr>\n",
              "    <tr>\n",
              "      <th>No Impact</th>\n",
              "      <td>1286</td>\n",
              "    </tr>\n",
              "  </tbody>\n",
              "</table>"
            ],
            "text/plain": [
              "<IPython.core.display.HTML object>"
            ]
          },
          "metadata": {},
          "output_type": "display_data"
        },
        {
          "name": "stdout",
          "output_type": "stream",
          "text": [
            "\n",
            "Categories and number of occurrences for 'sex_of_driver'\n"
          ]
        },
        {
          "data": {
            "text/html": [
              "<table border=\"1\" class=\"dataframe\">\n",
              "  <thead>\n",
              "    <tr style=\"text-align: right;\">\n",
              "      <th></th>\n",
              "      <th>sex_of_driver</th>\n",
              "    </tr>\n",
              "  </thead>\n",
              "  <tbody>\n",
              "    <tr>\n",
              "      <th>male</th>\n",
              "      <td>19838</td>\n",
              "    </tr>\n",
              "    <tr>\n",
              "      <th>male &amp; female</th>\n",
              "      <td>6744</td>\n",
              "    </tr>\n",
              "    <tr>\n",
              "      <th>Female</th>\n",
              "      <td>3869</td>\n",
              "    </tr>\n",
              "  </tbody>\n",
              "</table>"
            ],
            "text/plain": [
              "<IPython.core.display.HTML object>"
            ]
          },
          "metadata": {},
          "output_type": "display_data"
        },
        {
          "name": "stdout",
          "output_type": "stream",
          "text": [
            "\n",
            "Categories and number of occurrences for 'accident_severity'\n"
          ]
        },
        {
          "data": {
            "text/html": [
              "<table border=\"1\" class=\"dataframe\">\n",
              "  <thead>\n",
              "    <tr style=\"text-align: right;\">\n",
              "      <th></th>\n",
              "      <th>accident_severity</th>\n",
              "    </tr>\n",
              "  </thead>\n",
              "  <tbody>\n",
              "    <tr>\n",
              "      <th>slight</th>\n",
              "      <td>13344</td>\n",
              "    </tr>\n",
              "    <tr>\n",
              "      <th>serious</th>\n",
              "      <td>11176</td>\n",
              "    </tr>\n",
              "    <tr>\n",
              "      <th>fatal</th>\n",
              "      <td>5931</td>\n",
              "    </tr>\n",
              "  </tbody>\n",
              "</table>"
            ],
            "text/plain": [
              "<IPython.core.display.HTML object>"
            ]
          },
          "metadata": {},
          "output_type": "display_data"
        },
        {
          "name": "stdout",
          "output_type": "stream",
          "text": [
            "\n"
          ]
        }
      ],
      "source": [
        "categorical_columns= ['light_conditions',\n",
        "       'weather_conditions', 'road_surface_conditions', 'vehicle_type',\n",
        "       'junction_location', 'skidding_and_overturning',\n",
        "       'vehicle_leaving_carriageway', 'hit_object_off_carriageway',\n",
        "       'first_point_of_impact', 'sex_of_driver',\n",
        "       'accident_severity']\n",
        "\n",
        "# let's get the categories and their count for each feature\n",
        "for col in categorical_columns:\n",
        "  print(f\"Categories and number of occurrences for '{col}'\")\n",
        "  pretty_print_df(data[col].value_counts())\n",
        "  print()"
      ]
    },
    {
      "cell_type": "code",
      "execution_count": 66,
      "metadata": {
        "colab": {
          "base_uri": "https://localhost:8080/",
          "height": 927
        },
        "id": "z_nyZ7JqAn_5",
        "outputId": "1c19b35d-fd66-482f-ed3e-7309ba9d2e9a"
      },
      "outputs": [
        {
          "data": {
            "image/png": "[encoded data removed]",
            "text/plain": [
              "<Figure size 640x480 with 1 Axes>"
            ]
          },
          "metadata": {},
          "output_type": "display_data"
        },
        {
          "data": {
            "image/png": "[encoded data removed]",
            "text/plain": [
              "<Figure size 640x480 with 1 Axes>"
            ]
          },
          "metadata": {},
          "output_type": "display_data"
        }
      ],
      "source": [
        "import matplotlib.pyplot as plt\n",
        "\n",
        "# Count the number of occurrences for each accident severity category\n",
        "accident_severity_count = data['accident_severity'].value_counts()\n",
        "\n",
        "# Create a list of colors for the bars\n",
        "colors = ['green', 'orange', 'red']\n",
        "\n",
        "# Plot the bar chart with colored bars\n",
        "plt.bar(accident_severity_count.index, accident_severity_count.values, color=colors)\n",
        "\n",
        "# Add axis labels and title\n",
        "plt.xlabel('Accident Severity')\n",
        "plt.ylabel('Number of Accidents')\n",
        "plt.title('Accident Severity Distribution')\n",
        "\n",
        "# Display the plot\n",
        "plt.show()"
      ]
    },
    {
      "cell_type": "code",
      "execution_count": 67,
      "metadata": {
        "colab": {
          "base_uri": "https://localhost:8080/"
        },
        "id": "QepjW8IcUaHF",
        "outputId": "3fea21d5-5c12-4133-aad3-4d7fa7e13296"
      },
      "outputs": [
        {
          "name": "stdout",
          "output_type": "stream",
          "text": [
            "       speed_limit  light_conditions  weather_conditions  \\\n",
            "0               30                 0                   2   \n",
            "1               30                 0                   0   \n",
            "2               40                 1                   0   \n",
            "3               40                 1                   0   \n",
            "4               30                 1                   0   \n",
            "...            ...               ...                 ...   \n",
            "31642           30                 0                   0   \n",
            "31643           60                 1                   0   \n",
            "31644           70                 1                   0   \n",
            "31645           30                 0                   0   \n",
            "31646           20                 0                   0   \n",
            "\n",
            "       road_surface_conditions  vehicle_type  junction_location  \\\n",
            "0                            3             4                  1   \n",
            "1                            0             2                  1   \n",
            "2                            0             2                  1   \n",
            "3                            0             2                  0   \n",
            "4                            0             2                  0   \n",
            "...                        ...           ...                ...   \n",
            "31642                        3             0                  0   \n",
            "31643                        0             3                  1   \n",
            "31644                        0             4                  0   \n",
            "31645                        3             2                  0   \n",
            "31646                        0             0                  1   \n",
            "\n",
            "       skidding_and_overturning  vehicle_leaving_carriageway  \\\n",
            "0                             1                            1   \n",
            "1                             1                            0   \n",
            "2                             1                            1   \n",
            "3                             1                            1   \n",
            "4                             1                            1   \n",
            "...                         ...                          ...   \n",
            "31642                         1                            1   \n",
            "31643                         0                            1   \n",
            "31644                         1                            1   \n",
            "31645                         1                            1   \n",
            "31646                         1                            1   \n",
            "\n",
            "       hit_object_off_carriageway  first_point_of_impact  sex_of_driver  \\\n",
            "0                               1                      2              1   \n",
            "1                               0                      0              1   \n",
            "2                               1                      0              1   \n",
            "3                               1                      0              2   \n",
            "4                               1                      0              0   \n",
            "...                           ...                    ...            ...   \n",
            "31642                           1                      0              1   \n",
            "31643                           1                      2              1   \n",
            "31644                           1                      0              1   \n",
            "31645                           1                      2              1   \n",
            "31646                           1                      0              1   \n",
            "\n",
            "       age_of_oldest_driver  accident_severity  \n",
            "0                 63.000000                  1  \n",
            "1                 82.000000                  0  \n",
            "2                 47.274299                  1  \n",
            "3                 47.274299                  1  \n",
            "4                 39.000000                  2  \n",
            "...                     ...                ...  \n",
            "31642             27.000000                  1  \n",
            "31643             27.000000                  1  \n",
            "31644             67.000000                  2  \n",
            "31645             24.000000                  0  \n",
            "31646             54.000000                  0  \n",
            "\n",
            "[30451 rows x 13 columns]\n",
            "       speed_limit  light_conditions  weather_conditions  \\\n",
            "0               30                 0                   2   \n",
            "1               30                 0                   0   \n",
            "2               40                 1                   0   \n",
            "3               40                 1                   0   \n",
            "4               30                 1                   0   \n",
            "...            ...               ...                 ...   \n",
            "31642           30                 0                   0   \n",
            "31643           60                 1                   0   \n",
            "31644           70                 1                   0   \n",
            "31645           30                 0                   0   \n",
            "31646           20                 0                   0   \n",
            "\n",
            "       road_surface_conditions  vehicle_type  junction_location  \\\n",
            "0                            3             4                  1   \n",
            "1                            0             2                  1   \n",
            "2                            0             2                  1   \n",
            "3                            0             2                  0   \n",
            "4                            0             2                  0   \n",
            "...                        ...           ...                ...   \n",
            "31642                        3             0                  0   \n",
            "31643                        0             3                  1   \n",
            "31644                        0             4                  0   \n",
            "31645                        3             2                  0   \n",
            "31646                        0             0                  1   \n",
            "\n",
            "       skidding_and_overturning  vehicle_leaving_carriageway  \\\n",
            "0                             1                            1   \n",
            "1                             1                            0   \n",
            "2                             1                            1   \n",
            "3                             1                            1   \n",
            "4                             1                            1   \n",
            "...                         ...                          ...   \n",
            "31642                         1                            1   \n",
            "31643                         0                            1   \n",
            "31644                         1                            1   \n",
            "31645                         1                            1   \n",
            "31646                         1                            1   \n",
            "\n",
            "       hit_object_off_carriageway  first_point_of_impact  sex_of_driver  \\\n",
            "0                               1                      2              1   \n",
            "1                               0                      0              1   \n",
            "2                               1                      0              1   \n",
            "3                               1                      0              2   \n",
            "4                               1                      0              0   \n",
            "...                           ...                    ...            ...   \n",
            "31642                           1                      0              1   \n",
            "31643                           1                      2              1   \n",
            "31644                           1                      0              1   \n",
            "31645                           1                      2              1   \n",
            "31646                           1                      0              1   \n",
            "\n",
            "       age_of_oldest_driver  accident_severity  \n",
            "0                 63.000000                  1  \n",
            "1                 82.000000                  0  \n",
            "2                 47.274299                  1  \n",
            "3                 47.274299                  1  \n",
            "4                 39.000000                  2  \n",
            "...                     ...                ...  \n",
            "31642             27.000000                  1  \n",
            "31643             27.000000                  1  \n",
            "31644             67.000000                  2  \n",
            "31645             24.000000                  0  \n",
            "31646             54.000000                  0  \n",
            "\n",
            "[30451 rows x 13 columns]\n"
          ]
        }
      ],
      "source": [
        "from sklearn.preprocessing import LabelEncoder\n",
        "\n",
        "data_clean = data.copy()\n",
        "\n",
        "# Identify categorical columns\n",
        "categorical_columns= ['light_conditions',\n",
        "       'weather_conditions', 'road_surface_conditions', 'vehicle_type',\n",
        "       'junction_location', 'skidding_and_overturning',\n",
        "       'vehicle_leaving_carriageway', 'hit_object_off_carriageway',\n",
        "       'first_point_of_impact', 'sex_of_driver',\n",
        "       'accident_severity']\n",
        "\n",
        "# Create LabelEncoder object\n",
        "le = LabelEncoder()\n",
        "\n",
        "# Apply LabelEncoder to each categorical column\n",
        "for col in categorical_columns:\n",
        "    data_clean[col] = le.fit_transform(data[col])\n",
        "\n",
        "print(data_clean)"
      ]
    },
    {
      "cell_type": "code",
      "execution_count": 68,
      "metadata": {
        "colab": {
          "base_uri": "https://localhost:8080/"
        },
        "id": "DGDx_-M-ZDgS",
        "outputId": "87619373-2b8a-47d2-d9a1-40538e9a3ffb"
      },
      "outputs": [
        {
          "name": "stdout",
          "output_type": "stream",
          "text": [
            "<class 'pandas.core.frame.DataFrame'>\n",
            "Int64Index: 30451 entries, 0 to 31646\n",
            "Data columns (total 13 columns):\n",
            " #   Column                       Non-Null Count  Dtype  \n",
            "---  ------                       --------------  -----  \n",
            " 0   speed_limit                  30451 non-null  int64  \n",
            " 1   light_conditions             30451 non-null  int64  \n",
            " 2   weather_conditions           30451 non-null  int64  \n",
            " 3   road_surface_conditions      30451 non-null  int64  \n",
            " 4   vehicle_type                 30451 non-null  int64  \n",
            " 5   junction_location            30451 non-null  int64  \n",
            " 6   skidding_and_overturning     30451 non-null  int64  \n",
            " 7   vehicle_leaving_carriageway  30451 non-null  int64  \n",
            " 8   hit_object_off_carriageway   30451 non-null  int64  \n",
            " 9   first_point_of_impact        30451 non-null  int64  \n",
            " 10  sex_of_driver                30451 non-null  int64  \n",
            " 11  age_of_oldest_driver         30451 non-null  float64\n",
            " 12  accident_severity            30451 non-null  int64  \n",
            "dtypes: float64(1), int64(12)\n",
            "memory usage: 3.3 MB\n",
            "<class 'pandas.core.frame.DataFrame'>\n",
            "Int64Index: 30451 entries, 0 to 31646\n",
            "Data columns (total 13 columns):\n",
            " #   Column                       Non-Null Count  Dtype  \n",
            "---  ------                       --------------  -----  \n",
            " 0   speed_limit                  30451 non-null  int64  \n",
            " 1   light_conditions             30451 non-null  int64  \n",
            " 2   weather_conditions           30451 non-null  int64  \n",
            " 3   road_surface_conditions      30451 non-null  int64  \n",
            " 4   vehicle_type                 30451 non-null  int64  \n",
            " 5   junction_location            30451 non-null  int64  \n",
            " 6   skidding_and_overturning     30451 non-null  int64  \n",
            " 7   vehicle_leaving_carriageway  30451 non-null  int64  \n",
            " 8   hit_object_off_carriageway   30451 non-null  int64  \n",
            " 9   first_point_of_impact        30451 non-null  int64  \n",
            " 10  sex_of_driver                30451 non-null  int64  \n",
            " 11  age_of_oldest_driver         30451 non-null  float64\n",
            " 12  accident_severity            30451 non-null  int64  \n",
            "dtypes: float64(1), int64(12)\n",
            "memory usage: 3.3 MB\n"
          ]
        }
      ],
      "source": [
        "data_clean.info()"
      ]
    },
    {
      "cell_type": "code",
      "execution_count": 69,
      "metadata": {
        "colab": {
          "base_uri": "https://localhost:8080/"
        },
        "id": "m6SDMYrrZ1Zi",
        "outputId": "c379c708-f133-4c56-87c7-fcd28dbf0620"
      },
      "outputs": [
        {
          "name": "stdout",
          "output_type": "stream",
          "text": [
            "       speed_limit  light_conditions  weather_conditions  \\\n",
            "3755            30                 1                   0   \n",
            "25698           30                 0                   2   \n",
            "9616            30                 1                   0   \n",
            "7536            30                 0                   0   \n",
            "20200           20                 0                   2   \n",
            "...            ...               ...                 ...   \n",
            "30944           30                 1                   0   \n",
            "5429            40                 1                   0   \n",
            "863             20                 1                   0   \n",
            "16125           30                 1                   0   \n",
            "24355           60                 0                   0   \n",
            "\n",
            "       road_surface_conditions  vehicle_type  junction_location  \\\n",
            "3755                         0             0                  1   \n",
            "25698                        3             0                  1   \n",
            "9616                         0             2                  1   \n",
            "7536                         0             0                  1   \n",
            "20200                        3             2                  1   \n",
            "...                        ...           ...                ...   \n",
            "30944                        0             2                  1   \n",
            "5429                         0             1                  0   \n",
            "863                          0             2                  1   \n",
            "16125                        0             2                  0   \n",
            "24355                        3             2                  0   \n",
            "\n",
            "       skidding_and_overturning  vehicle_leaving_carriageway  \\\n",
            "3755                          1                            1   \n",
            "25698                         0                            1   \n",
            "9616                          1                            1   \n",
            "7536                          1                            1   \n",
            "20200                         1                            1   \n",
            "...                         ...                          ...   \n",
            "30944                         1                            1   \n",
            "5429                          1                            1   \n",
            "863                           1                            1   \n",
            "16125                         1                            1   \n",
            "24355                         1                            1   \n",
            "\n",
            "       hit_object_off_carriageway  first_point_of_impact  sex_of_driver  \\\n",
            "3755                            1                      0              2   \n",
            "25698                           1                      0              1   \n",
            "9616                            1                      0              0   \n",
            "7536                            1                      0              1   \n",
            "20200                           1                      0              2   \n",
            "...                           ...                    ...            ...   \n",
            "30944                           1                      0              2   \n",
            "5429                            1                      0              1   \n",
            "863                             1                      0              1   \n",
            "16125                           1                      0              0   \n",
            "24355                           1                      0              1   \n",
            "\n",
            "       age_of_oldest_driver  \n",
            "3755              47.274299  \n",
            "25698             47.274299  \n",
            "9616              58.000000  \n",
            "7536              47.274299  \n",
            "20200             45.000000  \n",
            "...                     ...  \n",
            "30944             48.000000  \n",
            "5429              68.000000  \n",
            "863               47.274299  \n",
            "16125             56.000000  \n",
            "24355             54.000000  \n",
            "\n",
            "[24360 rows x 12 columns]        speed_limit  light_conditions  weather_conditions  \\\n",
            "23673           20                 1                   0   \n",
            "5859            30                 0                   0   \n",
            "11349           20                 1                   2   \n",
            "11482           40                 1                   0   \n",
            "12701           40                 1                   0   \n",
            "...            ...               ...                 ...   \n",
            "10361           30                 1                   0   \n",
            "18791           30                 1                   2   \n",
            "10814           40                 1                   0   \n",
            "13975           60                 1                   2   \n",
            "10171           60                 1                   0   \n",
            "\n",
            "       road_surface_conditions  vehicle_type  junction_location  \\\n",
            "23673                        0             0                  0   \n",
            "5859                         0             2                  1   \n",
            "11349                        3             4                  0   \n",
            "11482                        3             2                  1   \n",
            "12701                        0             0                  1   \n",
            "...                        ...           ...                ...   \n",
            "10361                        0             4                  0   \n",
            "18791                        3             1                  1   \n",
            "10814                        0             2                  1   \n",
            "13975                        3             2                  1   \n",
            "10171                        0             0                  0   \n",
            "\n",
            "       skidding_and_overturning  vehicle_leaving_carriageway  \\\n",
            "23673                         1                            1   \n",
            "5859                          1                            1   \n",
            "11349                         1                            1   \n",
            "11482                         1                            1   \n",
            "12701                         1                            1   \n",
            "...                         ...                          ...   \n",
            "10361                         1                            1   \n",
            "18791                         1                            1   \n",
            "10814                         1                            1   \n",
            "13975                         1                            1   \n",
            "10171                         0                            1   \n",
            "\n",
            "       hit_object_off_carriageway  first_point_of_impact  sex_of_driver  \\\n",
            "23673                           1                      0              1   \n",
            "5859                            1                      2              1   \n",
            "11349                           1                      0              1   \n",
            "11482                           1                      0              1   \n",
            "12701                           1                      0              1   \n",
            "...                           ...                    ...            ...   \n",
            "10361                           1                      0              1   \n",
            "18791                           1                      0              1   \n",
            "10814                           1                      0              2   \n",
            "13975                           1                      0              1   \n",
            "10171                           1                      2              2   \n",
            "\n",
            "       age_of_oldest_driver  \n",
            "23673             38.000000  \n",
            "5859              31.000000  \n",
            "11349             60.000000  \n",
            "11482             47.274299  \n",
            "12701             57.000000  \n",
            "...                     ...  \n",
            "10361             47.274299  \n",
            "18791             32.000000  \n",
            "10814             47.274299  \n",
            "13975             52.000000  \n",
            "10171             40.000000  \n",
            "\n",
            "[6091 rows x 12 columns] 3755     2\n",
            "25698    1\n",
            "9616     1\n",
            "7536     1\n",
            "20200    1\n",
            "        ..\n",
            "30944    2\n",
            "5429     0\n",
            "863      2\n",
            "16125    1\n",
            "24355    0\n",
            "Name: accident_severity, Length: 24360, dtype: int64 23673    1\n",
            "5859     0\n",
            "11349    2\n",
            "11482    2\n",
            "12701    1\n",
            "        ..\n",
            "10361    2\n",
            "18791    0\n",
            "10814    2\n",
            "13975    1\n",
            "10171    1\n",
            "Name: accident_severity, Length: 6091, dtype: int64\n",
            "       speed_limit  light_conditions  weather_conditions  \\\n",
            "3755            30                 1                   0   \n",
            "25698           30                 0                   2   \n",
            "9616            30                 1                   0   \n",
            "7536            30                 0                   0   \n",
            "20200           20                 0                   2   \n",
            "...            ...               ...                 ...   \n",
            "30944           30                 1                   0   \n",
            "5429            40                 1                   0   \n",
            "863             20                 1                   0   \n",
            "16125           30                 1                   0   \n",
            "24355           60                 0                   0   \n",
            "\n",
            "       road_surface_conditions  vehicle_type  junction_location  \\\n",
            "3755                         0             0                  1   \n",
            "25698                        3             0                  1   \n",
            "9616                         0             2                  1   \n",
            "7536                         0             0                  1   \n",
            "20200                        3             2                  1   \n",
            "...                        ...           ...                ...   \n",
            "30944                        0             2                  1   \n",
            "5429                         0             1                  0   \n",
            "863                          0             2                  1   \n",
            "16125                        0             2                  0   \n",
            "24355                        3             2                  0   \n",
            "\n",
            "       skidding_and_overturning  vehicle_leaving_carriageway  \\\n",
            "3755                          1                            1   \n",
            "25698                         0                            1   \n",
            "9616                          1                            1   \n",
            "7536                          1                            1   \n",
            "20200                         1                            1   \n",
            "...                         ...                          ...   \n",
            "30944                         1                            1   \n",
            "5429                          1                            1   \n",
            "863                           1                            1   \n",
            "16125                         1                            1   \n",
            "24355                         1                            1   \n",
            "\n",
            "       hit_object_off_carriageway  first_point_of_impact  sex_of_driver  \\\n",
            "3755                            1                      0              2   \n",
            "25698                           1                      0              1   \n",
            "9616                            1                      0              0   \n",
            "7536                            1                      0              1   \n",
            "20200                           1                      0              2   \n",
            "...                           ...                    ...            ...   \n",
            "30944                           1                      0              2   \n",
            "5429                            1                      0              1   \n",
            "863                             1                      0              1   \n",
            "16125                           1                      0              0   \n",
            "24355                           1                      0              1   \n",
            "\n",
            "       age_of_oldest_driver  \n",
            "3755              47.274299  \n",
            "25698             47.274299  \n",
            "9616              58.000000  \n",
            "7536              47.274299  \n",
            "20200             45.000000  \n",
            "...                     ...  \n",
            "30944             48.000000  \n",
            "5429              68.000000  \n",
            "863               47.274299  \n",
            "16125             56.000000  \n",
            "24355             54.000000  \n",
            "\n",
            "[24360 rows x 12 columns]        speed_limit  light_conditions  weather_conditions  \\\n",
            "23673           20                 1                   0   \n",
            "5859            30                 0                   0   \n",
            "11349           20                 1                   2   \n",
            "11482           40                 1                   0   \n",
            "12701           40                 1                   0   \n",
            "...            ...               ...                 ...   \n",
            "10361           30                 1                   0   \n",
            "18791           30                 1                   2   \n",
            "10814           40                 1                   0   \n",
            "13975           60                 1                   2   \n",
            "10171           60                 1                   0   \n",
            "\n",
            "       road_surface_conditions  vehicle_type  junction_location  \\\n",
            "23673                        0             0                  0   \n",
            "5859                         0             2                  1   \n",
            "11349                        3             4                  0   \n",
            "11482                        3             2                  1   \n",
            "12701                        0             0                  1   \n",
            "...                        ...           ...                ...   \n",
            "10361                        0             4                  0   \n",
            "18791                        3             1                  1   \n",
            "10814                        0             2                  1   \n",
            "13975                        3             2                  1   \n",
            "10171                        0             0                  0   \n",
            "\n",
            "       skidding_and_overturning  vehicle_leaving_carriageway  \\\n",
            "23673                         1                            1   \n",
            "5859                          1                            1   \n",
            "11349                         1                            1   \n",
            "11482                         1                            1   \n",
            "12701                         1                            1   \n",
            "...                         ...                          ...   \n",
            "10361                         1                            1   \n",
            "18791                         1                            1   \n",
            "10814                         1                            1   \n",
            "13975                         1                            1   \n",
            "10171                         0                            1   \n",
            "\n",
            "       hit_object_off_carriageway  first_point_of_impact  sex_of_driver  \\\n",
            "23673                           1                      0              1   \n",
            "5859                            1                      2              1   \n",
            "11349                           1                      0              1   \n",
            "11482                           1                      0              1   \n",
            "12701                           1                      0              1   \n",
            "...                           ...                    ...            ...   \n",
            "10361                           1                      0              1   \n",
            "18791                           1                      0              1   \n",
            "10814                           1                      0              2   \n",
            "13975                           1                      0              1   \n",
            "10171                           1                      2              2   \n",
            "\n",
            "       age_of_oldest_driver  \n",
            "23673             38.000000  \n",
            "5859              31.000000  \n",
            "11349             60.000000  \n",
            "11482             47.274299  \n",
            "12701             57.000000  \n",
            "...                     ...  \n",
            "10361             47.274299  \n",
            "18791             32.000000  \n",
            "10814             47.274299  \n",
            "13975             52.000000  \n",
            "10171             40.000000  \n",
            "\n",
            "[6091 rows x 12 columns] 3755     2\n",
            "25698    1\n",
            "9616     1\n",
            "7536     1\n",
            "20200    1\n",
            "        ..\n",
            "30944    2\n",
            "5429     0\n",
            "863      2\n",
            "16125    1\n",
            "24355    0\n",
            "Name: accident_severity, Length: 24360, dtype: int64 23673    1\n",
            "5859     0\n",
            "11349    2\n",
            "11482    2\n",
            "12701    1\n",
            "        ..\n",
            "10361    2\n",
            "18791    0\n",
            "10814    2\n",
            "13975    1\n",
            "10171    1\n",
            "Name: accident_severity, Length: 6091, dtype: int64\n"
          ]
        }
      ],
      "source": [
        "from sklearn.model_selection import train_test_split\n",
        "\n",
        "# Split into training and testing datasets\n",
        "X = data_clean.drop('accident_severity', axis=1)\n",
        "y = data_clean['accident_severity']\n",
        "X_train, X_test, y_train, y_test = train_test_split(X, y, test_size=0.2, random_state=42)\n",
        "\n",
        "print(X_train, X_test, y_train, y_test)"
      ]
    },
    {
      "cell_type": "code",
      "execution_count": 70,
      "metadata": {
        "colab": {
          "base_uri": "https://localhost:8080/"
        },
        "id": "lzH-7ARSJqTA",
        "outputId": "50f9971b-e2fb-4c05-ddea-653cddfa6a67"
      },
      "outputs": [
        {
          "name": "stdout",
          "output_type": "stream",
          "text": [
            "Training dataset:\n",
            "2    0.436289\n",
            "1    0.369130\n",
            "0    0.194581\n",
            "Name: accident_severity, dtype: float64\n",
            "\n",
            "Testing dataset:\n",
            "2    0.445904\n",
            "1    0.358562\n",
            "0    0.195534\n",
            "Name: accident_severity, dtype: float64\n",
            "Training dataset:\n",
            "2    0.436289\n",
            "1    0.369130\n",
            "0    0.194581\n",
            "Name: accident_severity, dtype: float64\n",
            "\n",
            "Testing dataset:\n",
            "2    0.445904\n",
            "1    0.358562\n",
            "0    0.195534\n",
            "Name: accident_severity, dtype: float64\n"
          ]
        }
      ],
      "source": [
        "# Check balance of labels in training dataset\n",
        "print(\"Training dataset:\")\n",
        "print(y_train.value_counts(normalize=True))\n",
        "\n",
        "# Check balance of labels in testing dataset\n",
        "print(\"\\nTesting dataset:\")\n",
        "print(y_test.value_counts(normalize=True))"
      ]
    },
    {
      "cell_type": "markdown",
      "metadata": {
        "id": "otfP-8LzQE8Z"
      },
      "source": [
        "no need of feature scaling as the target labels are closely balanced"
      ]
    },
    {
      "cell_type": "code",
      "execution_count": 71,
      "metadata": {
        "id": "hnGy2LZhmkbi"
      },
      "outputs": [],
      "source": [
        "from sklearn.preprocessing import StandardScaler\n",
        "\n",
        "num_cols = ['speed_limit', 'age_of_oldest_driver']\n",
        "\n",
        "# Create a StandardScaler object and fit it to the training data\n",
        "scaler = StandardScaler()\n",
        "scaler.fit(X_train[num_cols])\n",
        "\n",
        "# Transform the numerical features of both the training and testing data using the scaler\n",
        "X_train[num_cols] = scaler.transform(X_train[num_cols])\n",
        "X_test[num_cols] = scaler.transform(X_test[num_cols])"
      ]
    },
    {
      "cell_type": "markdown",
      "metadata": {
        "id": "aAaPiNUl4g39"
      },
      "source": [
        "# **TRADITIONAL MACHINE LEARNING ALGORITHMS **"
      ]
    },
    {
      "cell_type": "code",
      "execution_count": 72,
      "metadata": {
        "colab": {
          "base_uri": "https://localhost:8080/"
        },
        "id": "XwrCT822jxhs",
        "outputId": "9a421ab1-d4d8-407f-9789-cf7704dd4e2f"
      },
      "outputs": [
        {
          "name": "stdout",
          "output_type": "stream",
          "text": [
            "Logistic Regression Accuracy: 0.7194220981776391\n",
            "K-Nearest Neighbors Accuracy: 0.7207355114102775\n",
            "Decision Tree Accuracy: 0.6652438023313085\n",
            "Random Forest Accuracy: 0.6946314234115909\n",
            "Logistic Regression Accuracy: 0.7194220981776391\n",
            "K-Nearest Neighbors Accuracy: 0.7207355114102775\n",
            "Decision Tree Accuracy: 0.6652438023313085\n",
            "Random Forest Accuracy: 0.6946314234115909\n"
          ]
        }
      ],
      "source": [
        "from sklearn.linear_model import LogisticRegression\n",
        "from sklearn.neighbors import KNeighborsClassifier\n",
        "from sklearn.tree import DecisionTreeClassifier\n",
        "from sklearn.ensemble import RandomForestClassifier\n",
        "from sklearn.svm import SVC\n",
        "from sklearn.metrics import accuracy_score\n",
        "\n",
        "# Train and evaluate logistic regression\n",
        "lr = LogisticRegression(random_state=42)\n",
        "lr.fit(X_train, y_train)\n",
        "y_pred = lr.predict(X_test)\n",
        "acc_lr = accuracy_score(y_test, y_pred)\n",
        "print(\"Logistic Regression Accuracy:\", acc_lr)\n",
        "\n",
        "# Train and evaluate k-nearest neighbors\n",
        "knn = KNeighborsClassifier(n_neighbors=5)\n",
        "knn.fit(X_train, y_train)\n",
        "y_pred = knn.predict(X_test)\n",
        "acc_knn = accuracy_score(y_test, y_pred)\n",
        "print(\"K-Nearest Neighbors Accuracy:\", acc_knn)\n",
        "\n",
        "# Train and evaluate decision tree\n",
        "dt = DecisionTreeClassifier(random_state=42)\n",
        "dt.fit(X_train, y_train)\n",
        "y_pred = dt.predict(X_test)\n",
        "acc_dt = accuracy_score(y_test, y_pred)\n",
        "print(\"Decision Tree Accuracy:\", acc_dt)\n",
        "\n",
        "# Train and evaluate random forest\n",
        "rf = RandomForestClassifier(random_state=42)\n",
        "rf.fit(X_train, y_train)\n",
        "y_pred = rf.predict(X_test)\n",
        "acc_rf = accuracy_score(y_test, y_pred)\n",
        "print(\"Random Forest Accuracy:\", acc_rf)\n",
        "\n"
      ]
    },
    {
      "cell_type": "code",
      "execution_count": 73,
      "metadata": {
        "id": "sd2ghL62Gveq"
      },
      "outputs": [],
      "source": [
        "results = []"
      ]
    },
    {
      "cell_type": "code",
      "execution_count": 74,
      "metadata": {
        "colab": {
          "base_uri": "https://localhost:8080/"
        },
        "id": "epxWpj4HG1-a",
        "outputId": "0e47574f-8ace-46b7-a9bf-50d766bb3538"
      },
      "outputs": [
        {
          "name": "stderr",
          "output_type": "stream",
          "text": [
            "/usr/local/lib/python3.9/dist-packages/sklearn/linear_model/_logistic.py:1173: FutureWarning: `penalty='none'`has been deprecated in 1.2 and will be removed in 1.4. To keep the past behaviour, set `penalty=None`.\n",
            "  warnings.warn(\n",
            "/usr/local/lib/python3.9/dist-packages/sklearn/linear_model/_logistic.py:1181: UserWarning: Setting penalty=None will ignore the C and l1_ratio parameters\n",
            "  warnings.warn(\n",
            "/usr/local/lib/python3.9/dist-packages/sklearn/linear_model/_logistic.py:1173: FutureWarning: `penalty='none'`has been deprecated in 1.2 and will be removed in 1.4. To keep the past behaviour, set `penalty=None`.\n",
            "  warnings.warn(\n",
            "/usr/local/lib/python3.9/dist-packages/sklearn/linear_model/_logistic.py:1181: UserWarning: Setting penalty=None will ignore the C and l1_ratio parameters\n",
            "  warnings.warn(\n",
            "/usr/local/lib/python3.9/dist-packages/sklearn/linear_model/_logistic.py:1173: FutureWarning: `penalty='none'`has been deprecated in 1.2 and will be removed in 1.4. To keep the past behaviour, set `penalty=None`.\n",
            "  warnings.warn(\n",
            "/usr/local/lib/python3.9/dist-packages/sklearn/linear_model/_logistic.py:1181: UserWarning: Setting penalty=None will ignore the C and l1_ratio parameters\n",
            "  warnings.warn(\n",
            "/usr/local/lib/python3.9/dist-packages/sklearn/linear_model/_logistic.py:1173: FutureWarning: `penalty='none'`has been deprecated in 1.2 and will be removed in 1.4. To keep the past behaviour, set `penalty=None`.\n",
            "  warnings.warn(\n",
            "/usr/local/lib/python3.9/dist-packages/sklearn/linear_model/_logistic.py:1181: UserWarning: Setting penalty=None will ignore the C and l1_ratio parameters\n",
            "  warnings.warn(\n",
            "/usr/local/lib/python3.9/dist-packages/sklearn/linear_model/_logistic.py:1173: FutureWarning: `penalty='none'`has been deprecated in 1.2 and will be removed in 1.4. To keep the past behaviour, set `penalty=None`.\n",
            "  warnings.warn(\n",
            "/usr/local/lib/python3.9/dist-packages/sklearn/linear_model/_logistic.py:1181: UserWarning: Setting penalty=None will ignore the C and l1_ratio parameters\n",
            "  warnings.warn(\n",
            "/usr/local/lib/python3.9/dist-packages/sklearn/linear_model/_logistic.py:1173: FutureWarning: `penalty='none'`has been deprecated in 1.2 and will be removed in 1.4. To keep the past behaviour, set `penalty=None`.\n",
            "  warnings.warn(\n",
            "/usr/local/lib/python3.9/dist-packages/sklearn/linear_model/_logistic.py:1181: UserWarning: Setting penalty=None will ignore the C and l1_ratio parameters\n",
            "  warnings.warn(\n",
            "/usr/local/lib/python3.9/dist-packages/sklearn/linear_model/_logistic.py:1173: FutureWarning: `penalty='none'`has been deprecated in 1.2 and will be removed in 1.4. To keep the past behaviour, set `penalty=None`.\n",
            "  warnings.warn(\n",
            "/usr/local/lib/python3.9/dist-packages/sklearn/linear_model/_logistic.py:1181: UserWarning: Setting penalty=None will ignore the C and l1_ratio parameters\n",
            "  warnings.warn(\n",
            "/usr/local/lib/python3.9/dist-packages/sklearn/linear_model/_logistic.py:1173: FutureWarning: `penalty='none'`has been deprecated in 1.2 and will be removed in 1.4. To keep the past behaviour, set `penalty=None`.\n",
            "  warnings.warn(\n",
            "/usr/local/lib/python3.9/dist-packages/sklearn/linear_model/_logistic.py:1181: UserWarning: Setting penalty=None will ignore the C and l1_ratio parameters\n",
            "  warnings.warn(\n",
            "/usr/local/lib/python3.9/dist-packages/sklearn/linear_model/_logistic.py:1173: FutureWarning: `penalty='none'`has been deprecated in 1.2 and will be removed in 1.4. To keep the past behaviour, set `penalty=None`.\n",
            "  warnings.warn(\n",
            "/usr/local/lib/python3.9/dist-packages/sklearn/linear_model/_logistic.py:1181: UserWarning: Setting penalty=None will ignore the C and l1_ratio parameters\n",
            "  warnings.warn(\n",
            "/usr/local/lib/python3.9/dist-packages/sklearn/linear_model/_logistic.py:1173: FutureWarning: `penalty='none'`has been deprecated in 1.2 and will be removed in 1.4. To keep the past behaviour, set `penalty=None`.\n",
            "  warnings.warn(\n",
            "/usr/local/lib/python3.9/dist-packages/sklearn/linear_model/_logistic.py:1181: UserWarning: Setting penalty=None will ignore the C and l1_ratio parameters\n",
            "  warnings.warn(\n",
            "/usr/local/lib/python3.9/dist-packages/sklearn/linear_model/_logistic.py:1173: FutureWarning: `penalty='none'`has been deprecated in 1.2 and will be removed in 1.4. To keep the past behaviour, set `penalty=None`.\n",
            "  warnings.warn(\n",
            "/usr/local/lib/python3.9/dist-packages/sklearn/linear_model/_logistic.py:1181: UserWarning: Setting penalty=None will ignore the C and l1_ratio parameters\n",
            "  warnings.warn(\n",
            "/usr/local/lib/python3.9/dist-packages/sklearn/linear_model/_logistic.py:1173: FutureWarning: `penalty='none'`has been deprecated in 1.2 and will be removed in 1.4. To keep the past behaviour, set `penalty=None`.\n",
            "  warnings.warn(\n",
            "/usr/local/lib/python3.9/dist-packages/sklearn/linear_model/_logistic.py:1181: UserWarning: Setting penalty=None will ignore the C and l1_ratio parameters\n",
            "  warnings.warn(\n",
            "/usr/local/lib/python3.9/dist-packages/sklearn/linear_model/_logistic.py:1173: FutureWarning: `penalty='none'`has been deprecated in 1.2 and will be removed in 1.4. To keep the past behaviour, set `penalty=None`.\n",
            "  warnings.warn(\n",
            "/usr/local/lib/python3.9/dist-packages/sklearn/linear_model/_logistic.py:1181: UserWarning: Setting penalty=None will ignore the C and l1_ratio parameters\n",
            "  warnings.warn(\n",
            "/usr/local/lib/python3.9/dist-packages/sklearn/linear_model/_logistic.py:1173: FutureWarning: `penalty='none'`has been deprecated in 1.2 and will be removed in 1.4. To keep the past behaviour, set `penalty=None`.\n",
            "  warnings.warn(\n",
            "/usr/local/lib/python3.9/dist-packages/sklearn/linear_model/_logistic.py:1181: UserWarning: Setting penalty=None will ignore the C and l1_ratio parameters\n",
            "  warnings.warn(\n",
            "/usr/local/lib/python3.9/dist-packages/sklearn/linear_model/_logistic.py:1173: FutureWarning: `penalty='none'`has been deprecated in 1.2 and will be removed in 1.4. To keep the past behaviour, set `penalty=None`.\n",
            "  warnings.warn(\n",
            "/usr/local/lib/python3.9/dist-packages/sklearn/linear_model/_logistic.py:1181: UserWarning: Setting penalty=None will ignore the C and l1_ratio parameters\n",
            "  warnings.warn(\n",
            "/usr/local/lib/python3.9/dist-packages/sklearn/linear_model/_logistic.py:1173: FutureWarning: `penalty='none'`has been deprecated in 1.2 and will be removed in 1.4. To keep the past behaviour, set `penalty=None`.\n",
            "  warnings.warn(\n",
            "/usr/local/lib/python3.9/dist-packages/sklearn/linear_model/_logistic.py:1173: FutureWarning: `penalty='none'`has been deprecated in 1.2 and will be removed in 1.4. To keep the past behaviour, set `penalty=None`.\n",
            "  warnings.warn(\n",
            "/usr/local/lib/python3.9/dist-packages/sklearn/linear_model/_logistic.py:1173: FutureWarning: `penalty='none'`has been deprecated in 1.2 and will be removed in 1.4. To keep the past behaviour, set `penalty=None`.\n",
            "  warnings.warn(\n",
            "/usr/local/lib/python3.9/dist-packages/sklearn/linear_model/_logistic.py:1173: FutureWarning: `penalty='none'`has been deprecated in 1.2 and will be removed in 1.4. To keep the past behaviour, set `penalty=None`.\n",
            "  warnings.warn(\n",
            "/usr/local/lib/python3.9/dist-packages/sklearn/linear_model/_logistic.py:1173: FutureWarning: `penalty='none'`has been deprecated in 1.2 and will be removed in 1.4. To keep the past behaviour, set `penalty=None`.\n",
            "  warnings.warn(\n",
            "/usr/local/lib/python3.9/dist-packages/sklearn/linear_model/_logistic.py:1173: FutureWarning: `penalty='none'`has been deprecated in 1.2 and will be removed in 1.4. To keep the past behaviour, set `penalty=None`.\n",
            "  warnings.warn(\n",
            "/usr/local/lib/python3.9/dist-packages/sklearn/linear_model/_logistic.py:1181: UserWarning: Setting penalty=None will ignore the C and l1_ratio parameters\n",
            "  warnings.warn(\n",
            "/usr/local/lib/python3.9/dist-packages/sklearn/linear_model/_logistic.py:1173: FutureWarning: `penalty='none'`has been deprecated in 1.2 and will be removed in 1.4. To keep the past behaviour, set `penalty=None`.\n",
            "  warnings.warn(\n",
            "/usr/local/lib/python3.9/dist-packages/sklearn/linear_model/_logistic.py:1181: UserWarning: Setting penalty=None will ignore the C and l1_ratio parameters\n",
            "  warnings.warn(\n",
            "/usr/local/lib/python3.9/dist-packages/sklearn/linear_model/_logistic.py:1173: FutureWarning: `penalty='none'`has been deprecated in 1.2 and will be removed in 1.4. To keep the past behaviour, set `penalty=None`.\n",
            "  warnings.warn(\n",
            "/usr/local/lib/python3.9/dist-packages/sklearn/linear_model/_logistic.py:1181: UserWarning: Setting penalty=None will ignore the C and l1_ratio parameters\n",
            "  warnings.warn(\n",
            "/usr/local/lib/python3.9/dist-packages/sklearn/linear_model/_logistic.py:1173: FutureWarning: `penalty='none'`has been deprecated in 1.2 and will be removed in 1.4. To keep the past behaviour, set `penalty=None`.\n",
            "  warnings.warn(\n",
            "/usr/local/lib/python3.9/dist-packages/sklearn/linear_model/_logistic.py:1181: UserWarning: Setting penalty=None will ignore the C and l1_ratio parameters\n",
            "  warnings.warn(\n",
            "/usr/local/lib/python3.9/dist-packages/sklearn/linear_model/_logistic.py:1173: FutureWarning: `penalty='none'`has been deprecated in 1.2 and will be removed in 1.4. To keep the past behaviour, set `penalty=None`.\n",
            "  warnings.warn(\n",
            "/usr/local/lib/python3.9/dist-packages/sklearn/linear_model/_logistic.py:1181: UserWarning: Setting penalty=None will ignore the C and l1_ratio parameters\n",
            "  warnings.warn(\n",
            "/usr/local/lib/python3.9/dist-packages/sklearn/linear_model/_logistic.py:1173: FutureWarning: `penalty='none'`has been deprecated in 1.2 and will be removed in 1.4. To keep the past behaviour, set `penalty=None`.\n",
            "  warnings.warn(\n",
            "/usr/local/lib/python3.9/dist-packages/sklearn/linear_model/_logistic.py:1181: UserWarning: Setting penalty=None will ignore the C and l1_ratio parameters\n",
            "  warnings.warn(\n",
            "/usr/local/lib/python3.9/dist-packages/sklearn/linear_model/_logistic.py:1173: FutureWarning: `penalty='none'`has been deprecated in 1.2 and will be removed in 1.4. To keep the past behaviour, set `penalty=None`.\n",
            "  warnings.warn(\n",
            "/usr/local/lib/python3.9/dist-packages/sklearn/linear_model/_logistic.py:1181: UserWarning: Setting penalty=None will ignore the C and l1_ratio parameters\n",
            "  warnings.warn(\n",
            "/usr/local/lib/python3.9/dist-packages/sklearn/linear_model/_logistic.py:1173: FutureWarning: `penalty='none'`has been deprecated in 1.2 and will be removed in 1.4. To keep the past behaviour, set `penalty=None`.\n",
            "  warnings.warn(\n",
            "/usr/local/lib/python3.9/dist-packages/sklearn/linear_model/_logistic.py:1181: UserWarning: Setting penalty=None will ignore the C and l1_ratio parameters\n",
            "  warnings.warn(\n",
            "/usr/local/lib/python3.9/dist-packages/sklearn/linear_model/_logistic.py:1173: FutureWarning: `penalty='none'`has been deprecated in 1.2 and will be removed in 1.4. To keep the past behaviour, set `penalty=None`.\n",
            "  warnings.warn(\n",
            "/usr/local/lib/python3.9/dist-packages/sklearn/linear_model/_logistic.py:1181: UserWarning: Setting penalty=None will ignore the C and l1_ratio parameters\n",
            "  warnings.warn(\n",
            "/usr/local/lib/python3.9/dist-packages/sklearn/linear_model/_logistic.py:1173: FutureWarning: `penalty='none'`has been deprecated in 1.2 and will be removed in 1.4. To keep the past behaviour, set `penalty=None`.\n",
            "  warnings.warn(\n",
            "/usr/local/lib/python3.9/dist-packages/sklearn/linear_model/_logistic.py:1181: UserWarning: Setting penalty=None will ignore the C and l1_ratio parameters\n",
            "  warnings.warn(\n",
            "/usr/local/lib/python3.9/dist-packages/sklearn/model_selection/_validation.py:378: FitFailedWarning: \n",
            "60 fits failed out of a total of 120.\n",
            "The score on these train-test partitions for these parameters will be set to nan.\n",
            "If these failures are not expected, you can try to debug them by setting error_score='raise'.\n",
            "\n",
            "Below are more details about the failures:\n",
            "--------------------------------------------------------------------------------\n",
            "30 fits failed with the following error:\n",
            "Traceback (most recent call last):\n",
            "  File \"/usr/local/lib/python3.9/dist-packages/sklearn/model_selection/_validation.py\", line 686, in _fit_and_score\n",
            "    estimator.fit(X_train, y_train, **fit_params)\n",
            "  File \"/usr/local/lib/python3.9/dist-packages/sklearn/linear_model/_logistic.py\", line 1162, in fit\n",
            "    solver = _check_solver(self.solver, self.penalty, self.dual)\n",
            "  File \"/usr/local/lib/python3.9/dist-packages/sklearn/linear_model/_logistic.py\", line 54, in _check_solver\n",
            "    raise ValueError(\n",
            "ValueError: Solver lbfgs supports only 'l2' or 'none' penalties, got l1 penalty.\n",
            "\n",
            "--------------------------------------------------------------------------------\n",
            "30 fits failed with the following error:\n",
            "Traceback (most recent call last):\n",
            "  File \"/usr/local/lib/python3.9/dist-packages/sklearn/model_selection/_validation.py\", line 686, in _fit_and_score\n",
            "    estimator.fit(X_train, y_train, **fit_params)\n",
            "  File \"/usr/local/lib/python3.9/dist-packages/sklearn/linear_model/_logistic.py\", line 1162, in fit\n",
            "    solver = _check_solver(self.solver, self.penalty, self.dual)\n",
            "  File \"/usr/local/lib/python3.9/dist-packages/sklearn/linear_model/_logistic.py\", line 54, in _check_solver\n",
            "    raise ValueError(\n",
            "ValueError: Solver lbfgs supports only 'l2' or 'none' penalties, got elasticnet penalty.\n",
            "\n",
            "  warnings.warn(some_fits_failed_message, FitFailedWarning)\n",
            "/usr/local/lib/python3.9/dist-packages/sklearn/model_selection/_search.py:952: UserWarning: One or more of the test scores are non-finite: [       nan 0.69671593        nan 0.71871921        nan 0.71001642\n",
            "        nan 0.71871921        nan 0.71826765        nan 0.71871921\n",
            "        nan 0.71867816        nan 0.71871921        nan 0.71876026\n",
            "        nan 0.71871921        nan 0.71871921        nan 0.71871921]\n",
            "  warnings.warn(\n"
          ]
        },
        {
          "name": "stdout",
          "output_type": "stream",
          "text": [
            "Confusion Matrix:\n",
            "[[ 762  188  241]\n",
            " [ 265 1562  357]\n",
            " [ 266  390 2060]]\n",
            "Classification Report:\n",
            "              precision    recall  f1-score   support\n",
            "\n",
            "           0       0.59      0.64      0.61      1191\n",
            "           1       0.73      0.72      0.72      2184\n",
            "           2       0.78      0.76      0.77      2716\n",
            "\n",
            "    accuracy                           0.72      6091\n",
            "   macro avg       0.70      0.70      0.70      6091\n",
            "weighted avg       0.72      0.72      0.72      6091\n",
            "\n",
            "Best hyperparameters:  {'C': 10, 'penalty': 'l2'}\n",
            "Logistic Regression Accuracy: 0.71876026272578\n"
          ]
        },
        {
          "name": "stderr",
          "output_type": "stream",
          "text": [
            "/usr/local/lib/python3.9/dist-packages/sklearn/linear_model/_logistic.py:1173: FutureWarning: `penalty='none'`has been deprecated in 1.2 and will be removed in 1.4. To keep the past behaviour, set `penalty=None`.\n",
            "  warnings.warn(\n",
            "/usr/local/lib/python3.9/dist-packages/sklearn/linear_model/_logistic.py:1181: UserWarning: Setting penalty=None will ignore the C and l1_ratio parameters\n",
            "  warnings.warn(\n",
            "/usr/local/lib/python3.9/dist-packages/sklearn/linear_model/_logistic.py:1173: FutureWarning: `penalty='none'`has been deprecated in 1.2 and will be removed in 1.4. To keep the past behaviour, set `penalty=None`.\n",
            "  warnings.warn(\n",
            "/usr/local/lib/python3.9/dist-packages/sklearn/linear_model/_logistic.py:1181: UserWarning: Setting penalty=None will ignore the C and l1_ratio parameters\n",
            "  warnings.warn(\n",
            "/usr/local/lib/python3.9/dist-packages/sklearn/linear_model/_logistic.py:1173: FutureWarning: `penalty='none'`has been deprecated in 1.2 and will be removed in 1.4. To keep the past behaviour, set `penalty=None`.\n",
            "  warnings.warn(\n",
            "/usr/local/lib/python3.9/dist-packages/sklearn/linear_model/_logistic.py:1181: UserWarning: Setting penalty=None will ignore the C and l1_ratio parameters\n",
            "  warnings.warn(\n",
            "/usr/local/lib/python3.9/dist-packages/sklearn/linear_model/_logistic.py:1173: FutureWarning: `penalty='none'`has been deprecated in 1.2 and will be removed in 1.4. To keep the past behaviour, set `penalty=None`.\n",
            "  warnings.warn(\n",
            "/usr/local/lib/python3.9/dist-packages/sklearn/linear_model/_logistic.py:1181: UserWarning: Setting penalty=None will ignore the C and l1_ratio parameters\n",
            "  warnings.warn(\n",
            "/usr/local/lib/python3.9/dist-packages/sklearn/linear_model/_logistic.py:1173: FutureWarning: `penalty='none'`has been deprecated in 1.2 and will be removed in 1.4. To keep the past behaviour, set `penalty=None`.\n",
            "  warnings.warn(\n",
            "/usr/local/lib/python3.9/dist-packages/sklearn/linear_model/_logistic.py:1181: UserWarning: Setting penalty=None will ignore the C and l1_ratio parameters\n",
            "  warnings.warn(\n",
            "/usr/local/lib/python3.9/dist-packages/sklearn/linear_model/_logistic.py:1173: FutureWarning: `penalty='none'`has been deprecated in 1.2 and will be removed in 1.4. To keep the past behaviour, set `penalty=None`.\n",
            "  warnings.warn(\n",
            "/usr/local/lib/python3.9/dist-packages/sklearn/linear_model/_logistic.py:1181: UserWarning: Setting penalty=None will ignore the C and l1_ratio parameters\n",
            "  warnings.warn(\n",
            "/usr/local/lib/python3.9/dist-packages/sklearn/linear_model/_logistic.py:1173: FutureWarning: `penalty='none'`has been deprecated in 1.2 and will be removed in 1.4. To keep the past behaviour, set `penalty=None`.\n",
            "  warnings.warn(\n",
            "/usr/local/lib/python3.9/dist-packages/sklearn/linear_model/_logistic.py:1181: UserWarning: Setting penalty=None will ignore the C and l1_ratio parameters\n",
            "  warnings.warn(\n",
            "/usr/local/lib/python3.9/dist-packages/sklearn/linear_model/_logistic.py:1173: FutureWarning: `penalty='none'`has been deprecated in 1.2 and will be removed in 1.4. To keep the past behaviour, set `penalty=None`.\n",
            "  warnings.warn(\n",
            "/usr/local/lib/python3.9/dist-packages/sklearn/linear_model/_logistic.py:1181: UserWarning: Setting penalty=None will ignore the C and l1_ratio parameters\n",
            "  warnings.warn(\n",
            "/usr/local/lib/python3.9/dist-packages/sklearn/linear_model/_logistic.py:1173: FutureWarning: `penalty='none'`has been deprecated in 1.2 and will be removed in 1.4. To keep the past behaviour, set `penalty=None`.\n",
            "  warnings.warn(\n",
            "/usr/local/lib/python3.9/dist-packages/sklearn/linear_model/_logistic.py:1181: UserWarning: Setting penalty=None will ignore the C and l1_ratio parameters\n",
            "  warnings.warn(\n",
            "/usr/local/lib/python3.9/dist-packages/sklearn/linear_model/_logistic.py:1173: FutureWarning: `penalty='none'`has been deprecated in 1.2 and will be removed in 1.4. To keep the past behaviour, set `penalty=None`.\n",
            "  warnings.warn(\n",
            "/usr/local/lib/python3.9/dist-packages/sklearn/linear_model/_logistic.py:1181: UserWarning: Setting penalty=None will ignore the C and l1_ratio parameters\n",
            "  warnings.warn(\n",
            "/usr/local/lib/python3.9/dist-packages/sklearn/linear_model/_logistic.py:1173: FutureWarning: `penalty='none'`has been deprecated in 1.2 and will be removed in 1.4. To keep the past behaviour, set `penalty=None`.\n",
            "  warnings.warn(\n",
            "/usr/local/lib/python3.9/dist-packages/sklearn/linear_model/_logistic.py:1181: UserWarning: Setting penalty=None will ignore the C and l1_ratio parameters\n",
            "  warnings.warn(\n",
            "/usr/local/lib/python3.9/dist-packages/sklearn/linear_model/_logistic.py:1173: FutureWarning: `penalty='none'`has been deprecated in 1.2 and will be removed in 1.4. To keep the past behaviour, set `penalty=None`.\n",
            "  warnings.warn(\n",
            "/usr/local/lib/python3.9/dist-packages/sklearn/linear_model/_logistic.py:1181: UserWarning: Setting penalty=None will ignore the C and l1_ratio parameters\n",
            "  warnings.warn(\n",
            "/usr/local/lib/python3.9/dist-packages/sklearn/linear_model/_logistic.py:1173: FutureWarning: `penalty='none'`has been deprecated in 1.2 and will be removed in 1.4. To keep the past behaviour, set `penalty=None`.\n",
            "  warnings.warn(\n",
            "/usr/local/lib/python3.9/dist-packages/sklearn/linear_model/_logistic.py:1181: UserWarning: Setting penalty=None will ignore the C and l1_ratio parameters\n",
            "  warnings.warn(\n",
            "/usr/local/lib/python3.9/dist-packages/sklearn/linear_model/_logistic.py:1173: FutureWarning: `penalty='none'`has been deprecated in 1.2 and will be removed in 1.4. To keep the past behaviour, set `penalty=None`.\n",
            "  warnings.warn(\n",
            "/usr/local/lib/python3.9/dist-packages/sklearn/linear_model/_logistic.py:1181: UserWarning: Setting penalty=None will ignore the C and l1_ratio parameters\n",
            "  warnings.warn(\n",
            "/usr/local/lib/python3.9/dist-packages/sklearn/linear_model/_logistic.py:1173: FutureWarning: `penalty='none'`has been deprecated in 1.2 and will be removed in 1.4. To keep the past behaviour, set `penalty=None`.\n",
            "  warnings.warn(\n",
            "/usr/local/lib/python3.9/dist-packages/sklearn/linear_model/_logistic.py:1181: UserWarning: Setting penalty=None will ignore the C and l1_ratio parameters\n",
            "  warnings.warn(\n",
            "/usr/local/lib/python3.9/dist-packages/sklearn/linear_model/_logistic.py:1173: FutureWarning: `penalty='none'`has been deprecated in 1.2 and will be removed in 1.4. To keep the past behaviour, set `penalty=None`.\n",
            "  warnings.warn(\n",
            "/usr/local/lib/python3.9/dist-packages/sklearn/linear_model/_logistic.py:1173: FutureWarning: `penalty='none'`has been deprecated in 1.2 and will be removed in 1.4. To keep the past behaviour, set `penalty=None`.\n",
            "  warnings.warn(\n",
            "/usr/local/lib/python3.9/dist-packages/sklearn/linear_model/_logistic.py:1173: FutureWarning: `penalty='none'`has been deprecated in 1.2 and will be removed in 1.4. To keep the past behaviour, set `penalty=None`.\n",
            "  warnings.warn(\n",
            "/usr/local/lib/python3.9/dist-packages/sklearn/linear_model/_logistic.py:1173: FutureWarning: `penalty='none'`has been deprecated in 1.2 and will be removed in 1.4. To keep the past behaviour, set `penalty=None`.\n",
            "  warnings.warn(\n",
            "/usr/local/lib/python3.9/dist-packages/sklearn/linear_model/_logistic.py:1173: FutureWarning: `penalty='none'`has been deprecated in 1.2 and will be removed in 1.4. To keep the past behaviour, set `penalty=None`.\n",
            "  warnings.warn(\n",
            "/usr/local/lib/python3.9/dist-packages/sklearn/linear_model/_logistic.py:1173: FutureWarning: `penalty='none'`has been deprecated in 1.2 and will be removed in 1.4. To keep the past behaviour, set `penalty=None`.\n",
            "  warnings.warn(\n",
            "/usr/local/lib/python3.9/dist-packages/sklearn/linear_model/_logistic.py:1181: UserWarning: Setting penalty=None will ignore the C and l1_ratio parameters\n",
            "  warnings.warn(\n",
            "/usr/local/lib/python3.9/dist-packages/sklearn/linear_model/_logistic.py:1173: FutureWarning: `penalty='none'`has been deprecated in 1.2 and will be removed in 1.4. To keep the past behaviour, set `penalty=None`.\n",
            "  warnings.warn(\n",
            "/usr/local/lib/python3.9/dist-packages/sklearn/linear_model/_logistic.py:1181: UserWarning: Setting penalty=None will ignore the C and l1_ratio parameters\n",
            "  warnings.warn(\n",
            "/usr/local/lib/python3.9/dist-packages/sklearn/linear_model/_logistic.py:1173: FutureWarning: `penalty='none'`has been deprecated in 1.2 and will be removed in 1.4. To keep the past behaviour, set `penalty=None`.\n",
            "  warnings.warn(\n",
            "/usr/local/lib/python3.9/dist-packages/sklearn/linear_model/_logistic.py:1181: UserWarning: Setting penalty=None will ignore the C and l1_ratio parameters\n",
            "  warnings.warn(\n",
            "/usr/local/lib/python3.9/dist-packages/sklearn/linear_model/_logistic.py:1173: FutureWarning: `penalty='none'`has been deprecated in 1.2 and will be removed in 1.4. To keep the past behaviour, set `penalty=None`.\n",
            "  warnings.warn(\n",
            "/usr/local/lib/python3.9/dist-packages/sklearn/linear_model/_logistic.py:1181: UserWarning: Setting penalty=None will ignore the C and l1_ratio parameters\n",
            "  warnings.warn(\n",
            "/usr/local/lib/python3.9/dist-packages/sklearn/linear_model/_logistic.py:1173: FutureWarning: `penalty='none'`has been deprecated in 1.2 and will be removed in 1.4. To keep the past behaviour, set `penalty=None`.\n",
            "  warnings.warn(\n",
            "/usr/local/lib/python3.9/dist-packages/sklearn/linear_model/_logistic.py:1181: UserWarning: Setting penalty=None will ignore the C and l1_ratio parameters\n",
            "  warnings.warn(\n",
            "/usr/local/lib/python3.9/dist-packages/sklearn/linear_model/_logistic.py:1173: FutureWarning: `penalty='none'`has been deprecated in 1.2 and will be removed in 1.4. To keep the past behaviour, set `penalty=None`.\n",
            "  warnings.warn(\n",
            "/usr/local/lib/python3.9/dist-packages/sklearn/linear_model/_logistic.py:1181: UserWarning: Setting penalty=None will ignore the C and l1_ratio parameters\n",
            "  warnings.warn(\n",
            "/usr/local/lib/python3.9/dist-packages/sklearn/linear_model/_logistic.py:1173: FutureWarning: `penalty='none'`has been deprecated in 1.2 and will be removed in 1.4. To keep the past behaviour, set `penalty=None`.\n",
            "  warnings.warn(\n",
            "/usr/local/lib/python3.9/dist-packages/sklearn/linear_model/_logistic.py:1181: UserWarning: Setting penalty=None will ignore the C and l1_ratio parameters\n",
            "  warnings.warn(\n",
            "/usr/local/lib/python3.9/dist-packages/sklearn/linear_model/_logistic.py:1173: FutureWarning: `penalty='none'`has been deprecated in 1.2 and will be removed in 1.4. To keep the past behaviour, set `penalty=None`.\n",
            "  warnings.warn(\n",
            "/usr/local/lib/python3.9/dist-packages/sklearn/linear_model/_logistic.py:1181: UserWarning: Setting penalty=None will ignore the C and l1_ratio parameters\n",
            "  warnings.warn(\n",
            "/usr/local/lib/python3.9/dist-packages/sklearn/linear_model/_logistic.py:1173: FutureWarning: `penalty='none'`has been deprecated in 1.2 and will be removed in 1.4. To keep the past behaviour, set `penalty=None`.\n",
            "  warnings.warn(\n",
            "/usr/local/lib/python3.9/dist-packages/sklearn/linear_model/_logistic.py:1181: UserWarning: Setting penalty=None will ignore the C and l1_ratio parameters\n",
            "  warnings.warn(\n",
            "/usr/local/lib/python3.9/dist-packages/sklearn/linear_model/_logistic.py:1173: FutureWarning: `penalty='none'`has been deprecated in 1.2 and will be removed in 1.4. To keep the past behaviour, set `penalty=None`.\n",
            "  warnings.warn(\n",
            "/usr/local/lib/python3.9/dist-packages/sklearn/linear_model/_logistic.py:1181: UserWarning: Setting penalty=None will ignore the C and l1_ratio parameters\n",
            "  warnings.warn(\n",
            "/usr/local/lib/python3.9/dist-packages/sklearn/model_selection/_validation.py:378: FitFailedWarning: \n",
            "60 fits failed out of a total of 120.\n",
            "The score on these train-test partitions for these parameters will be set to nan.\n",
            "If these failures are not expected, you can try to debug them by setting error_score='raise'.\n",
            "\n",
            "Below are more details about the failures:\n",
            "--------------------------------------------------------------------------------\n",
            "30 fits failed with the following error:\n",
            "Traceback (most recent call last):\n",
            "  File \"/usr/local/lib/python3.9/dist-packages/sklearn/model_selection/_validation.py\", line 686, in _fit_and_score\n",
            "    estimator.fit(X_train, y_train, **fit_params)\n",
            "  File \"/usr/local/lib/python3.9/dist-packages/sklearn/linear_model/_logistic.py\", line 1162, in fit\n",
            "    solver = _check_solver(self.solver, self.penalty, self.dual)\n",
            "  File \"/usr/local/lib/python3.9/dist-packages/sklearn/linear_model/_logistic.py\", line 54, in _check_solver\n",
            "    raise ValueError(\n",
            "ValueError: Solver lbfgs supports only 'l2' or 'none' penalties, got l1 penalty.\n",
            "\n",
            "--------------------------------------------------------------------------------\n",
            "30 fits failed with the following error:\n",
            "Traceback (most recent call last):\n",
            "  File \"/usr/local/lib/python3.9/dist-packages/sklearn/model_selection/_validation.py\", line 686, in _fit_and_score\n",
            "    estimator.fit(X_train, y_train, **fit_params)\n",
            "  File \"/usr/local/lib/python3.9/dist-packages/sklearn/linear_model/_logistic.py\", line 1162, in fit\n",
            "    solver = _check_solver(self.solver, self.penalty, self.dual)\n",
            "  File \"/usr/local/lib/python3.9/dist-packages/sklearn/linear_model/_logistic.py\", line 54, in _check_solver\n",
            "    raise ValueError(\n",
            "ValueError: Solver lbfgs supports only 'l2' or 'none' penalties, got elasticnet penalty.\n",
            "\n",
            "  warnings.warn(some_fits_failed_message, FitFailedWarning)\n",
            "/usr/local/lib/python3.9/dist-packages/sklearn/model_selection/_search.py:952: UserWarning: One or more of the test scores are non-finite: [       nan 0.69671593        nan 0.71871921        nan 0.71001642\n",
            "        nan 0.71871921        nan 0.71826765        nan 0.71871921\n",
            "        nan 0.71867816        nan 0.71871921        nan 0.71876026\n",
            "        nan 0.71871921        nan 0.71871921        nan 0.71871921]\n",
            "  warnings.warn(\n"
          ]
        },
        {
          "name": "stdout",
          "output_type": "stream",
          "text": [
            "Confusion Matrix:\n",
            "[[ 762  188  241]\n",
            " [ 265 1562  357]\n",
            " [ 266  390 2060]]\n",
            "Classification Report:\n",
            "              precision    recall  f1-score   support\n",
            "\n",
            "           0       0.59      0.64      0.61      1191\n",
            "           1       0.73      0.72      0.72      2184\n",
            "           2       0.78      0.76      0.77      2716\n",
            "\n",
            "    accuracy                           0.72      6091\n",
            "   macro avg       0.70      0.70      0.70      6091\n",
            "weighted avg       0.72      0.72      0.72      6091\n",
            "\n",
            "Best hyperparameters:  {'C': 10, 'penalty': 'l2'}\n",
            "Logistic Regression Accuracy: 0.71876026272578\n"
          ]
        }
      ],
      "source": [
        "from sklearn.model_selection import GridSearchCV\n",
        "from sklearn.metrics import confusion_matrix, classification_report\n",
        "\n",
        "# Create logistic regression object\n",
        "lr = LogisticRegression(random_state=42)\n",
        "\n",
        "# Define hyperparameters to tune\n",
        "param_grid = {'C': [0.001, 0.01, 0.1, 1, 10, 100], \n",
        "              'penalty': ['l1', 'l2', 'elasticnet', 'none']}\n",
        "\n",
        "# Create GridSearchCV object\n",
        "grid_search = GridSearchCV(lr, param_grid=param_grid, cv=5)\n",
        "\n",
        "# Fit GridSearchCV object to training data\n",
        "grid_search.fit(X_train, y_train)\n",
        "\n",
        "# Evaluate on test data\n",
        "y_pred = grid_search.predict(X_test)\n",
        "\n",
        "# Calculate confusion matrix\n",
        "cm = confusion_matrix(y_test, y_pred)\n",
        "print(\"Confusion Matrix:\")\n",
        "print(cm)\n",
        "\n",
        "# Calculate precision, recall, F1-score\n",
        "print(\"Classification Report:\")\n",
        "print(classification_report(y_test, y_pred))\n",
        "\n",
        "# Append results to list\n",
        "results.append(['LogisticRegression', acc_lr, grid_search.best_params_, grid_search.best_score_, cm, classification_report(y_test, y_pred)])\n",
        "\n",
        "# Print best hyperparameters and accuracy score\n",
        "print(\"Best hyperparameters: \", grid_search.best_params_)\n",
        "print(\"Logistic Regression Accuracy:\", grid_search.best_score_)"
      ]
    },
    {
      "cell_type": "code",
      "execution_count": 34,
      "metadata": {
        "colab": {
          "base_uri": "https://localhost:8080/"
        },
        "id": "7IpTuErQc-B_",
        "outputId": "12aaca49-ba74-49af-c238-7431a9a24887"
      },
      "outputs": [
        {
          "name": "stdout",
          "output_type": "stream",
          "text": [
            "Confusion Matrix:\n",
            "[[ 906  151  134]\n",
            " [ 302 1555  327]\n",
            " [ 294  386 2036]]\n",
            "Classification Report:\n",
            "              precision    recall  f1-score   support\n",
            "\n",
            "           0       0.60      0.76      0.67      1191\n",
            "           1       0.74      0.71      0.73      2184\n",
            "           2       0.82      0.75      0.78      2716\n",
            "\n",
            "    accuracy                           0.74      6091\n",
            "   macro avg       0.72      0.74      0.73      6091\n",
            "weighted avg       0.75      0.74      0.74      6091\n",
            "\n",
            "Best hyperparameters:  {'metric': 'manhattan', 'n_neighbors': 9, 'weights': 'uniform'}\n",
            "K-Nearest Neighbors Accuracy: 0.7327586206896551\n"
          ]
        }
      ],
      "source": [
        "from sklearn.model_selection import GridSearchCV\n",
        "\n",
        "# Create K-Nearest Neighbors object\n",
        "knn = KNeighborsClassifier()\n",
        "\n",
        "# Define hyperparameters to tune\n",
        "param_grid = {'n_neighbors': [3, 5, 7, 9],\n",
        "              'weights': ['uniform', 'distance'],\n",
        "              'metric': ['euclidean', 'manhattan', 'minkowski']}\n",
        "\n",
        "# Create GridSearchCV object\n",
        "grid_search = GridSearchCV(knn, param_grid=param_grid, cv=5)\n",
        "\n",
        "# Fit GridSearchCV object to training data\n",
        "grid_search.fit(X_train, y_train)\n",
        "\n",
        "# Evaluate on test data\n",
        "y_pred = grid_search.predict(X_test)\n",
        "\n",
        "# Calculate confusion matrix\n",
        "cm = confusion_matrix(y_test, y_pred)\n",
        "print(\"Confusion Matrix:\")\n",
        "print(cm)\n",
        "\n",
        "# Calculate precision, recall, F1-score\n",
        "print(\"Classification Report:\")\n",
        "print(classification_report(y_test, y_pred))\n",
        "\n",
        "results.append(['KNeighborsClassifier', acc_knn, grid_search.best_params_, grid_search.best_score_, cm, classification_report(y_test, y_pred)])\n",
        "# Print best hyperparameters and accuracy score\n",
        "print(\"Best hyperparameters: \", grid_search.best_params_)\n",
        "print(\"K-Nearest Neighbors Accuracy:\", grid_search.best_score_)"
      ]
    },
    {
      "cell_type": "code",
      "execution_count": 35,
      "metadata": {
        "colab": {
          "base_uri": "https://localhost:8080/"
        },
        "id": "Zkw_jUVfdQTe",
        "outputId": "3358f9c9-64ea-446e-c7d8-7f978c5db555"
      },
      "outputs": [
        {
          "name": "stdout",
          "output_type": "stream",
          "text": [
            "Confusion Matrix:\n",
            "[[1072   75   44]\n",
            " [ 370 1521  293]\n",
            " [ 390  345 1981]]\n",
            "Classification Report:\n",
            "              precision    recall  f1-score   support\n",
            "\n",
            "           0       0.59      0.90      0.71      1191\n",
            "           1       0.78      0.70      0.74      2184\n",
            "           2       0.85      0.73      0.79      2716\n",
            "\n",
            "    accuracy                           0.75      6091\n",
            "   macro avg       0.74      0.78      0.74      6091\n",
            "weighted avg       0.78      0.75      0.75      6091\n",
            "\n",
            "Best hyperparameters:  {'max_depth': 7, 'min_samples_leaf': 1, 'min_samples_split': 8}\n",
            "Decision Tree Accuracy: 0.7552545155993432\n"
          ]
        }
      ],
      "source": [
        "from sklearn.model_selection import GridSearchCV\n",
        "\n",
        "# Create Decision Tree object\n",
        "dt = DecisionTreeClassifier(random_state=42)\n",
        "\n",
        "# Define hyperparameters to tune\n",
        "param_grid = {'max_depth': [3, 5, 7, 9],\n",
        "              'min_samples_split': [2, 4, 6, 8],\n",
        "              'min_samples_leaf': [1, 2, 3, 4]}\n",
        "\n",
        "# Create GridSearchCV object\n",
        "grid_search = GridSearchCV(dt, param_grid=param_grid, cv=5)\n",
        "\n",
        "# Fit GridSearchCV object to training data\n",
        "grid_search.fit(X_train, y_train)\n",
        "\n",
        "# Evaluate on test data\n",
        "y_pred = grid_search.predict(X_test)\n",
        "\n",
        "# Calculate confusion matrix\n",
        "cm = confusion_matrix(y_test, y_pred)\n",
        "print(\"Confusion Matrix:\")\n",
        "print(cm)\n",
        "\n",
        "# Calculate precision, recall, F1-score\n",
        "print(\"Classification Report:\")\n",
        "print(classification_report(y_test, y_pred))\n",
        "\n",
        "results.append(['DecisionTreeClassifier', acc_dt, grid_search.best_params_, grid_search.best_score_, cm, classification_report(y_test, y_pred)])\n",
        "\n",
        "\n",
        "# Print best hyperparameters and accuracy score\n",
        "print(\"Best hyperparameters: \", grid_search.best_params_)\n",
        "print(\"Decision Tree Accuracy:\", grid_search.best_score_)"
      ]
    },
    {
      "cell_type": "code",
      "execution_count": 36,
      "metadata": {
        "colab": {
          "base_uri": "https://localhost:8080/"
        },
        "id": "YAal1D72QOCS",
        "outputId": "8fc646c5-e056-4df1-ce20-05239a5df866"
      },
      "outputs": [
        {
          "name": "stdout",
          "output_type": "stream",
          "text": [
            "[['LogisticRegression', 0.7194220981776391, {'C': 10, 'penalty': 'l2'}, 0.71876026272578, array([[ 762,  188,  241],\n",
            "       [ 265, 1562,  357],\n",
            "       [ 266,  390, 2060]]), '              precision    recall  f1-score   support\\n\\n           0       0.59      0.64      0.61      1191\\n           1       0.73      0.72      0.72      2184\\n           2       0.78      0.76      0.77      2716\\n\\n    accuracy                           0.72      6091\\n   macro avg       0.70      0.70      0.70      6091\\nweighted avg       0.72      0.72      0.72      6091\\n'], ['KNeighborsClassifier', 0.7207355114102775, {'metric': 'manhattan', 'n_neighbors': 9, 'weights': 'uniform'}, 0.7327586206896551, array([[ 906,  151,  134],\n",
            "       [ 302, 1555,  327],\n",
            "       [ 294,  386, 2036]]), '              precision    recall  f1-score   support\\n\\n           0       0.60      0.76      0.67      1191\\n           1       0.74      0.71      0.73      2184\\n           2       0.82      0.75      0.78      2716\\n\\n    accuracy                           0.74      6091\\n   macro avg       0.72      0.74      0.73      6091\\nweighted avg       0.75      0.74      0.74      6091\\n'], ['DecisionTreeClassifier', 0.6652438023313085, {'max_depth': 7, 'min_samples_leaf': 1, 'min_samples_split': 8}, 0.7552545155993432, array([[1072,   75,   44],\n",
            "       [ 370, 1521,  293],\n",
            "       [ 390,  345, 1981]]), '              precision    recall  f1-score   support\\n\\n           0       0.59      0.90      0.71      1191\\n           1       0.78      0.70      0.74      2184\\n           2       0.85      0.73      0.79      2716\\n\\n    accuracy                           0.75      6091\\n   macro avg       0.74      0.78      0.74      6091\\nweighted avg       0.78      0.75      0.75      6091\\n']]\n"
          ]
        }
      ],
      "source": [
        "print(results)"
      ]
    },
    {
      "cell_type": "code",
      "execution_count": 37,
      "metadata": {
        "colab": {
          "base_uri": "https://localhost:8080/"
        },
        "id": "UuLxMXxkQjyg",
        "outputId": "1d9c9eba-b06a-4213-eea5-f0577c1a4782"
      },
      "outputs": [
        {
          "name": "stdout",
          "output_type": "stream",
          "text": [
            "+------------------------+---------------------------+-----------------------------------------------------------------+--------------------+--------------------+-------------------------------------------------------+\n",
            "| Model                  | Accuracy (Traditional ML) | Best Hyperparameters                                            |  Accuracy (tuning) | cofusion metrix    |                                 Classification Report |\n",
            "+------------------------+---------------------------+-----------------------------------------------------------------+--------------------+--------------------+-------------------------------------------------------+\n",
            "| LogisticRegression     |        0.7194220981776391 | {'C': 10, 'penalty': 'l2'}                                      |   0.71876026272578 | [[ 762  188  241]  |               precision    recall  f1-score   support |\n",
            "|                        |                           |                                                                 |                    |  [ 265 1562  357]  |                                                       |\n",
            "|                        |                           |                                                                 |                    |  [ 266  390 2060]] |            0       0.59      0.64      0.61      1191 |\n",
            "|                        |                           |                                                                 |                    |                    |            1       0.73      0.72      0.72      2184 |\n",
            "|                        |                           |                                                                 |                    |                    |            2       0.78      0.76      0.77      2716 |\n",
            "|                        |                           |                                                                 |                    |                    |                                                       |\n",
            "|                        |                           |                                                                 |                    |                    |     accuracy                           0.72      6091 |\n",
            "|                        |                           |                                                                 |                    |                    |    macro avg       0.70      0.70      0.70      6091 |\n",
            "|                        |                           |                                                                 |                    |                    | weighted avg       0.72      0.72      0.72      6091 |\n",
            "|                        |                           |                                                                 |                    |                    |                                                       |\n",
            "| KNeighborsClassifier   |        0.7207355114102775 | {'metric': 'manhattan', 'n_neighbors': 9, 'weights': 'uniform'} | 0.7327586206896551 | [[ 906  151  134]  |               precision    recall  f1-score   support |\n",
            "|                        |                           |                                                                 |                    |  [ 302 1555  327]  |                                                       |\n",
            "|                        |                           |                                                                 |                    |  [ 294  386 2036]] |            0       0.60      0.76      0.67      1191 |\n",
            "|                        |                           |                                                                 |                    |                    |            1       0.74      0.71      0.73      2184 |\n",
            "|                        |                           |                                                                 |                    |                    |            2       0.82      0.75      0.78      2716 |\n",
            "|                        |                           |                                                                 |                    |                    |                                                       |\n",
            "|                        |                           |                                                                 |                    |                    |     accuracy                           0.74      6091 |\n",
            "|                        |                           |                                                                 |                    |                    |    macro avg       0.72      0.74      0.73      6091 |\n",
            "|                        |                           |                                                                 |                    |                    | weighted avg       0.75      0.74      0.74      6091 |\n",
            "|                        |                           |                                                                 |                    |                    |                                                       |\n",
            "| DecisionTreeClassifier |        0.6652438023313085 | {'max_depth': 7, 'min_samples_leaf': 1, 'min_samples_split': 8} | 0.7552545155993432 | [[1072   75   44]  |               precision    recall  f1-score   support |\n",
            "|                        |                           |                                                                 |                    |  [ 370 1521  293]  |                                                       |\n",
            "|                        |                           |                                                                 |                    |  [ 390  345 1981]] |            0       0.59      0.90      0.71      1191 |\n",
            "|                        |                           |                                                                 |                    |                    |            1       0.78      0.70      0.74      2184 |\n",
            "|                        |                           |                                                                 |                    |                    |            2       0.85      0.73      0.79      2716 |\n",
            "|                        |                           |                                                                 |                    |                    |                                                       |\n",
            "|                        |                           |                                                                 |                    |                    |     accuracy                           0.75      6091 |\n",
            "|                        |                           |                                                                 |                    |                    |    macro avg       0.74      0.78      0.74      6091 |\n",
            "|                        |                           |                                                                 |                    |                    | weighted avg       0.78      0.75      0.75      6091 |\n",
            "|                        |                           |                                                                 |                    |                    |                                                       |\n",
            "+------------------------+---------------------------+-----------------------------------------------------------------+--------------------+--------------------+-------------------------------------------------------+\n"
          ]
        }
      ],
      "source": [
        "from prettytable import PrettyTable\n",
        "\n",
        "# Create table object\n",
        "table = PrettyTable()\n",
        "\n",
        "# Add columns\n",
        "table.field_names = [\"Model\", \"Accuracy (Traditional ML)\", \"Best Hyperparameters\", \"Accuracy (tuning)\", 'cofusion metrix', 'Classification Report']\n",
        "\n",
        "# Add rows\n",
        "for row in results:\n",
        "    table.add_row(row)\n",
        "\n",
        "# Set alignment for each column\n",
        "table.align[\"Model\"] = \"l\"\n",
        "table.align[\"Accuracy (Traditional ML)\"] = \"r\"\n",
        "table.align[\"Best Hyperparameters\"] = \"l\"\n",
        "table.align[\"Accuracy (tuning)\"] = \"r\"\n",
        "table.align[\"cofusion metrix\"] = \"l\"\n",
        "table.align[\"Classification Report\"] = \"r\"\n",
        "# Print table\n",
        "print(table)\n"
      ]
    },
    {
      "cell_type": "markdown",
      "metadata": {
        "id": "fk771r9C4u9u"
      },
      "source": [
        "# **NEURAL NETWORK ALGORITHM**"
      ]
    },
    {
      "cell_type": "code",
      "execution_count": 38,
      "metadata": {
        "colab": {
          "base_uri": "https://localhost:8080/"
        },
        "id": "-QNbaFVMZZ7y",
        "outputId": "246e1fe8-7b7c-4fb2-863f-c70b59ac8573"
      },
      "outputs": [
        {
          "name": "stdout",
          "output_type": "stream",
          "text": [
            "Accuracy:  0.5102610408799869\n",
            "Confusion matrix:  [[ 561   66  564]\n",
            " [ 364  166 1654]\n",
            " [ 161  174 2381]]\n"
          ]
        }
      ],
      "source": [
        "from sklearn.neural_network import MLPClassifier\n",
        "mlp = MLPClassifier(hidden_layer_sizes=(100, 50), max_iter=500, random_state=42)\n",
        "mlp.fit(X_train[num_cols], y_train)\n",
        "y_pred = mlp.predict(X_test[num_cols])\n",
        "accuracy = accuracy_score(y_test, y_pred)\n",
        "confusion = confusion_matrix(y_test, y_pred)\n",
        "\n",
        "print(\"Accuracy: \", accuracy)\n",
        "print(\"Confusion matrix: \", confusion)"
      ]
    },
    {
      "cell_type": "code",
      "execution_count": 39,
      "metadata": {
        "colab": {
          "base_uri": "https://localhost:8080/"
        },
        "id": "iRk-IcQ9ZJVr",
        "outputId": "019fe500-0471-4d40-b087-bbf239f036a3"
      },
      "outputs": [
        {
          "name": "stdout",
          "output_type": "stream",
          "text": [
            "Accuracy: 0.7535708422262354\n"
          ]
        }
      ],
      "source": [
        "# Initialize and train the MLP classifier\n",
        "clf = MLPClassifier(hidden_layer_sizes=(100,), max_iter=1000, random_state=42)\n",
        "clf.fit(X_train, y_train)\n",
        "\n",
        "# Predict on the test data\n",
        "y_pred = clf.predict(X_test)\n",
        "\n",
        "# Calculate accuracy\n",
        "accuracy = accuracy_score(y_test, y_pred)\n",
        "print(f'Accuracy: {accuracy}')"
      ]
    },
    {
      "cell_type": "code",
      "execution_count": 40,
      "metadata": {
        "colab": {
          "base_uri": "https://localhost:8080/"
        },
        "id": "XXp3fehTaz6P",
        "outputId": "bc56c402-04fd-40be-ea37-a44972378656"
      },
      "outputs": [
        {
          "name": "stdout",
          "output_type": "stream",
          "text": [
            "MLP1 Accuracy: 0.7535708422262354\n",
            "MLP1 Confusion Matrix:\n",
            "[[1010  123   58]\n",
            " [ 323 1607  254]\n",
            " [ 366  377 1973]]\n",
            "MLP1 Precision: 0.7747312885613783\n",
            "MLP1 Recall: 0.7535708422262354\n",
            "MLP1 F1-score: 0.757074228856441\n",
            "MLP2 Accuracy: 0.7346905270070596\n",
            "MLP2 Confusion Matrix:\n",
            "[[ 951  135  105]\n",
            " [ 347 1545  292]\n",
            " [ 361  376 1979]]\n",
            "MLP2 Precision: 0.7529309048993795\n",
            "MLP2 Recall: 0.7346905270070596\n",
            "MLP2 F1-score: 0.7384038600613184\n",
            "MLP3 Accuracy: 0.7236906911837137\n",
            "MLP3 Confusion Matrix:\n",
            "[[ 853  174  164]\n",
            " [ 297 1542  345]\n",
            " [ 301  402 2013]]\n",
            "MLP3 Precision: 0.7319078693908894\n",
            "MLP3 Recall: 0.7236906911837137\n",
            "MLP3 F1-score: 0.7260332420767198\n"
          ]
        },
        {
          "name": "stderr",
          "output_type": "stream",
          "text": [
            "/usr/local/lib/python3.9/dist-packages/sklearn/neural_network/_multilayer_perceptron.py:693: UserWarning: Training interrupted by user.\n",
            "  warnings.warn(\"Training interrupted by user.\")\n"
          ]
        }
      ],
      "source": [
        "from sklearn.neural_network import MLPClassifier\n",
        "from sklearn.metrics import accuracy_score, confusion_matrix, precision_score, recall_score, f1_score\n",
        "\n",
        "# Define the MLP classifier with one hidden layer\n",
        "mlp1 = MLPClassifier(hidden_layer_sizes=(100,), max_iter=1000, random_state=42)\n",
        "\n",
        "# Train the classifier on the training data\n",
        "mlp1.fit(X_train, y_train)\n",
        "\n",
        "# Predict on the test data\n",
        "y_pred = mlp1.predict(X_test)\n",
        "\n",
        "# Calculate and print the accuracy score\n",
        "accuracy = accuracy_score(y_test, y_pred)\n",
        "print(\"MLP1 Accuracy:\", accuracy)\n",
        "\n",
        "# Calculate and print the confusion matrix\n",
        "confusion = confusion_matrix(y_test, y_pred)\n",
        "print(\"MLP1 Confusion Matrix:\")\n",
        "print(confusion)\n",
        "\n",
        "# Calculate and print the precision, recall, and F1-score\n",
        "precision = precision_score(y_test, y_pred, average='weighted')\n",
        "recall = recall_score(y_test, y_pred, average='weighted')\n",
        "f1 = f1_score(y_test, y_pred, average='weighted')\n",
        "print(\"MLP1 Precision:\", precision)\n",
        "print(\"MLP1 Recall:\", recall)\n",
        "print(\"MLP1 F1-score:\", f1)\n",
        "\n",
        "\n",
        "# Define the MLP classifier with two hidden layers\n",
        "mlp2 = MLPClassifier(hidden_layer_sizes=(100, 50), max_iter=1000, random_state=42)\n",
        "\n",
        "# Train the classifier on the training data\n",
        "mlp2.fit(X_train, y_train)\n",
        "\n",
        "# Predict on the test data\n",
        "y_pred = mlp2.predict(X_test)\n",
        "\n",
        "# Calculate and print the accuracy score\n",
        "accuracy = accuracy_score(y_test, y_pred)\n",
        "print(\"MLP2 Accuracy:\", accuracy)\n",
        "\n",
        "# Calculate and print the confusion matrix\n",
        "confusion = confusion_matrix(y_test, y_pred)\n",
        "print(\"MLP2 Confusion Matrix:\")\n",
        "print(confusion)\n",
        "\n",
        "# Calculate and print the precision, recall, and F1-score\n",
        "precision = precision_score(y_test, y_pred, average='weighted')\n",
        "recall = recall_score(y_test, y_pred, average='weighted')\n",
        "f1 = f1_score(y_test, y_pred, average='weighted')\n",
        "print(\"MLP2 Precision:\", precision)\n",
        "print(\"MLP2 Recall:\", recall)\n",
        "print(\"MLP2 F1-score:\", f1)\n",
        "\n",
        "\n",
        "# Define the MLP classifier with three hidden layers\n",
        "mlp3 = MLPClassifier(hidden_layer_sizes=(100, 50, 25), max_iter=1000, random_state=42)\n",
        "\n",
        "# Train the classifier on the training data\n",
        "mlp3.fit(X_train, y_train)\n",
        "\n",
        "# Predict on the test data\n",
        "y_pred = mlp3.predict(X_test)\n",
        "\n",
        "# Calculate and print the accuracy score\n",
        "accuracy = accuracy_score(y_test, y_pred)\n",
        "print(\"MLP3 Accuracy:\", accuracy)\n",
        "\n",
        "# Calculate and print the confusion matrix\n",
        "confusion = confusion_matrix(y_test, y_pred)\n",
        "print(\"MLP3 Confusion Matrix:\")\n",
        "print(confusion)\n",
        "\n",
        "# Calculate and print the precision, recall, and F1-score\n",
        "precision = precision_score(y_test, y_pred, average='weighted')\n",
        "recall = recall_score(y_test, y_pred, average='weighted')\n",
        "f1 = f1_score(y_test, y_pred, average='weighted')\n",
        "print(\"MLP3 Precision:\", precision)\n",
        "print(\"MLP3 Recall:\", recall)\n",
        "print(\"MLP3 F1-score:\", f1)\n"
      ]
    },
    {
      "cell_type": "code",
      "execution_count": 41,
      "metadata": {
        "colab": {
          "base_uri": "https://localhost:8080/",
          "height": 633
        },
        "id": "q-IsuPXtaNMI",
        "outputId": "367c3857-98ba-4a88-e90b-5a82bcee1b2a"
      },
      "outputs": [
        {
          "name": "stdout",
          "output_type": "stream",
          "text": [
            "Accuracy: 0.7346905270070596\n",
            "Precision: 0.7529309048993795\n",
            "Recall: 0.7346905270070596\n",
            "F1-score: 0.7384038600613184\n"
          ]
        },
        {
          "data": {
            "image/png": "[encoded data removed]",
            "text/plain": [
              "<Figure size 800x600 with 2 Axes>"
            ]
          },
          "metadata": {},
          "output_type": "display_data"
        }
      ],
      "source": [
        "from sklearn.neural_network import MLPClassifier\n",
        "from sklearn.metrics import accuracy_score, precision_score, recall_score, f1_score, confusion_matrix\n",
        "import matplotlib.pyplot as plt\n",
        "import seaborn as sns\n",
        "\n",
        "# Initialize and train the MLP classifier\n",
        "mlp = MLPClassifier(hidden_layer_sizes=(100, 50), max_iter=500, random_state=42)\n",
        "mlp.fit(X_train, y_train)\n",
        "\n",
        "# Predict on the test data\n",
        "y_pred = mlp.predict(X_test)\n",
        "\n",
        "# Calculate accuracy\n",
        "accuracy = accuracy_score(y_test, y_pred)\n",
        "\n",
        "# Calculate precision\n",
        "precision = precision_score(y_test, y_pred, average='weighted')\n",
        "\n",
        "# Calculate recall\n",
        "recall = recall_score(y_test, y_pred, average='weighted')\n",
        "\n",
        "# Calculate F1-score\n",
        "f1 = f1_score(y_test, y_pred, average='weighted')\n",
        "\n",
        "# Calculate confusion matrix\n",
        "confusion = confusion_matrix(y_test, y_pred)\n",
        "\n",
        "# Print performance metrics\n",
        "print(f'Accuracy: {accuracy}')\n",
        "print(f'Precision: {precision}')\n",
        "print(f'Recall: {recall}')\n",
        "print(f'F1-score: {f1}')\n",
        "\n",
        "# Visualize confusion matrix\n",
        "plt.figure(figsize=(8, 6))\n",
        "sns.heatmap(confusion, annot=True, cmap=\"Blues\", fmt=\"d\")\n",
        "plt.xlabel('Predicted')\n",
        "plt.ylabel('True')\n",
        "plt.title('Confusion Matrix')\n",
        "plt.show()"
      ]
    },
    {
      "cell_type": "code",
      "execution_count": null,
      "metadata": {
        "id": "OrP16puN8hPw"
      },
      "outputs": [],
      "source": [
        "from sklearn.neural_network import MLPClassifier\n",
        "from sklearn.model_selection import GridSearchCV\n",
        "from sklearn.metrics import accuracy_score, confusion_matrix, classification_report\n",
        "\n",
        "# Define MLP classifier\n",
        "mlp = MLPClassifier(hidden_layer_sizes=(100,), max_iter=1000, random_state=42)\n",
        "\n",
        "# Define hyperparameters to tune\n",
        "param_grid = {\n",
        "    'hidden_layer_sizes': [(100,), (50, 50), (100, 50)],\n",
        "    'activation': ['relu', 'tanh', 'logistic'],\n",
        "    'solver': ['adam', 'lbfgs'],\n",
        "    'alpha': [0.0001, 0.001, 0.01],\n",
        "    'learning_rate': ['constant', 'invscaling', 'adaptive']\n",
        "}\n",
        "\n",
        "# Define GridSearchCV object\n",
        "grid_search = GridSearchCV(mlp, param_grid=param_grid, cv=5)\n",
        "\n",
        "# Fit GridSearchCV object to training data\n",
        "grid_search.fit(X_train, y_train)\n",
        "\n",
        "# Print best hyperparameters and accuracy score\n",
        "print(\"Best hyperparameters: \", grid_search.best_params_)\n",
        "print(\"Best accuracy:\", grid_search.best_score_)\n",
        "\n",
        "# Predict on test data with tuned model\n",
        "y_pred_tuned = grid_search.predict(X_test)\n",
        "\n",
        "# Calculate accuracy, confusion matrix, and performance metrics with tuned model\n",
        "accuracy_tuned = accuracy_score(y_test, y_pred_tuned)\n",
        "confusion_tuned = confusion_matrix(y_test, y_pred_tuned)\n",
        "report_tuned = classification_report(y_test, y_pred_tuned)\n",
        "\n",
        "# Print results with tuned model\n",
        "print(\"Tuned MLP Classifier Results:\")\n",
        "print(\"Accuracy: \", accuracy_tuned)\n",
        "print(\"Confusion matrix: \\n\", confusion_tuned)\n",
        "print(\"Classification report: \\n\", report_tuned)\n"
      ]
    }
  ],
  "metadata": {
    "colab": {
      "provenance": []
    },
    "kernelspec": {
      "display_name": "Python 3",
      "name": "python3"
    },
    "language_info": {
      "name": "python"
    }
  },
  "nbformat": 4,
  "nbformat_minor": 0
}
